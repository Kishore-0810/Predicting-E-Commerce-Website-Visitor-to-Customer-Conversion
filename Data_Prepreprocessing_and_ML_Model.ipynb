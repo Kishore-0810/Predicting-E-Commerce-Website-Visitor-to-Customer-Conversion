{
 "cells": [
  {
   "cell_type": "markdown",
   "metadata": {},
   "source": [
    "# **Data Preprocessing**"
   ]
  },
  {
   "cell_type": "code",
   "execution_count": 1,
   "metadata": {},
   "outputs": [],
   "source": [
    "# importing the necessary libraries\n",
    "import pandas as pd\n",
    "import seaborn as sns\n",
    "from matplotlib import pyplot as plt \n",
    "import pickle"
   ]
  },
  {
   "cell_type": "code",
   "execution_count": 2,
   "metadata": {},
   "outputs": [
    {
     "data": {
      "text/html": [
       "<div>\n",
       "<style scoped>\n",
       "    .dataframe tbody tr th:only-of-type {\n",
       "        vertical-align: middle;\n",
       "    }\n",
       "\n",
       "    .dataframe tbody tr th {\n",
       "        vertical-align: top;\n",
       "    }\n",
       "\n",
       "    .dataframe thead th {\n",
       "        text-align: right;\n",
       "    }\n",
       "</style>\n",
       "<table border=\"1\" class=\"dataframe\">\n",
       "  <thead>\n",
       "    <tr style=\"text-align: right;\">\n",
       "      <th></th>\n",
       "      <th>count_session</th>\n",
       "      <th>count_hit</th>\n",
       "      <th>channelGrouping</th>\n",
       "      <th>totals_newVisits</th>\n",
       "      <th>device_browser</th>\n",
       "      <th>device_operatingSystem</th>\n",
       "      <th>device_isMobile</th>\n",
       "      <th>device_deviceCategory</th>\n",
       "      <th>geoNetwork_region</th>\n",
       "      <th>geoNetwork_latitude</th>\n",
       "      <th>...</th>\n",
       "      <th>latest_keyword</th>\n",
       "      <th>earliest_isTrueDirect</th>\n",
       "      <th>latest_isTrueDirect</th>\n",
       "      <th>num_interactions</th>\n",
       "      <th>bounces</th>\n",
       "      <th>time_on_site</th>\n",
       "      <th>transactionRevenue</th>\n",
       "      <th>products_array</th>\n",
       "      <th>has_converted</th>\n",
       "      <th>target_date</th>\n",
       "    </tr>\n",
       "  </thead>\n",
       "  <tbody>\n",
       "    <tr>\n",
       "      <th>0</th>\n",
       "      <td>9</td>\n",
       "      <td>1194</td>\n",
       "      <td>(Other)</td>\n",
       "      <td>0</td>\n",
       "      <td>GoogleAnalytics</td>\n",
       "      <td>Android</td>\n",
       "      <td>True</td>\n",
       "      <td>mobile</td>\n",
       "      <td>Sharjah</td>\n",
       "      <td>25.3463</td>\n",
       "      <td>...</td>\n",
       "      <td>(not set)</td>\n",
       "      <td>True</td>\n",
       "      <td>True</td>\n",
       "      <td>1900</td>\n",
       "      <td>0</td>\n",
       "      <td>5617</td>\n",
       "      <td>0</td>\n",
       "      <td>food////food////food</td>\n",
       "      <td>0</td>\n",
       "      <td>2021-01-01</td>\n",
       "    </tr>\n",
       "    <tr>\n",
       "      <th>1</th>\n",
       "      <td>9</td>\n",
       "      <td>1194</td>\n",
       "      <td>(Other)</td>\n",
       "      <td>0</td>\n",
       "      <td>GoogleAnalytics</td>\n",
       "      <td>Android</td>\n",
       "      <td>True</td>\n",
       "      <td>mobile</td>\n",
       "      <td>Sharjah</td>\n",
       "      <td>25.3463</td>\n",
       "      <td>...</td>\n",
       "      <td>(not set)</td>\n",
       "      <td>True</td>\n",
       "      <td>True</td>\n",
       "      <td>1900</td>\n",
       "      <td>0</td>\n",
       "      <td>5617</td>\n",
       "      <td>0</td>\n",
       "      <td>food////food////food</td>\n",
       "      <td>0</td>\n",
       "      <td>2021-01-01</td>\n",
       "    </tr>\n",
       "    <tr>\n",
       "      <th>2</th>\n",
       "      <td>28</td>\n",
       "      <td>1816</td>\n",
       "      <td>Paid Search</td>\n",
       "      <td>0</td>\n",
       "      <td>GoogleAnalytics</td>\n",
       "      <td>Android</td>\n",
       "      <td>True</td>\n",
       "      <td>mobile</td>\n",
       "      <td>Ajman</td>\n",
       "      <td>25.4052</td>\n",
       "      <td>...</td>\n",
       "      <td>(automatic matching)</td>\n",
       "      <td>True</td>\n",
       "      <td>True</td>\n",
       "      <td>3843</td>\n",
       "      <td>0</td>\n",
       "      <td>77417</td>\n",
       "      <td>1477195214</td>\n",
       "      <td>(not set)////baby_products--milk,_food_&amp;_juice...</td>\n",
       "      <td>1</td>\n",
       "      <td>2021-01-01</td>\n",
       "    </tr>\n",
       "    <tr>\n",
       "      <th>3</th>\n",
       "      <td>2</td>\n",
       "      <td>299</td>\n",
       "      <td>Paid Search</td>\n",
       "      <td>0</td>\n",
       "      <td>GoogleAnalytics</td>\n",
       "      <td>Android</td>\n",
       "      <td>True</td>\n",
       "      <td>mobile</td>\n",
       "      <td>Abu Dhabi</td>\n",
       "      <td>24.4539</td>\n",
       "      <td>...</td>\n",
       "      <td>custom0==marketplace&amp;+id==*</td>\n",
       "      <td>True</td>\n",
       "      <td>True</td>\n",
       "      <td>592</td>\n",
       "      <td>0</td>\n",
       "      <td>1576</td>\n",
       "      <td>0</td>\n",
       "      <td>food////food</td>\n",
       "      <td>0</td>\n",
       "      <td>2021-01-01</td>\n",
       "    </tr>\n",
       "    <tr>\n",
       "      <th>4</th>\n",
       "      <td>2</td>\n",
       "      <td>299</td>\n",
       "      <td>Paid Search</td>\n",
       "      <td>0</td>\n",
       "      <td>GoogleAnalytics</td>\n",
       "      <td>Android</td>\n",
       "      <td>True</td>\n",
       "      <td>mobile</td>\n",
       "      <td>Abu Dhabi</td>\n",
       "      <td>24.4539</td>\n",
       "      <td>...</td>\n",
       "      <td>custom0==marketplace&amp;+id==*</td>\n",
       "      <td>True</td>\n",
       "      <td>True</td>\n",
       "      <td>592</td>\n",
       "      <td>0</td>\n",
       "      <td>1576</td>\n",
       "      <td>0</td>\n",
       "      <td>food////food</td>\n",
       "      <td>0</td>\n",
       "      <td>2021-01-01</td>\n",
       "    </tr>\n",
       "  </tbody>\n",
       "</table>\n",
       "<p>5 rows × 46 columns</p>\n",
       "</div>"
      ],
      "text/plain": [
       "   count_session  count_hit channelGrouping  totals_newVisits  \\\n",
       "0              9       1194         (Other)                 0   \n",
       "1              9       1194         (Other)                 0   \n",
       "2             28       1816     Paid Search                 0   \n",
       "3              2        299     Paid Search                 0   \n",
       "4              2        299     Paid Search                 0   \n",
       "\n",
       "    device_browser device_operatingSystem  device_isMobile  \\\n",
       "0  GoogleAnalytics                Android             True   \n",
       "1  GoogleAnalytics                Android             True   \n",
       "2  GoogleAnalytics                Android             True   \n",
       "3  GoogleAnalytics                Android             True   \n",
       "4  GoogleAnalytics                Android             True   \n",
       "\n",
       "  device_deviceCategory geoNetwork_region  geoNetwork_latitude  ...  \\\n",
       "0                mobile           Sharjah              25.3463  ...   \n",
       "1                mobile           Sharjah              25.3463  ...   \n",
       "2                mobile             Ajman              25.4052  ...   \n",
       "3                mobile         Abu Dhabi              24.4539  ...   \n",
       "4                mobile         Abu Dhabi              24.4539  ...   \n",
       "\n",
       "                latest_keyword  earliest_isTrueDirect  latest_isTrueDirect  \\\n",
       "0                    (not set)                   True                 True   \n",
       "1                    (not set)                   True                 True   \n",
       "2         (automatic matching)                   True                 True   \n",
       "3  custom0==marketplace&+id==*                   True                 True   \n",
       "4  custom0==marketplace&+id==*                   True                 True   \n",
       "\n",
       "   num_interactions  bounces  time_on_site  transactionRevenue  \\\n",
       "0              1900        0          5617                   0   \n",
       "1              1900        0          5617                   0   \n",
       "2              3843        0         77417          1477195214   \n",
       "3               592        0          1576                   0   \n",
       "4               592        0          1576                   0   \n",
       "\n",
       "                                      products_array  has_converted  \\\n",
       "0                               food////food////food              0   \n",
       "1                               food////food////food              0   \n",
       "2  (not set)////baby_products--milk,_food_&_juice...              1   \n",
       "3                                       food////food              0   \n",
       "4                                       food////food              0   \n",
       "\n",
       "   target_date  \n",
       "0   2021-01-01  \n",
       "1   2021-01-01  \n",
       "2   2021-01-01  \n",
       "3   2021-01-01  \n",
       "4   2021-01-01  \n",
       "\n",
       "[5 rows x 46 columns]"
      ]
     },
     "execution_count": 2,
     "metadata": {},
     "output_type": "execute_result"
    }
   ],
   "source": [
    "# reading the csv file\n",
    "df = pd.read_csv(\"classification_data.csv\")\n",
    "# top five rows\n",
    "df.head()"
   ]
  },
  {
   "cell_type": "code",
   "execution_count": 3,
   "metadata": {},
   "outputs": [
    {
     "data": {
      "text/html": [
       "<div>\n",
       "<style scoped>\n",
       "    .dataframe tbody tr th:only-of-type {\n",
       "        vertical-align: middle;\n",
       "    }\n",
       "\n",
       "    .dataframe tbody tr th {\n",
       "        vertical-align: top;\n",
       "    }\n",
       "\n",
       "    .dataframe thead th {\n",
       "        text-align: right;\n",
       "    }\n",
       "</style>\n",
       "<table border=\"1\" class=\"dataframe\">\n",
       "  <thead>\n",
       "    <tr style=\"text-align: right;\">\n",
       "      <th></th>\n",
       "      <th>historic_session</th>\n",
       "      <th>historic_session_page</th>\n",
       "      <th>youtube</th>\n",
       "      <th>avg_session_time</th>\n",
       "      <th>avg_session_time_page</th>\n",
       "      <th>single_page_rate</th>\n",
       "      <th>sessionQualityDim</th>\n",
       "      <th>last_visitId</th>\n",
       "      <th>latest_visit_id</th>\n",
       "      <th>visitId_threshold</th>\n",
       "      <th>earliest_visit_id</th>\n",
       "      <th>earliest_visit_number</th>\n",
       "      <th>latest_visit_number</th>\n",
       "      <th>time_earliest_visit</th>\n",
       "      <th>time_latest_visit</th>\n",
       "      <th>avg_visit_time</th>\n",
       "      <th>days_since_last_visit</th>\n",
       "      <th>days_since_first_visit</th>\n",
       "      <th>visits_per_day</th>\n",
       "      <th>bounce_rate</th>\n",
       "    </tr>\n",
       "  </thead>\n",
       "  <tbody>\n",
       "    <tr>\n",
       "      <th>0</th>\n",
       "      <td>6504</td>\n",
       "      <td>1254</td>\n",
       "      <td>0</td>\n",
       "      <td>722.666667</td>\n",
       "      <td>139.333333</td>\n",
       "      <td>0.777778</td>\n",
       "      <td>6</td>\n",
       "      <td>1619809803</td>\n",
       "      <td>1619809803</td>\n",
       "      <td>1617217803</td>\n",
       "      <td>1618315539</td>\n",
       "      <td>24</td>\n",
       "      <td>32</td>\n",
       "      <td>12.08</td>\n",
       "      <td>19.17</td>\n",
       "      <td>18</td>\n",
       "      <td>0</td>\n",
       "      <td>17</td>\n",
       "      <td>66.333333</td>\n",
       "      <td>0.0</td>\n",
       "    </tr>\n",
       "    <tr>\n",
       "      <th>1</th>\n",
       "      <td>6504</td>\n",
       "      <td>1254</td>\n",
       "      <td>0</td>\n",
       "      <td>722.666667</td>\n",
       "      <td>139.333333</td>\n",
       "      <td>0.777778</td>\n",
       "      <td>6</td>\n",
       "      <td>1619809803</td>\n",
       "      <td>1619809803</td>\n",
       "      <td>1617217803</td>\n",
       "      <td>1618315539</td>\n",
       "      <td>24</td>\n",
       "      <td>32</td>\n",
       "      <td>12.08</td>\n",
       "      <td>19.17</td>\n",
       "      <td>18</td>\n",
       "      <td>0</td>\n",
       "      <td>17</td>\n",
       "      <td>66.333333</td>\n",
       "      <td>0.0</td>\n",
       "    </tr>\n",
       "    <tr>\n",
       "      <th>2</th>\n",
       "      <td>12466</td>\n",
       "      <td>4963</td>\n",
       "      <td>0</td>\n",
       "      <td>445.214286</td>\n",
       "      <td>177.250000</td>\n",
       "      <td>0.821429</td>\n",
       "      <td>4</td>\n",
       "      <td>1619867532</td>\n",
       "      <td>1619867532</td>\n",
       "      <td>1617275532</td>\n",
       "      <td>1617821952</td>\n",
       "      <td>8</td>\n",
       "      <td>62</td>\n",
       "      <td>18.98</td>\n",
       "      <td>11.20</td>\n",
       "      <td>11</td>\n",
       "      <td>0</td>\n",
       "      <td>24</td>\n",
       "      <td>73.480000</td>\n",
       "      <td>0.0</td>\n",
       "    </tr>\n",
       "    <tr>\n",
       "      <th>3</th>\n",
       "      <td>1575</td>\n",
       "      <td>0</td>\n",
       "      <td>0</td>\n",
       "      <td>787.500000</td>\n",
       "      <td>0.000000</td>\n",
       "      <td>1.000000</td>\n",
       "      <td>42</td>\n",
       "      <td>1617893676</td>\n",
       "      <td>1617893676</td>\n",
       "      <td>1615301676</td>\n",
       "      <td>1617297920</td>\n",
       "      <td>46</td>\n",
       "      <td>47</td>\n",
       "      <td>17.42</td>\n",
       "      <td>14.90</td>\n",
       "      <td>17</td>\n",
       "      <td>0</td>\n",
       "      <td>7</td>\n",
       "      <td>37.375000</td>\n",
       "      <td>0.0</td>\n",
       "    </tr>\n",
       "    <tr>\n",
       "      <th>4</th>\n",
       "      <td>1575</td>\n",
       "      <td>0</td>\n",
       "      <td>0</td>\n",
       "      <td>787.500000</td>\n",
       "      <td>0.000000</td>\n",
       "      <td>1.000000</td>\n",
       "      <td>42</td>\n",
       "      <td>1617893676</td>\n",
       "      <td>1617893676</td>\n",
       "      <td>1615301676</td>\n",
       "      <td>1617297920</td>\n",
       "      <td>46</td>\n",
       "      <td>47</td>\n",
       "      <td>17.42</td>\n",
       "      <td>14.90</td>\n",
       "      <td>17</td>\n",
       "      <td>0</td>\n",
       "      <td>7</td>\n",
       "      <td>37.375000</td>\n",
       "      <td>0.0</td>\n",
       "    </tr>\n",
       "  </tbody>\n",
       "</table>\n",
       "</div>"
      ],
      "text/plain": [
       "   historic_session  historic_session_page  youtube  avg_session_time  \\\n",
       "0              6504                   1254        0        722.666667   \n",
       "1              6504                   1254        0        722.666667   \n",
       "2             12466                   4963        0        445.214286   \n",
       "3              1575                      0        0        787.500000   \n",
       "4              1575                      0        0        787.500000   \n",
       "\n",
       "   avg_session_time_page  single_page_rate  sessionQualityDim  last_visitId  \\\n",
       "0             139.333333          0.777778                  6    1619809803   \n",
       "1             139.333333          0.777778                  6    1619809803   \n",
       "2             177.250000          0.821429                  4    1619867532   \n",
       "3               0.000000          1.000000                 42    1617893676   \n",
       "4               0.000000          1.000000                 42    1617893676   \n",
       "\n",
       "   latest_visit_id  visitId_threshold  earliest_visit_id  \\\n",
       "0       1619809803         1617217803         1618315539   \n",
       "1       1619809803         1617217803         1618315539   \n",
       "2       1619867532         1617275532         1617821952   \n",
       "3       1617893676         1615301676         1617297920   \n",
       "4       1617893676         1615301676         1617297920   \n",
       "\n",
       "   earliest_visit_number  latest_visit_number  time_earliest_visit  \\\n",
       "0                     24                   32                12.08   \n",
       "1                     24                   32                12.08   \n",
       "2                      8                   62                18.98   \n",
       "3                     46                   47                17.42   \n",
       "4                     46                   47                17.42   \n",
       "\n",
       "   time_latest_visit  avg_visit_time  days_since_last_visit  \\\n",
       "0              19.17              18                      0   \n",
       "1              19.17              18                      0   \n",
       "2              11.20              11                      0   \n",
       "3              14.90              17                      0   \n",
       "4              14.90              17                      0   \n",
       "\n",
       "   days_since_first_visit  visits_per_day  bounce_rate  \n",
       "0                      17       66.333333          0.0  \n",
       "1                      17       66.333333          0.0  \n",
       "2                      24       73.480000          0.0  \n",
       "3                       7       37.375000          0.0  \n",
       "4                       7       37.375000          0.0  "
      ]
     },
     "execution_count": 3,
     "metadata": {},
     "output_type": "execute_result"
    }
   ],
   "source": [
    "df.iloc[:, 11:31].head()"
   ]
  },
  {
   "cell_type": "code",
   "execution_count": 4,
   "metadata": {},
   "outputs": [
    {
     "data": {
      "text/html": [
       "<div>\n",
       "<style scoped>\n",
       "    .dataframe tbody tr th:only-of-type {\n",
       "        vertical-align: middle;\n",
       "    }\n",
       "\n",
       "    .dataframe tbody tr th {\n",
       "        vertical-align: top;\n",
       "    }\n",
       "\n",
       "    .dataframe thead th {\n",
       "        text-align: right;\n",
       "    }\n",
       "</style>\n",
       "<table border=\"1\" class=\"dataframe\">\n",
       "  <thead>\n",
       "    <tr style=\"text-align: right;\">\n",
       "      <th></th>\n",
       "      <th>earliest_source</th>\n",
       "      <th>latest_source</th>\n",
       "      <th>earliest_medium</th>\n",
       "      <th>latest_medium</th>\n",
       "      <th>earliest_keyword</th>\n",
       "      <th>latest_keyword</th>\n",
       "      <th>earliest_isTrueDirect</th>\n",
       "      <th>latest_isTrueDirect</th>\n",
       "      <th>num_interactions</th>\n",
       "      <th>bounces</th>\n",
       "      <th>time_on_site</th>\n",
       "      <th>transactionRevenue</th>\n",
       "      <th>products_array</th>\n",
       "      <th>has_converted</th>\n",
       "      <th>target_date</th>\n",
       "    </tr>\n",
       "  </thead>\n",
       "  <tbody>\n",
       "    <tr>\n",
       "      <th>0</th>\n",
       "      <td>gulfnews</td>\n",
       "      <td>gulfnews</td>\n",
       "      <td>app</td>\n",
       "      <td>app</td>\n",
       "      <td>(not set)</td>\n",
       "      <td>(not set)</td>\n",
       "      <td>True</td>\n",
       "      <td>True</td>\n",
       "      <td>1900</td>\n",
       "      <td>0</td>\n",
       "      <td>5617</td>\n",
       "      <td>0</td>\n",
       "      <td>food////food////food</td>\n",
       "      <td>0</td>\n",
       "      <td>2021-01-01</td>\n",
       "    </tr>\n",
       "    <tr>\n",
       "      <th>1</th>\n",
       "      <td>gulfnews</td>\n",
       "      <td>gulfnews</td>\n",
       "      <td>app</td>\n",
       "      <td>app</td>\n",
       "      <td>(not set)</td>\n",
       "      <td>(not set)</td>\n",
       "      <td>True</td>\n",
       "      <td>True</td>\n",
       "      <td>1900</td>\n",
       "      <td>0</td>\n",
       "      <td>5617</td>\n",
       "      <td>0</td>\n",
       "      <td>food////food////food</td>\n",
       "      <td>0</td>\n",
       "      <td>2021-01-01</td>\n",
       "    </tr>\n",
       "    <tr>\n",
       "      <th>2</th>\n",
       "      <td>(direct)</td>\n",
       "      <td>google</td>\n",
       "      <td>(none)</td>\n",
       "      <td>cpc</td>\n",
       "      <td>(not set)</td>\n",
       "      <td>(automatic matching)</td>\n",
       "      <td>True</td>\n",
       "      <td>True</td>\n",
       "      <td>3843</td>\n",
       "      <td>0</td>\n",
       "      <td>77417</td>\n",
       "      <td>1477195214</td>\n",
       "      <td>(not set)////baby_products--milk,_food_&amp;_juice...</td>\n",
       "      <td>1</td>\n",
       "      <td>2021-01-01</td>\n",
       "    </tr>\n",
       "    <tr>\n",
       "      <th>3</th>\n",
       "      <td>google</td>\n",
       "      <td>google</td>\n",
       "      <td>cpc</td>\n",
       "      <td>cpc</td>\n",
       "      <td>custom0==marketplace&amp;+id==*</td>\n",
       "      <td>custom0==marketplace&amp;+id==*</td>\n",
       "      <td>True</td>\n",
       "      <td>True</td>\n",
       "      <td>592</td>\n",
       "      <td>0</td>\n",
       "      <td>1576</td>\n",
       "      <td>0</td>\n",
       "      <td>food////food</td>\n",
       "      <td>0</td>\n",
       "      <td>2021-01-01</td>\n",
       "    </tr>\n",
       "    <tr>\n",
       "      <th>4</th>\n",
       "      <td>google</td>\n",
       "      <td>google</td>\n",
       "      <td>cpc</td>\n",
       "      <td>cpc</td>\n",
       "      <td>custom0==marketplace&amp;+id==*</td>\n",
       "      <td>custom0==marketplace&amp;+id==*</td>\n",
       "      <td>True</td>\n",
       "      <td>True</td>\n",
       "      <td>592</td>\n",
       "      <td>0</td>\n",
       "      <td>1576</td>\n",
       "      <td>0</td>\n",
       "      <td>food////food</td>\n",
       "      <td>0</td>\n",
       "      <td>2021-01-01</td>\n",
       "    </tr>\n",
       "  </tbody>\n",
       "</table>\n",
       "</div>"
      ],
      "text/plain": [
       "  earliest_source latest_source earliest_medium latest_medium  \\\n",
       "0        gulfnews      gulfnews             app           app   \n",
       "1        gulfnews      gulfnews             app           app   \n",
       "2        (direct)        google          (none)           cpc   \n",
       "3          google        google             cpc           cpc   \n",
       "4          google        google             cpc           cpc   \n",
       "\n",
       "              earliest_keyword               latest_keyword  \\\n",
       "0                    (not set)                    (not set)   \n",
       "1                    (not set)                    (not set)   \n",
       "2                    (not set)         (automatic matching)   \n",
       "3  custom0==marketplace&+id==*  custom0==marketplace&+id==*   \n",
       "4  custom0==marketplace&+id==*  custom0==marketplace&+id==*   \n",
       "\n",
       "   earliest_isTrueDirect  latest_isTrueDirect  num_interactions  bounces  \\\n",
       "0                   True                 True              1900        0   \n",
       "1                   True                 True              1900        0   \n",
       "2                   True                 True              3843        0   \n",
       "3                   True                 True               592        0   \n",
       "4                   True                 True               592        0   \n",
       "\n",
       "   time_on_site  transactionRevenue  \\\n",
       "0          5617                   0   \n",
       "1          5617                   0   \n",
       "2         77417          1477195214   \n",
       "3          1576                   0   \n",
       "4          1576                   0   \n",
       "\n",
       "                                      products_array  has_converted  \\\n",
       "0                               food////food////food              0   \n",
       "1                               food////food////food              0   \n",
       "2  (not set)////baby_products--milk,_food_&_juice...              1   \n",
       "3                                       food////food              0   \n",
       "4                                       food////food              0   \n",
       "\n",
       "  target_date  \n",
       "0  2021-01-01  \n",
       "1  2021-01-01  \n",
       "2  2021-01-01  \n",
       "3  2021-01-01  \n",
       "4  2021-01-01  "
      ]
     },
     "execution_count": 4,
     "metadata": {},
     "output_type": "execute_result"
    }
   ],
   "source": [
    "df.iloc[:, 31:46].head()"
   ]
  },
  {
   "cell_type": "code",
   "execution_count": 5,
   "metadata": {},
   "outputs": [
    {
     "data": {
      "text/html": [
       "<div>\n",
       "<style scoped>\n",
       "    .dataframe tbody tr th:only-of-type {\n",
       "        vertical-align: middle;\n",
       "    }\n",
       "\n",
       "    .dataframe tbody tr th {\n",
       "        vertical-align: top;\n",
       "    }\n",
       "\n",
       "    .dataframe thead th {\n",
       "        text-align: right;\n",
       "    }\n",
       "</style>\n",
       "<table border=\"1\" class=\"dataframe\">\n",
       "  <thead>\n",
       "    <tr style=\"text-align: right;\">\n",
       "      <th></th>\n",
       "      <th>count_session</th>\n",
       "      <th>count_hit</th>\n",
       "      <th>channelGrouping</th>\n",
       "      <th>totals_newVisits</th>\n",
       "      <th>device_browser</th>\n",
       "      <th>device_operatingSystem</th>\n",
       "      <th>device_isMobile</th>\n",
       "      <th>device_deviceCategory</th>\n",
       "      <th>geoNetwork_region</th>\n",
       "      <th>geoNetwork_latitude</th>\n",
       "      <th>...</th>\n",
       "      <th>latest_keyword</th>\n",
       "      <th>earliest_isTrueDirect</th>\n",
       "      <th>latest_isTrueDirect</th>\n",
       "      <th>num_interactions</th>\n",
       "      <th>bounces</th>\n",
       "      <th>time_on_site</th>\n",
       "      <th>transactionRevenue</th>\n",
       "      <th>products_array</th>\n",
       "      <th>has_converted</th>\n",
       "      <th>target_date</th>\n",
       "    </tr>\n",
       "  </thead>\n",
       "  <tbody>\n",
       "    <tr>\n",
       "      <th>99995</th>\n",
       "      <td>58</td>\n",
       "      <td>12340</td>\n",
       "      <td>Paid Search</td>\n",
       "      <td>0</td>\n",
       "      <td>GoogleAnalytics</td>\n",
       "      <td>iOS</td>\n",
       "      <td>True</td>\n",
       "      <td>mobile</td>\n",
       "      <td>Dubai</td>\n",
       "      <td>25.2048</td>\n",
       "      <td>...</td>\n",
       "      <td>custom0==marketplace&amp;+id==*</td>\n",
       "      <td>True</td>\n",
       "      <td>True</td>\n",
       "      <td>34999</td>\n",
       "      <td>0</td>\n",
       "      <td>0</td>\n",
       "      <td>149151662</td>\n",
       "      <td>baby_products--milk,_food_&amp;_juices--baby_&amp;_tod...</td>\n",
       "      <td>1</td>\n",
       "      <td>2021-01-01</td>\n",
       "    </tr>\n",
       "    <tr>\n",
       "      <th>99996</th>\n",
       "      <td>58</td>\n",
       "      <td>12340</td>\n",
       "      <td>Paid Search</td>\n",
       "      <td>0</td>\n",
       "      <td>GoogleAnalytics</td>\n",
       "      <td>iOS</td>\n",
       "      <td>True</td>\n",
       "      <td>mobile</td>\n",
       "      <td>Dubai</td>\n",
       "      <td>25.2048</td>\n",
       "      <td>...</td>\n",
       "      <td>custom0==marketplace&amp;+id==*</td>\n",
       "      <td>True</td>\n",
       "      <td>True</td>\n",
       "      <td>34999</td>\n",
       "      <td>0</td>\n",
       "      <td>0</td>\n",
       "      <td>149151662</td>\n",
       "      <td>baby_products--milk,_food_&amp;_juices--baby_&amp;_tod...</td>\n",
       "      <td>1</td>\n",
       "      <td>2021-01-01</td>\n",
       "    </tr>\n",
       "    <tr>\n",
       "      <th>99997</th>\n",
       "      <td>58</td>\n",
       "      <td>12340</td>\n",
       "      <td>Paid Search</td>\n",
       "      <td>0</td>\n",
       "      <td>GoogleAnalytics</td>\n",
       "      <td>iOS</td>\n",
       "      <td>True</td>\n",
       "      <td>mobile</td>\n",
       "      <td>Dubai</td>\n",
       "      <td>25.2048</td>\n",
       "      <td>...</td>\n",
       "      <td>custom0==marketplace&amp;+id==*</td>\n",
       "      <td>True</td>\n",
       "      <td>True</td>\n",
       "      <td>34999</td>\n",
       "      <td>0</td>\n",
       "      <td>0</td>\n",
       "      <td>149151662</td>\n",
       "      <td>baby_products--milk,_food_&amp;_juices--baby_&amp;_tod...</td>\n",
       "      <td>1</td>\n",
       "      <td>2021-01-01</td>\n",
       "    </tr>\n",
       "    <tr>\n",
       "      <th>99998</th>\n",
       "      <td>58</td>\n",
       "      <td>12340</td>\n",
       "      <td>Paid Search</td>\n",
       "      <td>0</td>\n",
       "      <td>GoogleAnalytics</td>\n",
       "      <td>iOS</td>\n",
       "      <td>True</td>\n",
       "      <td>mobile</td>\n",
       "      <td>Dubai</td>\n",
       "      <td>25.2048</td>\n",
       "      <td>...</td>\n",
       "      <td>custom0==marketplace&amp;+id==*</td>\n",
       "      <td>True</td>\n",
       "      <td>True</td>\n",
       "      <td>34999</td>\n",
       "      <td>0</td>\n",
       "      <td>0</td>\n",
       "      <td>149151662</td>\n",
       "      <td>baby_products--milk,_food_&amp;_juices--baby_&amp;_tod...</td>\n",
       "      <td>1</td>\n",
       "      <td>2021-01-01</td>\n",
       "    </tr>\n",
       "    <tr>\n",
       "      <th>99999</th>\n",
       "      <td>58</td>\n",
       "      <td>12340</td>\n",
       "      <td>Paid Search</td>\n",
       "      <td>0</td>\n",
       "      <td>GoogleAnalytics</td>\n",
       "      <td>iOS</td>\n",
       "      <td>True</td>\n",
       "      <td>mobile</td>\n",
       "      <td>Dubai</td>\n",
       "      <td>25.2048</td>\n",
       "      <td>...</td>\n",
       "      <td>custom0==marketplace&amp;+id==*</td>\n",
       "      <td>True</td>\n",
       "      <td>True</td>\n",
       "      <td>34999</td>\n",
       "      <td>0</td>\n",
       "      <td>0</td>\n",
       "      <td>149151662</td>\n",
       "      <td>baby_products--milk,_food_&amp;_juices--baby_&amp;_tod...</td>\n",
       "      <td>1</td>\n",
       "      <td>2021-01-01</td>\n",
       "    </tr>\n",
       "  </tbody>\n",
       "</table>\n",
       "<p>5 rows × 46 columns</p>\n",
       "</div>"
      ],
      "text/plain": [
       "       count_session  count_hit channelGrouping  totals_newVisits  \\\n",
       "99995             58      12340     Paid Search                 0   \n",
       "99996             58      12340     Paid Search                 0   \n",
       "99997             58      12340     Paid Search                 0   \n",
       "99998             58      12340     Paid Search                 0   \n",
       "99999             58      12340     Paid Search                 0   \n",
       "\n",
       "        device_browser device_operatingSystem  device_isMobile  \\\n",
       "99995  GoogleAnalytics                    iOS             True   \n",
       "99996  GoogleAnalytics                    iOS             True   \n",
       "99997  GoogleAnalytics                    iOS             True   \n",
       "99998  GoogleAnalytics                    iOS             True   \n",
       "99999  GoogleAnalytics                    iOS             True   \n",
       "\n",
       "      device_deviceCategory geoNetwork_region  geoNetwork_latitude  ...  \\\n",
       "99995                mobile             Dubai              25.2048  ...   \n",
       "99996                mobile             Dubai              25.2048  ...   \n",
       "99997                mobile             Dubai              25.2048  ...   \n",
       "99998                mobile             Dubai              25.2048  ...   \n",
       "99999                mobile             Dubai              25.2048  ...   \n",
       "\n",
       "                    latest_keyword  earliest_isTrueDirect  \\\n",
       "99995  custom0==marketplace&+id==*                   True   \n",
       "99996  custom0==marketplace&+id==*                   True   \n",
       "99997  custom0==marketplace&+id==*                   True   \n",
       "99998  custom0==marketplace&+id==*                   True   \n",
       "99999  custom0==marketplace&+id==*                   True   \n",
       "\n",
       "       latest_isTrueDirect  num_interactions  bounces  time_on_site  \\\n",
       "99995                 True             34999        0             0   \n",
       "99996                 True             34999        0             0   \n",
       "99997                 True             34999        0             0   \n",
       "99998                 True             34999        0             0   \n",
       "99999                 True             34999        0             0   \n",
       "\n",
       "       transactionRevenue                                     products_array  \\\n",
       "99995           149151662  baby_products--milk,_food_&_juices--baby_&_tod...   \n",
       "99996           149151662  baby_products--milk,_food_&_juices--baby_&_tod...   \n",
       "99997           149151662  baby_products--milk,_food_&_juices--baby_&_tod...   \n",
       "99998           149151662  baby_products--milk,_food_&_juices--baby_&_tod...   \n",
       "99999           149151662  baby_products--milk,_food_&_juices--baby_&_tod...   \n",
       "\n",
       "       has_converted  target_date  \n",
       "99995              1   2021-01-01  \n",
       "99996              1   2021-01-01  \n",
       "99997              1   2021-01-01  \n",
       "99998              1   2021-01-01  \n",
       "99999              1   2021-01-01  \n",
       "\n",
       "[5 rows x 46 columns]"
      ]
     },
     "execution_count": 5,
     "metadata": {},
     "output_type": "execute_result"
    }
   ],
   "source": [
    "# bottom five rows\n",
    "df.tail()"
   ]
  },
  {
   "cell_type": "code",
   "execution_count": 6,
   "metadata": {},
   "outputs": [
    {
     "data": {
      "text/plain": [
       "(100000, 46)"
      ]
     },
     "execution_count": 6,
     "metadata": {},
     "output_type": "execute_result"
    }
   ],
   "source": [
    "# the dataset contains 100000 rows and 46 columns\n",
    "df.shape"
   ]
  },
  {
   "cell_type": "code",
   "execution_count": 7,
   "metadata": {},
   "outputs": [
    {
     "data": {
      "text/plain": [
       "Index(['count_session', 'count_hit', 'channelGrouping', 'totals_newVisits',\n",
       "       'device_browser', 'device_operatingSystem', 'device_isMobile',\n",
       "       'device_deviceCategory', 'geoNetwork_region', 'geoNetwork_latitude',\n",
       "       'geoNetwork_longitude', 'historic_session', 'historic_session_page',\n",
       "       'youtube', 'avg_session_time', 'avg_session_time_page',\n",
       "       'single_page_rate', 'sessionQualityDim', 'last_visitId',\n",
       "       'latest_visit_id', 'visitId_threshold', 'earliest_visit_id',\n",
       "       'earliest_visit_number', 'latest_visit_number', 'time_earliest_visit',\n",
       "       'time_latest_visit', 'avg_visit_time', 'days_since_last_visit',\n",
       "       'days_since_first_visit', 'visits_per_day', 'bounce_rate',\n",
       "       'earliest_source', 'latest_source', 'earliest_medium', 'latest_medium',\n",
       "       'earliest_keyword', 'latest_keyword', 'earliest_isTrueDirect',\n",
       "       'latest_isTrueDirect', 'num_interactions', 'bounces', 'time_on_site',\n",
       "       'transactionRevenue', 'products_array', 'has_converted', 'target_date'],\n",
       "      dtype='object')"
      ]
     },
     "execution_count": 7,
     "metadata": {},
     "output_type": "execute_result"
    }
   ],
   "source": [
    "# features\n",
    "df.columns"
   ]
  },
  {
   "cell_type": "markdown",
   "metadata": {},
   "source": [
    "# Checking for Missing Values"
   ]
  },
  {
   "cell_type": "code",
   "execution_count": 8,
   "metadata": {},
   "outputs": [
    {
     "data": {
      "text/plain": [
       "count_session             0\n",
       "count_hit                 0\n",
       "channelGrouping           0\n",
       "totals_newVisits          0\n",
       "device_browser            0\n",
       "device_operatingSystem    0\n",
       "device_isMobile           0\n",
       "device_deviceCategory     0\n",
       "geoNetwork_region         0\n",
       "geoNetwork_latitude       0\n",
       "geoNetwork_longitude      0\n",
       "historic_session          0\n",
       "historic_session_page     0\n",
       "youtube                   0\n",
       "avg_session_time          0\n",
       "avg_session_time_page     0\n",
       "single_page_rate          0\n",
       "sessionQualityDim         0\n",
       "last_visitId              0\n",
       "latest_visit_id           0\n",
       "visitId_threshold         0\n",
       "earliest_visit_id         0\n",
       "earliest_visit_number     0\n",
       "latest_visit_number       0\n",
       "time_earliest_visit       0\n",
       "time_latest_visit         0\n",
       "avg_visit_time            0\n",
       "days_since_last_visit     0\n",
       "days_since_first_visit    0\n",
       "visits_per_day            0\n",
       "bounce_rate               0\n",
       "earliest_source           0\n",
       "latest_source             0\n",
       "earliest_medium           0\n",
       "latest_medium             0\n",
       "earliest_keyword          0\n",
       "latest_keyword            0\n",
       "earliest_isTrueDirect     0\n",
       "latest_isTrueDirect       0\n",
       "num_interactions          0\n",
       "bounces                   0\n",
       "time_on_site              0\n",
       "transactionRevenue        0\n",
       "products_array            0\n",
       "has_converted             0\n",
       "target_date               0\n",
       "dtype: int64"
      ]
     },
     "execution_count": 8,
     "metadata": {},
     "output_type": "execute_result"
    }
   ],
   "source": [
    "# there is no missing values in the datset\n",
    "df.isna().sum()"
   ]
  },
  {
   "cell_type": "markdown",
   "metadata": {},
   "source": [
    "# Checking for Duplicates"
   ]
  },
  {
   "cell_type": "code",
   "execution_count": 9,
   "metadata": {},
   "outputs": [
    {
     "data": {
      "text/plain": [
       "90793"
      ]
     },
     "execution_count": 9,
     "metadata": {},
     "output_type": "execute_result"
    }
   ],
   "source": [
    "#  there are 90793 duplicates in the dataset\n",
    "df.duplicated().sum()"
   ]
  },
  {
   "cell_type": "code",
   "execution_count": 10,
   "metadata": {},
   "outputs": [],
   "source": [
    "# dropping the duplicated rows\n",
    "df.drop_duplicates(inplace = True)"
   ]
  },
  {
   "cell_type": "code",
   "execution_count": 11,
   "metadata": {},
   "outputs": [
    {
     "data": {
      "text/plain": [
       "0"
      ]
     },
     "execution_count": 11,
     "metadata": {},
     "output_type": "execute_result"
    }
   ],
   "source": [
    "# after dropping duplicates\n",
    "df.duplicated().sum()"
   ]
  },
  {
   "cell_type": "code",
   "execution_count": 12,
   "metadata": {},
   "outputs": [],
   "source": [
    "# resetting index\n",
    "df.reset_index(drop = True, inplace = True)"
   ]
  },
  {
   "cell_type": "code",
   "execution_count": 13,
   "metadata": {},
   "outputs": [
    {
     "data": {
      "text/html": [
       "<div>\n",
       "<style scoped>\n",
       "    .dataframe tbody tr th:only-of-type {\n",
       "        vertical-align: middle;\n",
       "    }\n",
       "\n",
       "    .dataframe tbody tr th {\n",
       "        vertical-align: top;\n",
       "    }\n",
       "\n",
       "    .dataframe thead th {\n",
       "        text-align: right;\n",
       "    }\n",
       "</style>\n",
       "<table border=\"1\" class=\"dataframe\">\n",
       "  <thead>\n",
       "    <tr style=\"text-align: right;\">\n",
       "      <th></th>\n",
       "      <th>count_session</th>\n",
       "      <th>count_hit</th>\n",
       "      <th>totals_newVisits</th>\n",
       "      <th>geoNetwork_latitude</th>\n",
       "      <th>geoNetwork_longitude</th>\n",
       "      <th>historic_session</th>\n",
       "      <th>historic_session_page</th>\n",
       "      <th>youtube</th>\n",
       "      <th>avg_session_time</th>\n",
       "      <th>avg_session_time_page</th>\n",
       "      <th>...</th>\n",
       "      <th>avg_visit_time</th>\n",
       "      <th>days_since_last_visit</th>\n",
       "      <th>days_since_first_visit</th>\n",
       "      <th>visits_per_day</th>\n",
       "      <th>bounce_rate</th>\n",
       "      <th>num_interactions</th>\n",
       "      <th>bounces</th>\n",
       "      <th>time_on_site</th>\n",
       "      <th>transactionRevenue</th>\n",
       "      <th>has_converted</th>\n",
       "    </tr>\n",
       "  </thead>\n",
       "  <tbody>\n",
       "    <tr>\n",
       "      <th>count</th>\n",
       "      <td>9207.000000</td>\n",
       "      <td>9207.000000</td>\n",
       "      <td>9207.000000</td>\n",
       "      <td>9207.000000</td>\n",
       "      <td>9207.000000</td>\n",
       "      <td>9207.000000</td>\n",
       "      <td>9207.000000</td>\n",
       "      <td>9207.0</td>\n",
       "      <td>9207.000000</td>\n",
       "      <td>9207.000000</td>\n",
       "      <td>...</td>\n",
       "      <td>9207.000000</td>\n",
       "      <td>9207.0</td>\n",
       "      <td>9207.000000</td>\n",
       "      <td>9207.000000</td>\n",
       "      <td>9207.000000</td>\n",
       "      <td>9207.000000</td>\n",
       "      <td>9207.000000</td>\n",
       "      <td>9.207000e+03</td>\n",
       "      <td>9.207000e+03</td>\n",
       "      <td>9207.000000</td>\n",
       "    </tr>\n",
       "    <tr>\n",
       "      <th>mean</th>\n",
       "      <td>19.908005</td>\n",
       "      <td>2489.793853</td>\n",
       "      <td>0.012382</td>\n",
       "      <td>24.887025</td>\n",
       "      <td>54.271322</td>\n",
       "      <td>8449.205061</td>\n",
       "      <td>1807.767785</td>\n",
       "      <td>0.0</td>\n",
       "      <td>469.237063</td>\n",
       "      <td>164.288173</td>\n",
       "      <td>...</td>\n",
       "      <td>12.459433</td>\n",
       "      <td>0.0</td>\n",
       "      <td>22.759748</td>\n",
       "      <td>114.390833</td>\n",
       "      <td>0.013380</td>\n",
       "      <td>8871.946562</td>\n",
       "      <td>0.006625</td>\n",
       "      <td>1.579085e+04</td>\n",
       "      <td>1.900626e+08</td>\n",
       "      <td>0.416314</td>\n",
       "    </tr>\n",
       "    <tr>\n",
       "      <th>std</th>\n",
       "      <td>21.059017</td>\n",
       "      <td>3399.778210</td>\n",
       "      <td>0.110589</td>\n",
       "      <td>3.414327</td>\n",
       "      <td>8.852935</td>\n",
       "      <td>10945.490675</td>\n",
       "      <td>4143.496795</td>\n",
       "      <td>0.0</td>\n",
       "      <td>434.281188</td>\n",
       "      <td>420.842074</td>\n",
       "      <td>...</td>\n",
       "      <td>3.116302</td>\n",
       "      <td>0.0</td>\n",
       "      <td>8.951171</td>\n",
       "      <td>136.507190</td>\n",
       "      <td>0.115175</td>\n",
       "      <td>12445.373787</td>\n",
       "      <td>0.216773</td>\n",
       "      <td>4.955897e+04</td>\n",
       "      <td>6.639662e+08</td>\n",
       "      <td>0.492974</td>\n",
       "    </tr>\n",
       "    <tr>\n",
       "      <th>min</th>\n",
       "      <td>1.000000</td>\n",
       "      <td>2.000000</td>\n",
       "      <td>0.000000</td>\n",
       "      <td>-33.924900</td>\n",
       "      <td>-87.629800</td>\n",
       "      <td>2.000000</td>\n",
       "      <td>0.000000</td>\n",
       "      <td>0.0</td>\n",
       "      <td>2.000000</td>\n",
       "      <td>0.000000</td>\n",
       "      <td>...</td>\n",
       "      <td>0.000000</td>\n",
       "      <td>0.0</td>\n",
       "      <td>0.000000</td>\n",
       "      <td>0.923077</td>\n",
       "      <td>0.000000</td>\n",
       "      <td>20.000000</td>\n",
       "      <td>0.000000</td>\n",
       "      <td>0.000000e+00</td>\n",
       "      <td>0.000000e+00</td>\n",
       "      <td>0.000000</td>\n",
       "    </tr>\n",
       "    <tr>\n",
       "      <th>25%</th>\n",
       "      <td>7.000000</td>\n",
       "      <td>525.000000</td>\n",
       "      <td>0.000000</td>\n",
       "      <td>24.453900</td>\n",
       "      <td>54.377300</td>\n",
       "      <td>2049.000000</td>\n",
       "      <td>0.000000</td>\n",
       "      <td>0.0</td>\n",
       "      <td>221.053977</td>\n",
       "      <td>0.000000</td>\n",
       "      <td>...</td>\n",
       "      <td>10.000000</td>\n",
       "      <td>0.0</td>\n",
       "      <td>20.000000</td>\n",
       "      <td>34.042445</td>\n",
       "      <td>0.000000</td>\n",
       "      <td>1551.000000</td>\n",
       "      <td>0.000000</td>\n",
       "      <td>6.115000e+02</td>\n",
       "      <td>0.000000e+00</td>\n",
       "      <td>0.000000</td>\n",
       "    </tr>\n",
       "    <tr>\n",
       "      <th>50%</th>\n",
       "      <td>14.000000</td>\n",
       "      <td>1347.000000</td>\n",
       "      <td>0.000000</td>\n",
       "      <td>25.204800</td>\n",
       "      <td>55.270800</td>\n",
       "      <td>4923.000000</td>\n",
       "      <td>0.000000</td>\n",
       "      <td>0.0</td>\n",
       "      <td>360.000000</td>\n",
       "      <td>0.000000</td>\n",
       "      <td>...</td>\n",
       "      <td>12.000000</td>\n",
       "      <td>0.0</td>\n",
       "      <td>27.000000</td>\n",
       "      <td>71.050000</td>\n",
       "      <td>0.000000</td>\n",
       "      <td>4529.000000</td>\n",
       "      <td>0.000000</td>\n",
       "      <td>2.712000e+03</td>\n",
       "      <td>1.744101e+07</td>\n",
       "      <td>0.000000</td>\n",
       "    </tr>\n",
       "    <tr>\n",
       "      <th>75%</th>\n",
       "      <td>26.000000</td>\n",
       "      <td>3149.000000</td>\n",
       "      <td>0.000000</td>\n",
       "      <td>25.204800</td>\n",
       "      <td>55.270800</td>\n",
       "      <td>10538.000000</td>\n",
       "      <td>2008.500000</td>\n",
       "      <td>0.0</td>\n",
       "      <td>576.293846</td>\n",
       "      <td>135.815657</td>\n",
       "      <td>...</td>\n",
       "      <td>14.000000</td>\n",
       "      <td>0.0</td>\n",
       "      <td>29.000000</td>\n",
       "      <td>142.363095</td>\n",
       "      <td>0.000000</td>\n",
       "      <td>11295.000000</td>\n",
       "      <td>0.000000</td>\n",
       "      <td>1.102800e+04</td>\n",
       "      <td>1.228885e+08</td>\n",
       "      <td>1.000000</td>\n",
       "    </tr>\n",
       "    <tr>\n",
       "      <th>max</th>\n",
       "      <td>270.000000</td>\n",
       "      <td>48744.000000</td>\n",
       "      <td>1.000000</td>\n",
       "      <td>59.329300</td>\n",
       "      <td>140.318700</td>\n",
       "      <td>181715.000000</td>\n",
       "      <td>99896.000000</td>\n",
       "      <td>0.0</td>\n",
       "      <td>5441.000000</td>\n",
       "      <td>5441.000000</td>\n",
       "      <td>...</td>\n",
       "      <td>23.000000</td>\n",
       "      <td>0.0</td>\n",
       "      <td>30.000000</td>\n",
       "      <td>2397.333333</td>\n",
       "      <td>4.670000</td>\n",
       "      <td>197630.000000</td>\n",
       "      <td>14.000000</td>\n",
       "      <td>1.250267e+06</td>\n",
       "      <td>1.546412e+10</td>\n",
       "      <td>1.000000</td>\n",
       "    </tr>\n",
       "  </tbody>\n",
       "</table>\n",
       "<p>8 rows × 30 columns</p>\n",
       "</div>"
      ],
      "text/plain": [
       "       count_session     count_hit  totals_newVisits  geoNetwork_latitude  \\\n",
       "count    9207.000000   9207.000000       9207.000000          9207.000000   \n",
       "mean       19.908005   2489.793853          0.012382            24.887025   \n",
       "std        21.059017   3399.778210          0.110589             3.414327   \n",
       "min         1.000000      2.000000          0.000000           -33.924900   \n",
       "25%         7.000000    525.000000          0.000000            24.453900   \n",
       "50%        14.000000   1347.000000          0.000000            25.204800   \n",
       "75%        26.000000   3149.000000          0.000000            25.204800   \n",
       "max       270.000000  48744.000000          1.000000            59.329300   \n",
       "\n",
       "       geoNetwork_longitude  historic_session  historic_session_page  youtube  \\\n",
       "count           9207.000000       9207.000000            9207.000000   9207.0   \n",
       "mean              54.271322       8449.205061            1807.767785      0.0   \n",
       "std                8.852935      10945.490675            4143.496795      0.0   \n",
       "min              -87.629800          2.000000               0.000000      0.0   \n",
       "25%               54.377300       2049.000000               0.000000      0.0   \n",
       "50%               55.270800       4923.000000               0.000000      0.0   \n",
       "75%               55.270800      10538.000000            2008.500000      0.0   \n",
       "max              140.318700     181715.000000           99896.000000      0.0   \n",
       "\n",
       "       avg_session_time  avg_session_time_page  ...  avg_visit_time  \\\n",
       "count       9207.000000            9207.000000  ...     9207.000000   \n",
       "mean         469.237063             164.288173  ...       12.459433   \n",
       "std          434.281188             420.842074  ...        3.116302   \n",
       "min            2.000000               0.000000  ...        0.000000   \n",
       "25%          221.053977               0.000000  ...       10.000000   \n",
       "50%          360.000000               0.000000  ...       12.000000   \n",
       "75%          576.293846             135.815657  ...       14.000000   \n",
       "max         5441.000000            5441.000000  ...       23.000000   \n",
       "\n",
       "       days_since_last_visit  days_since_first_visit  visits_per_day  \\\n",
       "count                 9207.0             9207.000000     9207.000000   \n",
       "mean                     0.0               22.759748      114.390833   \n",
       "std                      0.0                8.951171      136.507190   \n",
       "min                      0.0                0.000000        0.923077   \n",
       "25%                      0.0               20.000000       34.042445   \n",
       "50%                      0.0               27.000000       71.050000   \n",
       "75%                      0.0               29.000000      142.363095   \n",
       "max                      0.0               30.000000     2397.333333   \n",
       "\n",
       "       bounce_rate  num_interactions      bounces  time_on_site  \\\n",
       "count  9207.000000       9207.000000  9207.000000  9.207000e+03   \n",
       "mean      0.013380       8871.946562     0.006625  1.579085e+04   \n",
       "std       0.115175      12445.373787     0.216773  4.955897e+04   \n",
       "min       0.000000         20.000000     0.000000  0.000000e+00   \n",
       "25%       0.000000       1551.000000     0.000000  6.115000e+02   \n",
       "50%       0.000000       4529.000000     0.000000  2.712000e+03   \n",
       "75%       0.000000      11295.000000     0.000000  1.102800e+04   \n",
       "max       4.670000     197630.000000    14.000000  1.250267e+06   \n",
       "\n",
       "       transactionRevenue  has_converted  \n",
       "count        9.207000e+03    9207.000000  \n",
       "mean         1.900626e+08       0.416314  \n",
       "std          6.639662e+08       0.492974  \n",
       "min          0.000000e+00       0.000000  \n",
       "25%          0.000000e+00       0.000000  \n",
       "50%          1.744101e+07       0.000000  \n",
       "75%          1.228885e+08       1.000000  \n",
       "max          1.546412e+10       1.000000  \n",
       "\n",
       "[8 rows x 30 columns]"
      ]
     },
     "execution_count": 13,
     "metadata": {},
     "output_type": "execute_result"
    }
   ],
   "source": [
    "df.describe()"
   ]
  },
  {
   "cell_type": "markdown",
   "metadata": {},
   "source": [
    "# Distribution of Target Variable"
   ]
  },
  {
   "cell_type": "code",
   "execution_count": 14,
   "metadata": {},
   "outputs": [
    {
     "data": {
      "text/plain": [
       "<Axes: xlabel='has_converted', ylabel='Count'>"
      ]
     },
     "execution_count": 14,
     "metadata": {},
     "output_type": "execute_result"
    },
    {
     "data": {
      "image/png": "[encoded data removed]",
      "text/plain": [
       "<Figure size 640x480 with 1 Axes>"
      ]
     },
     "metadata": {},
     "output_type": "display_data"
    }
   ],
   "source": [
    "sns.histplot(df[\"has_converted\"])"
   ]
  },
  {
   "cell_type": "code",
   "execution_count": 15,
   "metadata": {},
   "outputs": [
    {
     "name": "stdout",
     "output_type": "stream",
     "text": [
      "0 --> 58.36863256218094 %\n",
      "1 --> 41.63136743781905 %\n"
     ]
    }
   ],
   "source": [
    "# therefore, 58% values are 0 (not convert) and 42% values are 1 (convert) \n",
    "print(0, \"-->\", df[\"has_converted\"].value_counts()[0]/df.shape[0]*100, \"%\")\n",
    "print(1, \"-->\", df[\"has_converted\"].value_counts()[1]/df.shape[0]*100, \"%\")"
   ]
  },
  {
   "cell_type": "code",
   "execution_count": 16,
   "metadata": {},
   "outputs": [
    {
     "data": {
      "text/plain": [
       "has_converted\n",
       "0    5374\n",
       "1    3833\n",
       "Name: count, dtype: int64"
      ]
     },
     "execution_count": 16,
     "metadata": {},
     "output_type": "execute_result"
    }
   ],
   "source": [
    "df[\"has_converted\"].value_counts()"
   ]
  },
  {
   "cell_type": "markdown",
   "metadata": {},
   "source": [
    "# unique values in each feature"
   ]
  },
  {
   "cell_type": "code",
   "execution_count": 17,
   "metadata": {},
   "outputs": [
    {
     "data": {
      "text/plain": [
       "count_session              157\n",
       "count_hit                 4506\n",
       "channelGrouping              3\n",
       "totals_newVisits             2\n",
       "device_browser               9\n",
       "device_operatingSystem       7\n",
       "device_isMobile              2\n",
       "device_deviceCategory        3\n",
       "geoNetwork_region           91\n",
       "geoNetwork_latitude        104\n",
       "geoNetwork_longitude       104\n",
       "historic_session          6979\n",
       "historic_session_page     3066\n",
       "youtube                      1\n",
       "avg_session_time          8279\n",
       "avg_session_time_page     3698\n",
       "single_page_rate           493\n",
       "sessionQualityDim           67\n",
       "last_visitId              9093\n",
       "latest_visit_id           9093\n",
       "visitId_threshold         9093\n",
       "earliest_visit_id         9160\n",
       "earliest_visit_number      528\n",
       "latest_visit_number        694\n",
       "time_earliest_visit       1360\n",
       "time_latest_visit         1356\n",
       "avg_visit_time              24\n",
       "days_since_last_visit        1\n",
       "days_since_first_visit      31\n",
       "visits_per_day            7794\n",
       "bounce_rate                 92\n",
       "earliest_source             36\n",
       "latest_source                7\n",
       "earliest_medium             18\n",
       "latest_medium                2\n",
       "earliest_keyword           410\n",
       "latest_keyword             572\n",
       "earliest_isTrueDirect        2\n",
       "latest_isTrueDirect          2\n",
       "num_interactions          6880\n",
       "bounces                      8\n",
       "time_on_site              6009\n",
       "transactionRevenue        4755\n",
       "products_array            3559\n",
       "has_converted                2\n",
       "target_date                  1\n",
       "dtype: int64"
      ]
     },
     "execution_count": 17,
     "metadata": {},
     "output_type": "execute_result"
    }
   ],
   "source": [
    "# no of unique values in all columns\n",
    "# by seeing this, features like youtube, days_since_last_visit and target_date have only one unique value in their columns. so, we will drop those columns later below.\n",
    "df.nunique()"
   ]
  },
  {
   "cell_type": "code",
   "execution_count": 18,
   "metadata": {},
   "outputs": [
    {
     "data": {
      "text/plain": [
       "array([  9,  28,   2,   3,   5,  77,  26,  15,  25,  27,  14,   8,   4,\n",
       "        16,  17,  47,   1,  11,  10,  37,  49,  40,  18,  51,  22,  13,\n",
       "        38,  20,  23,  34,  19,  67,  48,  35,   7,   6,  78,  52,  29,\n",
       "        43,  45,  24,  12,  41,  60,  33,  68,  65,  21, 135, 196,  32,\n",
       "        42,  79,  31, 105,  36,  30,  44,  90,  88,  50, 106,  54,  94,\n",
       "        39, 142,  73,  59, 136,  96,  85, 128, 145, 131, 124,  57, 108,\n",
       "        61, 171,  63,  56,  64,  46,  86, 195,  53,  62, 111,  66,  55,\n",
       "        76,  71, 119,  72,  74,  58,  69,  70,  91,  98, 143, 187,  95,\n",
       "        75, 118, 132, 120,  89, 102,  80, 214, 158, 117, 100, 104,  84,\n",
       "       121, 193,  92, 159, 101,  87, 147,  97, 126, 141, 107, 127, 177,\n",
       "       110,  81, 114, 221, 133,  93, 138, 203, 116, 125, 134, 152, 112,\n",
       "        82, 103, 178,  83, 180, 122, 163, 123, 270, 149,  99, 242, 191,\n",
       "       174], dtype=int64)"
      ]
     },
     "execution_count": 18,
     "metadata": {},
     "output_type": "execute_result"
    }
   ],
   "source": [
    "# count_session feature\n",
    "df[\"count_session\"].unique()"
   ]
  },
  {
   "cell_type": "code",
   "execution_count": 19,
   "metadata": {},
   "outputs": [
    {
     "data": {
      "text/plain": [
       "array([ 1194,  1816,   299, ...,  7439,  1148, 12340], dtype=int64)"
      ]
     },
     "execution_count": 19,
     "metadata": {},
     "output_type": "execute_result"
    }
   ],
   "source": [
    "# count_hit feature\n",
    "df[\"count_hit\"].unique()"
   ]
  },
  {
   "cell_type": "code",
   "execution_count": 20,
   "metadata": {},
   "outputs": [
    {
     "data": {
      "text/plain": [
       "array(['(Other)', 'Paid Search', 'Display'], dtype=object)"
      ]
     },
     "execution_count": 20,
     "metadata": {},
     "output_type": "execute_result"
    }
   ],
   "source": [
    "# channelGrouping feature\n",
    "df[\"channelGrouping\"].unique()"
   ]
  },
  {
   "cell_type": "code",
   "execution_count": 21,
   "metadata": {},
   "outputs": [
    {
     "data": {
      "text/plain": [
       "array([0, 1], dtype=int64)"
      ]
     },
     "execution_count": 21,
     "metadata": {},
     "output_type": "execute_result"
    }
   ],
   "source": [
    "# totals_newVisits feature\n",
    "df[\"totals_newVisits\"].unique()"
   ]
  },
  {
   "cell_type": "code",
   "execution_count": 22,
   "metadata": {},
   "outputs": [
    {
     "data": {
      "text/plain": [
       "array(['GoogleAnalytics', 'Safari', 'Chrome', 'Edge', 'Firefox',\n",
       "       'Samsung Internet', 'Opera', 'Android Webview',\n",
       "       'Apache-HttpClient'], dtype=object)"
      ]
     },
     "execution_count": 22,
     "metadata": {},
     "output_type": "execute_result"
    }
   ],
   "source": [
    "# device_browser feature\n",
    "df[\"device_browser\"].unique()"
   ]
  },
  {
   "cell_type": "code",
   "execution_count": 23,
   "metadata": {},
   "outputs": [
    {
     "data": {
      "text/plain": [
       "array(['mobile', 'desktop', 'tablet'], dtype=object)"
      ]
     },
     "execution_count": 23,
     "metadata": {},
     "output_type": "execute_result"
    }
   ],
   "source": [
    "# device_deviceCategory feature\n",
    "df[\"device_deviceCategory\"].unique()"
   ]
  },
  {
   "cell_type": "code",
   "execution_count": 24,
   "metadata": {},
   "outputs": [
    {
     "data": {
      "text/plain": [
       "array([ True, False])"
      ]
     },
     "execution_count": 24,
     "metadata": {},
     "output_type": "execute_result"
    }
   ],
   "source": [
    "# device_isMobile feature\n",
    "df[\"device_isMobile\"].unique()"
   ]
  },
  {
   "cell_type": "code",
   "execution_count": 25,
   "metadata": {},
   "outputs": [
    {
     "data": {
      "text/plain": [
       "array(['Android', 'iOS', 'Macintosh', 'Windows', 'Chrome OS', '(not set)',\n",
       "       'Linux'], dtype=object)"
      ]
     },
     "execution_count": 25,
     "metadata": {},
     "output_type": "execute_result"
    }
   ],
   "source": [
    "# device_operatingSystem feature\n",
    "df[\"device_operatingSystem\"].unique()"
   ]
  },
  {
   "cell_type": "code",
   "execution_count": 26,
   "metadata": {},
   "outputs": [
    {
     "data": {
      "text/plain": [
       "array(['Sharjah', 'Ajman', 'Abu Dhabi', 'Dubai', 'Ras al Khaimah',\n",
       "       '(not set)', 'England', 'Hessen', 'Ash Sharqia Governorate',\n",
       "       'Nabatiyeh Governorate', 'Umm Al Quawain', 'Indiana', 'Illinois',\n",
       "       'Makkah Province', 'Maharashtra', 'Capital Governorate', 'Jakarta',\n",
       "       'Punjab', 'Mount Lebanon Governorate', 'South Holland',\n",
       "       'Riyadh Province', 'Ile-de-France', 'Chandigarh', 'Karnataka',\n",
       "       'Istanbul', 'Cairo Governorate', 'Andhra Pradesh',\n",
       "       'Amman Governorate', 'Beirut Governorate',\n",
       "       'Alexandria Governorate', 'New York', 'Ontario', 'Davao Region',\n",
       "       'Auvergne-Rhone-Alpes', 'Fujairah', 'Tamil Nadu',\n",
       "       'Pays de la Loire', 'Metro Manila', 'Normandy', 'Giza Governorate',\n",
       "       'Bavaria', 'Stockholm County', 'Tel Aviv District', 'Vienna',\n",
       "       'Decentralized Administration of Peloponnese, Western Greece and the Ionian',\n",
       "       'Porto District', 'West Bengal', 'Kerala', 'Lombardy', 'MIMAROPA',\n",
       "       'North Holland', 'Chiba', 'Islamabad Capital Territory', 'Ohio',\n",
       "       'Florida', 'Moscow', 'County Dublin', 'Quebec',\n",
       "       'Muscat Governorate', 'Telangana', 'Vastra Gotaland County',\n",
       "       'Western Cape', 'North Rhine-Westphalia', 'Sindh', 'Virginia',\n",
       "       'Calabarzon', 'Shanghai', 'Central Luzon', 'Dakahlia Governorate',\n",
       "       'Western Province', 'Flanders', 'Fars', 'Washington',\n",
       "       'Tashkent Region', 'Eastern Province',\n",
       "       'Federal Territory of Kuala Lumpur', 'Goa', 'Southern Governorate',\n",
       "       'Madhya Pradesh', 'Ismailia Governorate', 'Uttar Pradesh',\n",
       "       'Casablanca-Settat', 'Nairobi County', 'Sofala Province', 'Attica',\n",
       "       'Tokyo', 'Khyber Pakhtunkhwa', 'Gujarat', 'Assam', 'Brittany',\n",
       "       'Centre-Val de Loire'], dtype=object)"
      ]
     },
     "execution_count": 26,
     "metadata": {},
     "output_type": "execute_result"
    }
   ],
   "source": [
    "# geoNetwork_region feature\n",
    "df[\"geoNetwork_region\"].unique()"
   ]
  },
  {
   "cell_type": "code",
   "execution_count": 27,
   "metadata": {},
   "outputs": [
    {
     "data": {
      "text/plain": [
       "array([ 25.3463,  25.4052,  24.4539,  25.2048,  25.8007,  24.1302,\n",
       "         0.    ,  51.5105,  50.1109,  51.8757,  41.8781,  21.4858,\n",
       "        19.3919,  26.2235,  -6.2088,  31.5204,  51.9924,  24.7136,\n",
       "        48.8566,  30.7333,  12.9716,  41.0082,  12.2958,  30.0444,\n",
       "        13.6288,   1.3554,  33.8938,  31.2001,  40.7128,  43.6532,\n",
       "         7.1907,  45.3627,  51.5074,  51.4308,  30.0074,  40.1794,\n",
       "        13.0827,  14.676 ,  25.1288,  49.1459,  30.0131,   4.1755,\n",
       "        49.8382,  59.3293,  32.0853,  48.2082,  33.5651,  41.1239,\n",
       "        22.5726,   9.9312,  45.4642,  52.3676,  35.7767,  33.6844,\n",
       "        39.9612,  19.076 ,  27.9506,  55.7558,  53.3498,  45.5017,\n",
       "        33.5138,  17.385 , -33.9249,  19.6967,  51.2277,  24.8607,\n",
       "        14.7566,  29.0854,  39.0438,  14.4064,  31.2304,  14.6507,\n",
       "        14.4793,  15.0594,  52.3874,   6.9271,  51.3147,  29.5918,\n",
       "        14.5547,  50.5558,  41.2995,  26.4207,   3.139 ,  15.5937,\n",
       "        14.5794,  23.2599,  45.8992,  30.5965,  26.8467,  33.5731,\n",
       "        18.5204,  -1.2921, -19.8316,  37.9838,  46.1582,  35.5614,\n",
       "        21.3891,  14.8527,  34.0151,  15.145 ,  22.3039,  50.8179,\n",
       "        26.1445,  47.903 ])"
      ]
     },
     "execution_count": 27,
     "metadata": {},
     "output_type": "execute_result"
    }
   ],
   "source": [
    "df[\"geoNetwork_latitude\"].unique()"
   ]
  },
  {
   "cell_type": "code",
   "execution_count": 28,
   "metadata": {},
   "outputs": [
    {
     "data": {
      "text/plain": [
       "array([ 5.542090e+01,  5.551360e+01,  5.437730e+01,  5.527080e+01,\n",
       "        5.597620e+01,  5.580230e+01,  0.000000e+00, -5.950000e-01,\n",
       "        8.682100e+00, -8.450000e-01, -8.762980e+01,  3.919250e+01,\n",
       "        7.283970e+01,  5.058760e+01,  1.068456e+02,  7.435870e+01,\n",
       "        4.208000e+00,  4.667530e+01,  2.352200e+00,  7.677940e+01,\n",
       "        7.759460e+01,  2.897840e+01,  7.663940e+01,  3.123570e+01,\n",
       "        7.941920e+01,  1.038677e+02,  3.550180e+01,  2.991870e+01,\n",
       "       -7.400600e+01, -7.938320e+01,  1.254553e+02,  5.591300e+00,\n",
       "       -1.278000e-01, -9.211000e-01,  3.149130e+01,  4.454080e+01,\n",
       "        8.027070e+01,  1.210437e+02,  5.632650e+01,  2.278000e-01,\n",
       "        3.120890e+01,  7.350940e+01,  9.132400e+00,  1.806860e+01,\n",
       "        3.478180e+01,  1.637380e+01,  7.301690e+01, -8.611800e+00,\n",
       "        8.836390e+01,  7.626730e+01,  9.190000e+00,  4.904100e+00,\n",
       "        1.403187e+02,  7.304790e+01, -8.299880e+01,  7.287770e+01,\n",
       "       -8.245720e+01,  3.761730e+01, -6.260300e+00, -7.356730e+01,\n",
       "        3.627650e+01,  7.848670e+01,  1.842410e+01,  7.276990e+01,\n",
       "        6.773500e+00,  6.700110e+01,  1.210450e+02,  4.806550e+01,\n",
       "       -7.748740e+01,  1.209405e+02,  1.214737e+02,  1.211029e+02,\n",
       "        1.210198e+02,  1.206567e+02,  4.646200e+00,  7.986120e+01,\n",
       "        4.887700e+00,  5.258370e+01,  1.210244e+02,  9.680800e+00,\n",
       "        6.924010e+01,  5.008880e+01,  1.016869e+02,  7.381420e+01,\n",
       "        1.210359e+02,  7.741260e+01,  6.129400e+00,  3.227150e+01,\n",
       "        8.094620e+01, -7.589800e+00,  7.385670e+01,  3.682190e+01,\n",
       "        3.483700e+01,  2.372750e+01,  4.580500e+00,  1.397161e+02,\n",
       "        3.985790e+01,  1.208160e+02,  7.152490e+01,  1.205887e+02,\n",
       "        7.080220e+01, -3.729000e-01,  9.173620e+01,  1.909300e+00])"
      ]
     },
     "execution_count": 28,
     "metadata": {},
     "output_type": "execute_result"
    }
   ],
   "source": [
    "df[\"geoNetwork_longitude\"].unique()"
   ]
  },
  {
   "cell_type": "code",
   "execution_count": 29,
   "metadata": {},
   "outputs": [
    {
     "data": {
      "text/plain": [
       "array([ 6504, 12466,  1575, ..., 15860,  1772, 28082], dtype=int64)"
      ]
     },
     "execution_count": 29,
     "metadata": {},
     "output_type": "execute_result"
    }
   ],
   "source": [
    "df[\"historic_session\"].unique()"
   ]
  },
  {
   "cell_type": "code",
   "execution_count": 30,
   "metadata": {},
   "outputs": [
    {
     "data": {
      "text/plain": [
       "array([1254, 4963,    0, ..., 2284, 6269, 4361], dtype=int64)"
      ]
     },
     "execution_count": 30,
     "metadata": {},
     "output_type": "execute_result"
    }
   ],
   "source": [
    "df[\"historic_session_page\"].unique()"
   ]
  },
  {
   "cell_type": "code",
   "execution_count": 31,
   "metadata": {},
   "outputs": [
    {
     "data": {
      "text/plain": [
       "array([0], dtype=int64)"
      ]
     },
     "execution_count": 31,
     "metadata": {},
     "output_type": "execute_result"
    }
   ],
   "source": [
    "df[\"youtube\"].unique()"
   ]
  },
  {
   "cell_type": "code",
   "execution_count": 32,
   "metadata": {},
   "outputs": [
    {
     "data": {
      "text/plain": [
       "array([722.66666667, 445.21428571, 787.5       , ..., 122.71428571,\n",
       "       295.33333333, 484.17241379])"
      ]
     },
     "execution_count": 32,
     "metadata": {},
     "output_type": "execute_result"
    }
   ],
   "source": [
    "df[\"avg_session_time\"].unique()"
   ]
  },
  {
   "cell_type": "code",
   "execution_count": 33,
   "metadata": {},
   "outputs": [
    {
     "data": {
      "text/plain": [
       "array([139.33333333, 177.25      ,   0.        , ..., 396.45454545,\n",
       "        71.91666667, 149.03571429])"
      ]
     },
     "execution_count": 33,
     "metadata": {},
     "output_type": "execute_result"
    }
   ],
   "source": [
    "df[\"avg_session_time_page\"].unique()"
   ]
  },
  {
   "cell_type": "code",
   "execution_count": 34,
   "metadata": {},
   "outputs": [
    {
     "data": {
      "text/plain": [
       "array([0.77777778, 0.82142857, 1.        , 0.4       , 0.98701299,\n",
       "       0.92857143, 0.96296296, 0.75      , 0.25      , 0.66666667,\n",
       "       0.83673469, 0.175     , 0.88888889, 0.86363636, 0.73913043,\n",
       "       0.97058824, 0.98507463, 0.91428571, 0.625     , 0.        ,\n",
       "       0.14285714, 0.93333333, 0.97368421, 0.71428571, 0.8       ,\n",
       "       0.93589744, 0.81818182, 0.94444444, 0.5       , 0.90909091,\n",
       "       0.33333333, 0.83333333, 0.9       , 0.6       , 0.97560976,\n",
       "       0.89473684, 0.96666667, 0.41666667, 0.63157895, 0.125     ,\n",
       "       0.95238095, 0.76923077, 0.16666667, 0.94814815, 0.78571429,\n",
       "       0.94117647, 0.95833333, 0.92307692, 0.88235294, 0.76470588,\n",
       "       0.96551724, 0.80645161, 0.58823529, 0.28571429, 0.95      ,\n",
       "       0.85714286, 0.61111111, 0.93181818, 0.2       , 0.78787879,\n",
       "       0.63333333, 0.88461538, 0.93548387, 0.97727273, 0.76296296,\n",
       "       0.95918367, 0.875     , 0.98113208, 0.36363636, 0.95454545,\n",
       "       0.87037037, 0.7       , 0.94736842, 0.95652174, 0.94366197,\n",
       "       0.11111111, 0.91525424, 0.78947368, 0.34615385, 0.77419355,\n",
       "       0.72916667, 0.95384615, 0.91304348, 0.64285714, 0.45454545,\n",
       "       0.89189189, 0.97297297, 0.46875   , 0.99310345, 0.93103448,\n",
       "       0.73076923, 0.97709924, 0.91666667, 0.05882353, 0.96491228,\n",
       "       0.96153846, 0.22222222, 0.94074074, 0.9787234 , 0.02272727,\n",
       "       0.98360656, 0.9375    , 0.91780822, 0.68181818, 0.70588235,\n",
       "       0.87096774, 0.84210526, 0.61764706, 0.55555556, 0.08      ,\n",
       "       0.86885246, 0.84615385, 0.984375  , 0.0952381 , 0.96774194,\n",
       "       0.8974359 , 0.96428571, 0.90697674, 0.63636364, 0.94358974,\n",
       "       0.64705882, 0.95348837, 0.86956522, 0.91891892, 0.92      ,\n",
       "       0.81481481, 0.94339623, 0.44067797, 0.46153846, 0.6875    ,\n",
       "       0.96610169, 0.71186441, 0.95555556, 0.89285714, 0.94871795,\n",
       "       0.80952381, 0.93939394, 0.90243902, 0.96      , 0.92592593,\n",
       "       0.96969697, 0.89090909, 0.76190476, 0.26315789, 0.82978723,\n",
       "       0.94594595, 0.95522388, 0.97777778, 0.51851852, 0.98717949,\n",
       "       0.88157895, 0.8125    , 0.85185185, 0.7826087 , 0.83783784,\n",
       "       0.85      , 0.90425532, 0.62962963, 0.42857143, 0.88571429,\n",
       "       0.97478992, 0.97674419, 0.96875   , 0.84      , 0.86666667,\n",
       "       0.89795918, 0.91176471, 0.98076923, 0.82      , 0.86046512,\n",
       "       0.72      , 0.89655172, 0.85294118, 0.7037037 , 0.70833333,\n",
       "       0.72222222, 0.92682927, 0.30769231, 0.7027027 , 0.82608696,\n",
       "       0.69230769, 0.79166667, 0.62068966, 0.9245283 , 0.27272727,\n",
       "       0.82352941, 0.725     , 0.27027027, 0.05      , 0.76744186,\n",
       "       0.58333333, 0.9047619 , 0.92156863, 0.90163934, 0.98      ,\n",
       "       0.79310345, 0.95744681, 0.73333333, 0.95588235, 0.90196078,\n",
       "       0.88      , 0.98571429, 0.97802198, 0.56756757, 0.5625    ,\n",
       "       0.65217391, 0.98387097, 0.72727273, 0.73684211, 0.88095238,\n",
       "       0.99056604, 0.95121951, 0.91836735, 0.48387097, 0.97222222,\n",
       "       0.94285714, 0.96363636, 0.74603175, 0.61538462, 0.3       ,\n",
       "       0.47058824, 0.88679245, 0.61904762, 0.45      , 0.60606061,\n",
       "       0.57692308, 0.67567568, 0.94186047, 0.54545455, 0.57142857,\n",
       "       0.53333333, 0.31578947, 0.88636364, 0.94666667, 0.375     ,\n",
       "       0.68      , 0.975     , 0.84375   , 0.36      , 0.77272727,\n",
       "       0.90322581, 0.57894737, 0.86792453, 0.97435897, 0.94382022,\n",
       "       0.98901099, 0.58064516, 0.92105263, 0.86842105, 0.38461538,\n",
       "       0.97468354, 0.69387755, 0.80555556, 0.99065421, 0.97916667,\n",
       "       0.88732394, 0.99367089, 0.92957746, 0.97183099, 0.97      ,\n",
       "       0.90140845, 0.89130435, 0.46666667, 0.52941176, 0.97142857,\n",
       "       0.925     , 0.59574468, 0.90566038, 0.98412698, 0.8452381 ,\n",
       "       0.59259259, 0.85416667, 0.96226415, 0.45945946, 0.22580645,\n",
       "       0.74074074, 0.98863636, 0.68421053, 0.93478261, 0.80165289,\n",
       "       0.98245614, 0.68085106, 0.21428571, 0.92537313, 0.78688525,\n",
       "       0.54054054, 0.87878788, 0.86111111, 0.79487179, 0.96721311,\n",
       "       0.98837209, 0.87341772, 0.84313725, 0.26470588, 0.25925926,\n",
       "       0.83962264, 0.8245614 , 0.23529412, 0.16      , 0.86      ,\n",
       "       0.92982456, 0.88405797, 0.73529412, 0.97619048, 0.20833333,\n",
       "       0.74545455, 0.90625   , 0.89873418, 0.89855072, 0.97826087,\n",
       "       0.94520548, 0.24324324, 0.83908046, 0.73015873, 0.75609756,\n",
       "       0.96703297, 0.47619048, 0.8372093 , 0.75862069, 0.65      ,\n",
       "       0.09090909, 0.59090909, 0.71830986, 0.92063492, 0.93023256,\n",
       "       0.83018868, 0.97959184, 0.94642857, 0.65384615, 0.13333333,\n",
       "       0.92783505, 0.5862069 , 0.98333333, 0.44444444, 0.21875   ,\n",
       "       0.91269841, 0.17021277, 0.13636364, 0.64150943, 0.82926829,\n",
       "       0.87301587, 0.77966102, 0.80769231, 0.97014925, 0.74358974,\n",
       "       0.81034483, 0.93650794, 0.69565217, 0.0625    , 0.7972973 ,\n",
       "       0.98461538, 0.90740741, 0.67857143, 0.78      , 0.81355932,\n",
       "       0.75757576, 0.89393939, 0.5483871 , 0.8852459 , 0.18181818,\n",
       "       0.98484848, 0.94805195, 0.93700787, 0.95480226, 0.60869565,\n",
       "       0.77142857, 0.98425197, 0.87804878, 0.68292683, 0.94915254,\n",
       "       0.77192982, 0.4375    , 0.83636364, 0.8627451 , 0.52      ,\n",
       "       0.83870968, 0.78125   , 0.99095023, 0.81395349, 0.83076923,\n",
       "       0.86206897, 0.07407407, 0.74285714, 0.84444444, 0.9924812 ,\n",
       "       0.81132075, 0.74509804, 0.88785047, 0.47368421, 0.97530864,\n",
       "       0.79069767, 0.71875   , 0.95081967, 0.94623656, 0.98148148,\n",
       "       0.86486486, 0.96078431, 0.92647059, 0.64814815, 0.08571429,\n",
       "       0.87931034, 0.70731707, 0.59210526, 0.26666667, 0.53571429,\n",
       "       0.93162393, 0.82758621, 0.70967742, 0.84848485, 0.93965517,\n",
       "       0.81666667, 0.82857143, 0.11764706, 0.94565217, 0.81578947,\n",
       "       0.82178218, 0.78723404, 0.99253731, 0.12121212, 0.76      ,\n",
       "       0.67647059, 0.98026316, 0.42307692, 0.85106383, 0.07142857,\n",
       "       0.04347826, 0.64864865, 0.45833333, 0.87272727, 0.07692308,\n",
       "       0.94392523, 0.98529412, 0.42105263, 0.96808511, 0.890625  ,\n",
       "       0.93269231, 0.99019608, 0.98039216, 0.85365854, 0.88288288,\n",
       "       0.76315789, 0.89361702, 0.87179487, 0.8961039 , 0.81553398,\n",
       "       0.76666667, 0.98924731, 0.55172414, 0.53846154, 0.8028169 ,\n",
       "       0.9516129 , 0.79518072, 0.74418605, 0.08333333, 0.99047619,\n",
       "       0.6969697 , 0.89444444, 0.05555556, 0.67741935, 0.72413793,\n",
       "       0.98181818, 0.80357143, 0.48648649, 0.95092025, 0.85333333,\n",
       "       0.99186992, 0.52380952, 0.03448276, 0.98823529, 0.82539683,\n",
       "       0.9137931 , 0.98290598, 0.43589744, 0.51724138, 0.84090909,\n",
       "       0.91935484, 0.95945946, 0.69117647, 0.98795181, 0.63414634,\n",
       "       0.88372093, 0.91803279, 0.97887324, 0.42372881, 0.83544304,\n",
       "       0.95890411, 0.41176471, 0.98989899, 0.97931034, 0.08695652,\n",
       "       0.96335079, 0.94230769, 0.9010989 ])"
      ]
     },
     "execution_count": 34,
     "metadata": {},
     "output_type": "execute_result"
    }
   ],
   "source": [
    "df[\"single_page_rate\"].unique()"
   ]
  },
  {
   "cell_type": "code",
   "execution_count": 35,
   "metadata": {},
   "outputs": [
    {
     "data": {
      "text/plain": [
       "array([  6,   4,  42,   2,   5,   8,  14,  25,  44,   3,   1,  45,   7,\n",
       "        11,  53,  54,  10,   9,  56,  55,  15,  64,  41,  17,  16,  24,\n",
       "        34,  62,  21,  18,  61,  37,  48,  33,  23,  47,  40,  59,  52,\n",
       "        57,  39,  22,  19,  50,  26,  51,  49,  46,  43,  60,  29,  38,\n",
       "        20,  13,  12,  63,  31,  32,  35,  58,  36,  27,  28, 100,  65,\n",
       "        30,  66], dtype=int64)"
      ]
     },
     "execution_count": 35,
     "metadata": {},
     "output_type": "execute_result"
    }
   ],
   "source": [
    "df[\"sessionQualityDim\"].unique()"
   ]
  },
  {
   "cell_type": "code",
   "execution_count": 36,
   "metadata": {},
   "outputs": [
    {
     "data": {
      "text/plain": [
       "array([1619809803, 1619867532, 1617893676, ..., 1619785032, 1619233350,\n",
       "       1619790770], dtype=int64)"
      ]
     },
     "execution_count": 36,
     "metadata": {},
     "output_type": "execute_result"
    }
   ],
   "source": [
    "df[\"last_visitId\"].unique()"
   ]
  },
  {
   "cell_type": "code",
   "execution_count": 37,
   "metadata": {},
   "outputs": [
    {
     "data": {
      "text/plain": [
       "array([1619809803, 1619867532, 1617893676, ..., 1619785032, 1619233350,\n",
       "       1619790770], dtype=int64)"
      ]
     },
     "execution_count": 37,
     "metadata": {},
     "output_type": "execute_result"
    }
   ],
   "source": [
    "df[\"latest_visit_id\"].unique()"
   ]
  },
  {
   "cell_type": "code",
   "execution_count": 38,
   "metadata": {},
   "outputs": [
    {
     "data": {
      "text/plain": [
       "array([1617217803, 1617275532, 1615301676, ..., 1617193032, 1616641350,\n",
       "       1617198770], dtype=int64)"
      ]
     },
     "execution_count": 38,
     "metadata": {},
     "output_type": "execute_result"
    }
   ],
   "source": [
    "df[\"visitId_threshold\"].unique()"
   ]
  },
  {
   "cell_type": "code",
   "execution_count": 39,
   "metadata": {},
   "outputs": [
    {
     "data": {
      "text/plain": [
       "array([1618315539, 1617821952, 1617297920, ..., 1617863100, 1617209020,\n",
       "       1617210556], dtype=int64)"
      ]
     },
     "execution_count": 39,
     "metadata": {},
     "output_type": "execute_result"
    }
   ],
   "source": [
    "df[\"earliest_visit_id\"].unique()"
   ]
  },
  {
   "cell_type": "code",
   "execution_count": 40,
   "metadata": {},
   "outputs": [
    {
     "data": {
      "text/plain": [
       "array([  24,    8,   46,    5,   42,    2,    1,   52,  198,   16,  254,\n",
       "          7,   29,  172,   40,    4,   64,   99,   55,   15,   53,   26,\n",
       "        441,  101,   38,   56,   37,   10,   23,    6,   28,   32,  318,\n",
       "        274,  113,   44,   41,   39,   27,    9,  326,  340,   45,   36,\n",
       "          3,   65,  120,   35,  144,  473,  142,   49,  543,   48,  152,\n",
       "         25,   17,  163,  157,  112,   14,   50,   75,   73,  105,   13,\n",
       "        178,   54,   31,  213,  194,  162,   96,   30,   12,  117,  233,\n",
       "        238,  150,   47,   81,  124,   51,  118,   76,  109,  768,   21,\n",
       "         33,   71,  345,   20,   11,   92,   80,  159,  266,  107,   67,\n",
       "        248,  155,   93,  169,  284,   95,   18,   85,   94,  216,   62,\n",
       "         84,  128,   34, 2642,  287,  148,  200,   98,  332,  188,  115,\n",
       "         83,  262,  261,  354,   68,  619,  151,  196,  158,  108,  182,\n",
       "        191,  185,  209,   57,   69,  122,   72,  131,   60,  221,  121,\n",
       "        175,   90,  280,  129,  106,  749,  253,   88,  183,  374,  235,\n",
       "         63,   91,  256,  432,  104, 1306,  111,   43,   70,  136,  290,\n",
       "        393,  333,  499,  141,  146,  199,   61,  201,   19,  193,  296,\n",
       "        179,   74,  123,  133,  167,  130,  168,   86,  166,  330,  145,\n",
       "        373,   82,  197,  364,   66,  791,  210,  103,  135,  132,  110,\n",
       "        240,  102,  239,  127,  143,  309,  479,  247,  291,   22,  251,\n",
       "        126,  265,   87,  271,  181,  125,  423,  548,  220,   78,  311,\n",
       "        147,   89,  424,  553,  207,  100,  628,  375,  539,  909,  116,\n",
       "        192,  236,  353,  283,  277,  285,  173,  359,  227,  278,   97,\n",
       "        119,  363,   58,  324,  366,  184,  620,  234,  231,  305,  350,\n",
       "        300,  425, 1119,  298,  579,   59,  242,  219,  228,  140,  357,\n",
       "        455,  153,  180,  195,  302,  319,  437,   79,  187,  532,  114,\n",
       "        368,  165,  204,  161,  154,  313,  585,  211,  422,  255,  334,\n",
       "        214,  349,   77,  448,  338, 1114,  139,  339,  237,  203,  218,\n",
       "        312,  249,  176,  134,  224,  263,  226,  206,  667,  327,  243,\n",
       "        690,  316,  170,  186,  428,  512,  954,  397,  427,  308,  371,\n",
       "        245,  485,  434,  149,  171,  246,  383,  217,  156,  365,  282,\n",
       "        476,  398,  360,  160,  137,  650,  558,  465,  208,  461,  174,\n",
       "        292,  250,  343,  164,  329,  260,  272,  335,  609,  279,  315,\n",
       "        267,  264,  258,  484,  269,  252,  190,  376,  138,  351,  709,\n",
       "        426,  680,  564,  307,  259,  257,  225,  417,  299,  241,  380,\n",
       "        328,  410,  440,  286,  481,  453,  616,  355,  372,  222,  215,\n",
       "        516,  229,  289, 1107,  405, 1065,  281,  342,  460,  202,  275,\n",
       "        409,  691,  451, 1560,  637,  379,  336,  520,  391,  348,  177,\n",
       "        392,  559,  489,  402,  550,  389,  602,  471,  352,  740,  323,\n",
       "        741,  205,  276,  467,  632,  497,  655,  395,  600,  583,  189,\n",
       "        320,  613,  840,  488,  760,  230,  850,  447,  492,  546,  577,\n",
       "        358,  344,  675,  322,  483,  370,  464,  377,  317,  571,  314,\n",
       "        347,  223,  411,  891,  244,  470,  533,  742,  504,  687,  526,\n",
       "        674,  557,  623,  346,  388,  869,  400,  433,  642,  694,  381,\n",
       "        968, 1139,  625,  813, 1739,  521,  627,  472,  494,  306,  507,\n",
       "        384,  552,  232,  293,  915,  595,  406,  531,  459,  361,  468,\n",
       "        753, 1084,  303,  500,  523, 1086,  362,  505,  456,  436,  394,\n",
       "        341,  582,  439,  721,  301, 1073,  788, 1125,  420,  511,  693,\n",
       "        706,  767,  474,  853, 1501,  669,  408,  295,  382,  469,  273],\n",
       "      dtype=int64)"
      ]
     },
     "execution_count": 40,
     "metadata": {},
     "output_type": "execute_result"
    }
   ],
   "source": [
    "df[\"earliest_visit_number\"].unique()"
   ]
  },
  {
   "cell_type": "code",
   "execution_count": 41,
   "metadata": {},
   "outputs": [
    {
     "data": {
      "text/plain": [
       "array([   32,    62,    47,    14,    50,    37,    64,    60,   241,\n",
       "          30,   279,    80,    42,   200,     6,    67,   223,    21,\n",
       "          70,    77,    79,    29,   445,   147,    38,    66,    46,\n",
       "          69,    52,    97,   157,    41,   126,    99,   267,   335,\n",
       "         353,    22,   125,     5,    49,   182,    51,    40,    27,\n",
       "          10,   263,   362,   606,    68,    12,    57,     2,    34,\n",
       "          72,    76,   322,    36,   181,   492,   164,    11,    43,\n",
       "          59,   620,   155,    35,   215,   191,   276,    16,   161,\n",
       "         129,   109,   158,   148,    81,   101,   149,     4,   120,\n",
       "          87,   113,   100,    83,   116,   159,    18,    85,    39,\n",
       "           1,   234,   111,    88,   256,   188,    17,   114,    53,\n",
       "          44,   118,   152,   354,   134,   237,   280,   278,    31,\n",
       "          19,    74,   178,   142,     7,    71,   128,   112,   903,\n",
       "          15,   657,   221,    45,    84,   369,   209,   107,   123,\n",
       "           9,    48,   121,   177,   288,   229,   135,   167,   133,\n",
       "          65,   163,   132,    20,    73,   255,   171,   611,   169,\n",
       "           3,    28,   205,   124,   327,   173,   261,    78,   196,\n",
       "          95,    26,    94,    61,   145,   259,   103,   469,  2730,\n",
       "         281,  1486,    54,   340,   175,  1029,   208,   375,   206,\n",
       "         115,   137,   119,   141,    82,    98,   130,    89,   343,\n",
       "         315,   747,   363,    90,   656,   383,   156,   230,    55,\n",
       "         285,   108,   309,   213,   204,   227,   268,    58,   143,\n",
       "         531,   166,   151,    24,   532,   139,    63,     8,   251,\n",
       "         144,   749,   187,   294,   110,   210,   344,   160,   154,\n",
       "         218,   308,    86,    33,   226,  1087,   162, 82454,   284,\n",
       "          56,   199,   393,   104,   384,   636,   183,    13,   513,\n",
       "         127,   451,   481,   122,  1431,   239,   117,   170,   246,\n",
       "          93,   289,   324,   367,   102,   257,    96,   440,   423,\n",
       "         368,    25,   395,   571,   231,   211,   192,   397,   313,\n",
       "         220,  1253,   233,   359,   185,    23,   219,   146,   150,\n",
       "         508,   311,   189,   131,   342,   392,   153,   409,   106,\n",
       "         300,   824,   385,    92,   283,    91,   212,   323,   479,\n",
       "         216,   442,   314,   310,   270,   138,   217,   316,   301,\n",
       "         249,   613,   604,   653,   193,   430,   467,   575,   168,\n",
       "          75,   339,   321,   165,   247,   184,   569,   232,   739,\n",
       "         396,   349,   553,   975,   258,   236,   198,   243,   562,\n",
       "         371,   264,   180,   228,   140,   317,   203,   306,   593,\n",
       "         699,   452,   382,   274,   179,   214,   377,   248,   477,\n",
       "         448,   386,   197,   136,   669,   282,   312,   381,   478,\n",
       "         105,   437,  1141,   884,   334,   374,   222,   297,   265,\n",
       "         195,   991,   401,   370,   186,   273,   272,   501,   174,\n",
       "         376,   473,   476,   176,   325,   465,   320,   194,   544,\n",
       "         380,   254,   356, 82661,   292,   298,   418,   576,   338,\n",
       "         302,   434,   330,   631,   224,   490,   627,   499,   361,\n",
       "        1202,  1080,   347,   586,   260,   589,   486,   438,   889,\n",
       "         245,   235,   244,   634,   568,   700,   266,   328,   957,\n",
       "         190,   290,   480,   681,   710,   348,   250,   537,   391,\n",
       "         331,   402,   722,   461,   387,   225,   500,   207,   360,\n",
       "         332,  1075,   446,   474,   421,   444,   410,   201,   364,\n",
       "         522,   172,   456,   269,   271,   541,   605,   668,   293,\n",
       "         518,   253,   429,   579,   728,  3175,   326,   252,   561,\n",
       "         485,   460,   337,   509,   420,   505,   373,   412,   487,\n",
       "         333,   277,   578,   645,   394,   413,   341,   403,   238,\n",
       "         453,   526,   350,   551,   291,   286,   427,   783,   355,\n",
       "         411,   464,   536,   450, 82802,   748,   443,   698,   633,\n",
       "         534,   471,   378,   307,   547,  1044,   736,   426, 82406,\n",
       "         305,   459,   554,   630,   329,   770,   345,   556,   415,\n",
       "         202,   715,  1442,   454,   287, 82449,   295,  1157,   616,\n",
       "         416,   240,   242,   319,   262,   365,   792,  1707,   366,\n",
       "        1038,   662,   493, 82701,   555,   529,   419,   304,   595,\n",
       "         543,   431,   468,   504,   581,   336,   664,   358,   912,\n",
       "         296,   800,   742, 82104,   516,   690,   528,   708,   663,\n",
       "         659,   599,   275,   484,   546,  1067,   687,   603,   545,\n",
       "         801,   905,   470,   573,   778,   439,   422,   959,   726,\n",
       "         788,   564,   407,   685,   629,   519,   600,   352,   489,\n",
       "         433,   808,   689,   971,   303,   436,   457,   565,   836,\n",
       "         514,   574,   799,   608,   548,   346,   718,   414,   703,\n",
       "         405,   472,   973,   379,   775,   424,   517,   389,   449,\n",
       "         299,   496,   908,   372,   318,  1042,   503,   679,   795,\n",
       "         987,  1206, 82101,   873,  1783, 78531,   651,   994,   667,\n",
       "         552,   585,   441,   482,   506,  1230,   398,   539,   530,\n",
       "         666,   563,   601,   946,   671,   388,   857,   580,   535,\n",
       "       82930,   790,  1128,   538,  1129, 82163,   523,  1131,   525,\n",
       "        1262,   502,   488,   495,   400,   835,   641,   721, 82001,\n",
       "         567,   874,  1168,   744,   771,   772,   734,   766,   716,\n",
       "         674,  1098,   928,   494,  1130,   819,  1645,   510,   693,\n",
       "        1245,  1252,   428,   584,   769,   404,   557,   711,   676,\n",
       "         462], dtype=int64)"
      ]
     },
     "execution_count": 41,
     "metadata": {},
     "output_type": "execute_result"
    }
   ],
   "source": [
    "df[\"latest_visit_number\"].unique()"
   ]
  },
  {
   "cell_type": "code",
   "execution_count": 42,
   "metadata": {},
   "outputs": [
    {
     "data": {
      "text/plain": [
       "array([12.08, 18.98, 17.42, ...,  2.25, 21.92, 23.12])"
      ]
     },
     "execution_count": 42,
     "metadata": {},
     "output_type": "execute_result"
    }
   ],
   "source": [
    "df[\"time_earliest_visit\"].unique()"
   ]
  },
  {
   "cell_type": "code",
   "execution_count": 43,
   "metadata": {},
   "outputs": [
    {
     "data": {
      "text/plain": [
       "array([19.17, 11.2 , 14.9 , ...,  0.48, 23.1 ,  2.97])"
      ]
     },
     "execution_count": 43,
     "metadata": {},
     "output_type": "execute_result"
    }
   ],
   "source": [
    "df[\"time_latest_visit\"].unique()"
   ]
  },
  {
   "cell_type": "code",
   "execution_count": 44,
   "metadata": {},
   "outputs": [
    {
     "data": {
      "text/plain": [
       "array([18, 11, 17, 15, 10, 14, 12, 13,  9,  7,  6, 16, 19,  8, 23,  4,  3,\n",
       "        5,  2, 20, 21, 22,  0,  1], dtype=int64)"
      ]
     },
     "execution_count": 44,
     "metadata": {},
     "output_type": "execute_result"
    }
   ],
   "source": [
    "df[\"avg_visit_time\"].unique()"
   ]
  },
  {
   "cell_type": "code",
   "execution_count": 45,
   "metadata": {},
   "outputs": [
    {
     "data": {
      "text/plain": [
       "array([0], dtype=int64)"
      ]
     },
     "execution_count": 45,
     "metadata": {},
     "output_type": "execute_result"
    }
   ],
   "source": [
    "df[\"days_since_last_visit\"].unique()"
   ]
  },
  {
   "cell_type": "code",
   "execution_count": 46,
   "metadata": {},
   "outputs": [
    {
     "data": {
      "text/plain": [
       "array([17, 24,  7,  1, 29, 26, 25, 28, 11, 22,  8, 27, 20,  0, 30, 21, 19,\n",
       "       15, 14, 12, 18, 13, 23, 10,  2,  6,  9,  3, 16,  5,  4],\n",
       "      dtype=int64)"
      ]
     },
     "execution_count": 46,
     "metadata": {},
     "output_type": "execute_result"
    }
   ],
   "source": [
    "df[\"days_since_first_visit\"].unique()"
   ]
  },
  {
   "cell_type": "code",
   "execution_count": 47,
   "metadata": {},
   "outputs": [
    {
     "data": {
      "text/plain": [
       "array([ 66.33333333,  73.48      ,  37.375     , ...,  44.26086957,\n",
       "        32.72      , 398.06451613])"
      ]
     },
     "execution_count": 47,
     "metadata": {},
     "output_type": "execute_result"
    }
   ],
   "source": [
    "df[\"visits_per_day\"].unique()"
   ]
  },
  {
   "cell_type": "code",
   "execution_count": 48,
   "metadata": {},
   "outputs": [
    {
     "data": {
      "text/plain": [
       "array([0.  , 0.47, 0.08, 0.12, 0.25, 0.27, 0.14, 0.71, 0.6 , 0.44, 0.05,\n",
       "       0.01, 0.04, 0.18, 0.4 , 0.09, 0.28, 3.12, 0.11, 0.17, 0.33, 0.06,\n",
       "       2.  , 0.1 , 0.03, 3.21, 0.15, 0.41, 0.2 , 1.14, 1.38, 0.07, 0.8 ,\n",
       "       0.19, 0.34, 0.55, 0.02, 0.56, 0.38, 0.21, 1.08, 0.29, 0.42, 0.52,\n",
       "       0.68, 1.61, 0.62, 1.  , 0.3 , 0.89, 0.22, 0.36, 0.31, 0.48, 2.55,\n",
       "       0.63, 0.13, 1.24, 0.88, 0.16, 0.5 , 0.23, 0.67, 0.58, 0.57, 0.26,\n",
       "       1.42, 0.94, 1.06, 0.45, 0.24, 0.93, 1.13, 0.35, 0.32, 0.37, 1.25,\n",
       "       0.64, 1.64, 2.19, 1.2 , 1.35, 0.9 , 0.83, 1.33, 0.91, 1.11, 0.82,\n",
       "       0.75, 1.29, 4.67, 0.43])"
      ]
     },
     "execution_count": 48,
     "metadata": {},
     "output_type": "execute_result"
    }
   ],
   "source": [
    "df[\"bounce_rate\"].unique()"
   ]
  },
  {
   "cell_type": "code",
   "execution_count": 49,
   "metadata": {},
   "outputs": [
    {
     "data": {
      "text/plain": [
       "array(['gulfnews', '(direct)', 'google', 'mobile', 'etisalat', 'facebook',\n",
       "       'criteo', 'Philips', 'newsletter', 'coupon.ae', 'Pricena_AE',\n",
       "       'Apple', 'yahoo', 'Pricena_AE_Home', 'yaoota', 'bing',\n",
       "       'SocialMedia', 'everysaving.ae',\n",
       "       'be485de1f44c0701f7e64396398f6eea.safeframe.googlesyndication.com',\n",
       "       'm.facebook.com', 'identity.majidalfuttaim.com', 't.co',\n",
       "       'yandex.ru',\n",
       "       '4cef946d011ad1fe6e2a064145c07a78.safeframe.googlesyndication.com',\n",
       "       'metric.picodi.net', 'SAPHybris',\n",
       "       'dc3936dc840327a967ff5c01953d9c2a.safeframe.googlesyndication.com',\n",
       "       'dba50a58f5fe8dc9a1c512d1d0b21639.safeframe.googlesyndication.com',\n",
       "       'Facebook', 'ae.asaan.com',\n",
       "       '72ffcfd408248b4507bb3c3176006456.safeframe.googlesyndication.com',\n",
       "       'e8e6941d3021c0e371c7fc1bd2fcb99c.safeframe.googlesyndication.com',\n",
       "       'l.messenger.com',\n",
       "       '1efcec842380aaae7d937935fb038f7d.safeframe.googlesyndication.com',\n",
       "       'MyCLUBList', 'Sony'], dtype=object)"
      ]
     },
     "execution_count": 49,
     "metadata": {},
     "output_type": "execute_result"
    }
   ],
   "source": [
    "df[\"earliest_source\"].unique()"
   ]
  },
  {
   "cell_type": "code",
   "execution_count": 50,
   "metadata": {},
   "outputs": [
    {
     "data": {
      "text/plain": [
       "array(['gulfnews', 'google', 'Pricena_AE', 'facebook', 'criteo', 'yaoota',\n",
       "       'Pricena_AE_Home'], dtype=object)"
      ]
     },
     "execution_count": 50,
     "metadata": {},
     "output_type": "execute_result"
    }
   ],
   "source": [
    "df[\"latest_source\"].unique()"
   ]
  },
  {
   "cell_type": "code",
   "execution_count": 51,
   "metadata": {},
   "outputs": [
    {
     "data": {
      "text/plain": [
       "array(['app', '(none)', 'cpc', 'inapp', 'push', 'sms', 'channelsight',\n",
       "       'email', 'coupon', 'organic', 'search', 'cartpush',\n",
       "       'reactivationpush', 'signupinapp', 'nosignuppush', 'WhatsApp',\n",
       "       'referral', 'SocialMedia'], dtype=object)"
      ]
     },
     "execution_count": 51,
     "metadata": {},
     "output_type": "execute_result"
    }
   ],
   "source": [
    "df[\"earliest_medium\"].unique()"
   ]
  },
  {
   "cell_type": "code",
   "execution_count": 52,
   "metadata": {},
   "outputs": [
    {
     "data": {
      "text/plain": [
       "array(['app', 'cpc'], dtype=object)"
      ]
     },
     "execution_count": 52,
     "metadata": {},
     "output_type": "execute_result"
    }
   ],
   "source": [
    "df[\"latest_medium\"].unique()"
   ]
  },
  {
   "cell_type": "code",
   "execution_count": 53,
   "metadata": {},
   "outputs": [
    {
     "data": {
      "text/plain": [
       "array(['(not set)', 'custom0==marketplace&+id==*', 'custom0==marketplace',\n",
       "       'custom0==nonfood', '(automatic matching)', 'custom0==food',\n",
       "       'n_HbNfLo8ozmQSW1', '6w4xm8tV5OEkxlJc', 'carrefour',\n",
       "       'brd_brd_all_20201105_mp_t500push', 'id==34229141635120',\n",
       "       '(not provided)', '(Remarketing/Content targeting)',\n",
       "       'carrefour uae online', 'carrefour uae', 'carrefour online',\n",
       "       'Dynamic Search Ads', 'custom2==c4now', 'VR-iFlrG_M7WplFj',\n",
       "       'a6e5ivISlBaLZNFl', 'id==753858351456',\n",
       "       'brd_brd_all_20200727_mp_combined', 'id==679264329914',\n",
       "       'id==1630353', '+almarai +cheese', 'photo frames', 'id==1343039',\n",
       "       'carrefour dubai', 'brd_brd_all_20200715_fnf_combined',\n",
       "       'id==280782', 'dxb_brd_all_20200715_fnf_combined',\n",
       "       'id==759068962248', 'id==720634', 'id==8844901201300',\n",
       "       'bZpz1JI8sqA7Ds2D', 'auh_brd_all_20200818_fnf_combined',\n",
       "       'id==71179395003', 'id==181491',\n",
       "       'brd_brd_all_20200807_fnf_combined', '+airpods', 'id==1671680',\n",
       "       'brd_brd_all_20201106_mp_t500push',\n",
       "       'brd_brd_all_20210321_mp_combined', '4imGUn4U7J4uwg6j',\n",
       "       'v_CWQYO_vU8tGMqq', 'iphone', 'carrefour offers', 'id==1377654',\n",
       "       'carrefour online shopping', 'id==691165285397',\n",
       "       'id==191171420244', 'zT9kCG5gWlk5MOTe', 'id==1494427',\n",
       "       'custom2==topfood', 't3MPh2A1RQYdATVM', 'carrfour', 'id==1494428',\n",
       "       'carefour', 'id==1950031295533', 'id==733246', 'id==1641616',\n",
       "       'id==811162', 'iphone price', 'zh1QfdyftPv2BXNM', 'id==1747445',\n",
       "       'id==1088219', 'id==1756302', 'id==1302441', 'id==4948872311663',\n",
       "       'id==4586514521917', 'carrefour online dubai',\n",
       "       'brd_brd_all_20201011_mp_combined', 'feBCT1R8L3L5a_DU',\n",
       "       'id==840080566627', 'OJ2c1OnsSm5Ghzab', 'brd_auh_all_20210421_fnf',\n",
       "       'id==1025754', 'carrefour ae', 'id==1692807', 'id==1551401',\n",
       "       'id==1790753', 'id==1630040', 'custom0==food&+id==1105439',\n",
       "       'id==1446054', 'id==6000000171', 'id==791577395551',\n",
       "       'id==8004399328600', 'id==69425', 'carrefour now', 'id==1691356',\n",
       "       'id==5712450053264', 'id==241100', 'id==nah00772',\n",
       "       'id==6941059603283', 'maf carrefour', 'custom2==topbs',\n",
       "       'wX1YeX5ShpWa4h9i', 'id==1371394', 'grocery delivery dubai',\n",
       "       'id==mzbw940009952', 'id==1601024', 'id==825777', '+ps4', 'كارفور',\n",
       "       'id==1718148', 'id==859072', 'id==840080597775', '+talabat',\n",
       "       'id==840023208201', 'lulu offers', 'id==4015672110465',\n",
       "       'brd_dxb_all_20210421_fnf_combined', 'id==1173270', 'id==1602907',\n",
       "       'brand==samsung&+custom0==marketplace', 'id==6845', 'id==1595723',\n",
       "       '+potato', 'lemon', 'id==1311558',\n",
       "       'brd_auh_all_20210411_fnf_combined', 'id==b08cz84x7z',\n",
       "       'carrefour delivery', 'brand==samsung', 'id==1546857',\n",
       "       'brd_brd_all_20210312_mp_combined',\n",
       "       'brd_brd_all_20210413_mp_combined', 'id==1596843', 'id==709468',\n",
       "       'id==1629894', 'id==69315', 'id==1546500', 'id==1694337',\n",
       "       'id==69326', 'id==1566945', 'brd_dxb_all_20210411_fnf_combined',\n",
       "       'id==c166418689', 'id==n26454614a', 'id==1489040', 'id==577822',\n",
       "       'id==6291108690437', 'custom0==food&+id==1065990',\n",
       "       'id==6955578033858', 'id==190198626318', 'id==1536549',\n",
       "       'id==1631594', 'id==1748216', 'id==526222', 'id==1683632',\n",
       "       'carrefour tv', 'id==89623124942130', 'id==1352999',\n",
       "       'carrefour online uae', 'id==1595593', 'id==4948872411486',\n",
       "       'id==253618', 'id==69319', 'shj_brd_all_20201109_fnf_combined',\n",
       "       'id==78985642389654', 'tv', 'id==1446649', 'id==1031102',\n",
       "       'id==889842501360', 'id==1600866', 'id==11448',\n",
       "       'id==5901705903010', 'id==1950031112489', 'id==349424',\n",
       "       '+carrefour', 'lwdWCNIChmfcQkRh',\n",
       "       'ajm_brd_all_20201109_fnf_combined', 'id==1284803', 'id==1211690',\n",
       "       'id==1748315', 'chocolates', 'id==1313845', 'id==1362696',\n",
       "       'id==160364', '+onions', 'id==1598652', 'id==8012252020042',\n",
       "       'id==1765863487960', 'id==1165519', 'id==604678979370',\n",
       "       'id==1487760', 'id==936324', 'id==1551400', 'id==191170831522',\n",
       "       'id==1208225', 'id==1004305', 'id==1602892', 'id==1354676',\n",
       "       'id==893191', 'id==1184566', 'id==905821', 'id==220323',\n",
       "       'id==1290947', 'brd_brd_all_20201221_fnf_crfnow',\n",
       "       'B906aKfM15U90AkI', 'id==791561197741', 'id==8806090329159',\n",
       "       'id==1312485', 'custom2==topnf', 'id==1711334', 'id==1025764',\n",
       "       'id==183354', 'id==6000000135', 'id==267867', 'id==1118367',\n",
       "       'id==278166', 'id==1343035', 'carrefour deals', 'id==1215392',\n",
       "       'id==7723', 'id==1354268', 'id==1208900',\n",
       "       'product_type_l1==water floss',\n",
       "       'brd_brd_all_20201210_fnf_combined_bulk', 'id==6925466185471',\n",
       "       '+rice', 'id==1164917', 'KDJmGkVypcbaC1i_', 'id==190198452870',\n",
       "       'id==1269259', 'id==031hmf1900010', 'id==1555442', 'id==1270395',\n",
       "       'id==1572427', 'brd_brd_dxb_all_20210321_lkl1%', 'id==1163426',\n",
       "       'id==803570', 'id==1683740', 'carrefour promo',\n",
       "       'id==88901139017045', 'id==1511207', 'custom0==*', 'id==521482',\n",
       "       'id==267870', 'iphone 12', 'id==765531681734', 'id==1604957',\n",
       "       'id==743861', 'papaya', 'id==1260032', 'id==974144',\n",
       "       '+white +friday +sale', 'id==cn445446combo',\n",
       "       'auh_brd_all_20201221_crfnow', 'custom2==t500',\n",
       "       'brd_brd_auh_all_20210321_lkl1%', 'id==1586437', 'id==1790403',\n",
       "       'id==1696256', 'carrefour my club', 'id==5958', 'id==1580970',\n",
       "       'id==985808', '+lacnor +milk', 'id==678173', 'id==1393563487968',\n",
       "       'id==1277389', 'Marketplace', 'brd_brd_all_20201221_crfnow',\n",
       "       'id==1493994', 'id==7808193862558', 'id==1205749',\n",
       "       'brd_brd_all_20190926', 'id==859716007601', 'id==6000000369',\n",
       "       'id==10654', 'id==1266559', 'id==6527', 'id==1719523',\n",
       "       'id==1107608', 'iphones', 'id==1765963487969', 'id==1783642',\n",
       "       'rak_brd_all_20201109_fnf_combined', 'carrefour shop online',\n",
       "       'id==1240826', 'id==689993909493', 'id==1686914',\n",
       "       '20210307_BAU_CRF_TAC_EN_AE_1AED_E___30 AED OFF',\n",
       "       'id==1234567891457', 'id==657995', 'id==89862554130100',\n",
       "       'id==242325', 'id==1308531', 'id==1025756', 'id==1166544',\n",
       "       'id==131829', 'id==1268547', 'id==451445256541', 'id==8733',\n",
       "       'product_type_l1==smartphones 4g', 'iphone 12 pro', 'id==11532',\n",
       "       'brd_brd_all_20200806_mp_push', 'id==1241214', 'id==687408728448',\n",
       "       'id==78236', 'id==796062317551', 'id==1603145', 'id==1648271',\n",
       "       'id==1025753', 'id==1655912', 'id==1724209',\n",
       "       '20210221_BAU_CRF_TAC_EN_AE_1AED_E___Shipping & Delivery',\n",
       "       'id==1718138', 'id==1671524', 'id==530074', 'id==1546888',\n",
       "       'id==1111915', 'custom0==food&+id==70636', 'id==1597296',\n",
       "       'id==1316685', '+grocery +delivery +dubai', 'id==1312345679081',\n",
       "       'id==1607208', 'id==6249958774609', 'id==802233', 'id==1622589',\n",
       "       'id==1349071', 'id==1107936', 'id==801224', 'id==1195922',\n",
       "       'dxb_brd_all_20201221_crfnow', 'mangoes', 'lkl_8pur_all_20201106',\n",
       "       'carrefour voucher code', 'id==1536698', 'id==5480', 'id==1259755',\n",
       "       'id==1090753', 'id==5094301115544', 'id==1633773', 'id==1725663',\n",
       "       'id==190198805843', '+cheese', '+bbq +grills', 'id==1239682',\n",
       "       'id==1787890', 'id==380770', 'id==689549649364', 'id==1354742',\n",
       "       'id==888462779913', 'id==1558652', 'id==194252049013',\n",
       "       'id==1365621', 'id==1025757', 'id==791309283866', 'id==1719525',\n",
       "       'id==1061925', 'id==1352573', 'maf carrefour online shopping',\n",
       "       '+vegetables', 'id==1763048', 'id==981632', 'id==402003',\n",
       "       'id==1267599', 'id==11132', 'id==1220863', 'id==1719763',\n",
       "       'id==603882052015', 'id==1649689', 'id==791555584786',\n",
       "       'id==1721572', 'id==4015630982110', 'id==1652084',\n",
       "       '20210304_CRF_BAU_AE_EN_MrUSta___Contact Us', 'id==4547597976425',\n",
       "       'id==692617683259', 'noon', 'id==1448497', 'id==7426923681882',\n",
       "       'id==1030361', 'id==385536', 'id==b07c232zgm', 'id==6955578033810',\n",
       "       'id==6955578032950', 'id==1747463', '+beans', 'carrefour vouchers',\n",
       "       'id==1272347', 'id==1792804', 'id==1648847', 'id==1715717',\n",
       "       'id==1313655', 'id==1795277', 'id==1234567891135', '+almond +milk',\n",
       "       'id==1729715', 'id==1721078', 'brd_brd_all_20201108_mp_t500push',\n",
       "       'custom0==food&+id==458465', 'lulu hypermarket', 'id==1302040',\n",
       "       '+batteries', 'id==191171420879', 'id==1122566', 'id==113501',\n",
       "       'id==6934177710612', 'id==1790870', 'id==1631593',\n",
       "       'id==772324474620', 'id==8078', 'id==385550', 'id==500644',\n",
       "       'id==655401', 'id==1738987'], dtype=object)"
      ]
     },
     "execution_count": 53,
     "metadata": {},
     "output_type": "execute_result"
    }
   ],
   "source": [
    "df[\"earliest_keyword\"].unique()"
   ]
  },
  {
   "cell_type": "code",
   "execution_count": 54,
   "metadata": {},
   "outputs": [
    {
     "data": {
      "text/plain": [
       "array(['(not set)', '(automatic matching)', 'custom0==marketplace&+id==*',\n",
       "       'custom0==marketplace', 'custom0==food', 'custom0==nonfood',\n",
       "       'dxb_brd_all_20201221_crfnow', 'brd_brd_all_20210321_mp_combined',\n",
       "       '6w4xm8tV5OEkxlJc', 'id==190199246850',\n",
       "       'brd_brd_all_20201105_mp_t500push',\n",
       "       '(Remarketing/Content targeting)', 'carrefour online',\n",
       "       'Dynamic Search Ads', 'id==759068962248', 'id==1025754',\n",
       "       'carrfour', 'id==8844901224606', 'VR-iFlrG_M7WplFj',\n",
       "       'n_HbNfLo8ozmQSW1', 'id==1452885', 'carrefour', 'carrefour uae',\n",
       "       'brd_rak_all_20210421_fnf_combined', 'a6e5ivISlBaLZNFl',\n",
       "       'brd_brd_all_20200727_mp_combined', 'id==1250047', 'id==1551754',\n",
       "       'id==1313654', 'id==1630353', 'id==711719399308', 'id==1313655',\n",
       "       '+almarai +cheese', 'custom2==c4now', 'photo frames',\n",
       "       'id==1603515', 'brd_shj_20210421_fnf_combined', 'id==1004305',\n",
       "       'carrefour offers', 'id==1084479', 'id==1514202',\n",
       "       'carrefour dubai', 'brd_brd_all_20200715_fnf_combined',\n",
       "       'id==280782', 'id==1180841', 'id==1371394', 'id==299030',\n",
       "       'id==8844901201300', 'bZpz1JI8sqA7Ds2D', 'carrefour online uae',\n",
       "       'كارفور', 'carrefouruae', 'id==71179395003', 'u_FeLnrqEknJPEct',\n",
       "       'id==181491', 'product_type_l1==organic canned fruits',\n",
       "       'id==1748233', 'id==191170831522', 'id==1091328', 'id==1535540',\n",
       "       '+airpods', 'id==336708', 'brd_brd_all_20200807_fnf_combined',\n",
       "       'id==689549649364', 'id==1302040',\n",
       "       'brd_brd_all_20201106_mp_t500push', 'id==1167', '4imGUn4U7J4uwg6j',\n",
       "       'id==796062439901', 'id==892036', 'id==44785458745',\n",
       "       'brd_brd_dxb_20210421_fnf_combined', 'id==1664426', 'iphone',\n",
       "       'id==051ljd1300001', 'carrefour vouchers', 'id==37592220401823',\n",
       "       'id==655401', 'id==1438197', 'carefour',\n",
       "       'auh_brd_all_20200818_fnf_combined', 'id==1482291',\n",
       "       'id==b07q6q8kr9', 'id==191171420244', 'B906aKfM15U90AkI',\n",
       "       'id==1425223', 'brd_brd_all_20210413_mp_combined', 'id==1118352',\n",
       "       'custom2==topfood', 'id==1483766', 'zT9kCG5gWlk5MOTe',\n",
       "       'id==1234567891135', 'id==7725', 'MN8z-yLc3TE4Bdak', 'id==1656543',\n",
       "       'dxb_brd_all_20200715_fnf_combined', 'id==783923', 'id==1261640',\n",
       "       'id==1784399', 'id==6934177735789', 'zh1QfdyftPv2BXNM',\n",
       "       'carrefour online shopping', 'id==1684459', 'id==8682226429524',\n",
       "       'vegetables', 'id==2244103781000', 'carrefour voucher code',\n",
       "       'id==1543357', 'id==1411690', 'كارفور الامارات', 'id==1238302',\n",
       "       'hand blenders price', 'id==788655', 'id==992305',\n",
       "       'brd_auh_all_20210421_fnf', 'id==1651723', 'id==1691726',\n",
       "       'id==1107938', 'id==1595724', 'id==711719395102',\n",
       "       'shj_brd_all_20201109_fnf_combined', 'id==1302441', 'id==1542965',\n",
       "       'id==1151681', 'id==810029930147', 'id==191171420787',\n",
       "       'brd_dxb_all_20210421_fnf_combined', 'id==1349071',\n",
       "       'id==753858351748', 'id==1572428', 'id==6971408152254',\n",
       "       'id==4586514521917', 'id==1125443', 'carrefour online dubai',\n",
       "       'brd_brd_all_20201011_mp_combined', 'feBCT1R8L3L5a_DU',\n",
       "       'id==840080566627', 'brd_brd_all_20210312_mp_combined',\n",
       "       'id==1027901', 'id==905821', 'id==6291108690437', 'id==1169730',\n",
       "       'id==1673499', 'carrefour ae', 'id==1692807', 'id==1551401',\n",
       "       'id==7393033102753', 'carrefour uae online',\n",
       "       '+carrefour +now +delivery', 'custom0==food&+id==1105439',\n",
       "       'id==1649238', 'id==6249959018702', 'id==8004399328600',\n",
       "       'id==25198935894616', 'id==1349805', 'id==n18736674a',\n",
       "       'id==1691356', 'id==c166418689',\n",
       "       'brd_auh_all_20210411_fnf_combined', 'purchase washing machines',\n",
       "       'id==717499', 'id==195042510287', 'id==6936034385216',\n",
       "       'id==5712450053264', 'id==n26454614a', 'id==183274',\n",
       "       'id==ek1305704130', 'id==1305227', 'OJ2c1OnsSm5Ghzab', 'id==6782',\n",
       "       'id==5094300129511', 'id==8844901287106', 'id==287556',\n",
       "       'id==1604400', 'id==787850222171', 'custom2==topbs',\n",
       "       'wX1YeX5ShpWa4h9i', 'id==753858351777', 'id==1601991',\n",
       "       'id==1313653', 'grocery delivery dubai', 'id==1343035',\n",
       "       'id==5901705901028', 'id==mzbw940009952', 'dates',\n",
       "       'id==5056355000498', 'id==825777', 'id==1487371', 'id==1367107',\n",
       "       'iphone 12 pro price', 'id==1195922', '+talabat', 'lulu offers',\n",
       "       'ajm_brd_all_20201109_fnf_combined', 'id==1607209', 'id==1173270',\n",
       "       'id==362691', 'id==385550', 'brand==samsung&+custom0==marketplace',\n",
       "       'id==6845', 'id==1446054', 'id==1595723', 'id==1483857',\n",
       "       'id==1311558', 'id==1116423', 'carrefour delivery', 'id==1632125',\n",
       "       'brand==samsung', 'id==1546857', 'carfour', 'id==304458',\n",
       "       'id==1596843', 'id==11079', 'id==709468', 'id==268926',\n",
       "       'id==89623124942130', 'sugar', 'id==69326', 'id==678173',\n",
       "       'id==6934177704789', 'brd_dxb_all_20210411_fnf_combined',\n",
       "       'id==1596305', 'id==1054823', 'id==76531', 'id==1632056',\n",
       "       'iphone 12 pro', 'id==1511777', 'id==190198626318', 'id==1536549',\n",
       "       'id==1595594', 'id==687408726888', 'id==1748216', 'id==526222',\n",
       "       '+ramadan +promo +code', 'id==878171', 'id==b08l5nq2ks',\n",
       "       'id==1051107', 'id==8989', 't3MPh2A1RQYdATVM', 'iphone 12',\n",
       "       'id==885909844135', 'product_type_l1==mineral water',\n",
       "       '+ramadan +offers', 'id==253618', 'id==1689061',\n",
       "       'id==4502158296633', 'tv', 'id==840080597775', 'id==1446649',\n",
       "       'id==889842501360', 'id==1631587', 'id==1025753', 'id==1331173',\n",
       "       'id==5522', 'id==1671522', 'id==1950031112489', 'id==841667139807',\n",
       "       'id==1744629', '+carrefour', 'id==999045', 'id==8904335100539',\n",
       "       'id==1211690', 'id==jf1442', 'id==717784', 'id==1362696',\n",
       "       'id==911963', '+onions', 'id==238958', 'id==6000000028',\n",
       "       'id==5094300118522', 'id==5901705901010', 'id==1681749',\n",
       "       'id==6925466197900', 'id==8012252020042', 'id==1082',\n",
       "       'lwdWCNIChmfcQkRh', 'id==1216476', 'id==1727915', 'id==1763057',\n",
       "       'id==1107219', 'id==1487760', 'id==936324', 'id==73447',\n",
       "       'id==497332', 'carrefour now', 'id==791727207420', 'id==1351539',\n",
       "       'id==5519', 'id==1241214', 'carrefour same day delivery',\n",
       "       'id==1683782', 'id==1354676', 'id==1184566', 'id==220323',\n",
       "       'id==1290947', 'id==11448', 'brd_ajm_all_20210421_fnf_combined',\n",
       "       'carrefour sale', 'brd_brd_all_20201221_fnf_crfnow', 'id==1087774',\n",
       "       'id==1551400', 'id==1360770', 'chocolates', 'id==1312485',\n",
       "       'custom2==topnf', 'brd_brd_auh_all_20210321_lkl1%', 'id==1025764',\n",
       "       'id==1723355', 'id==190198793911', 'id==6000000135', 'id==278166',\n",
       "       'id==625571', 'id==1364510', 'id==1208900', 'id==1748235',\n",
       "       'id==1651898', 'id==1560151', 'id==1061470', 'id==1124794',\n",
       "       'brd_brd_all_20201210_fnf_combined_bulk', 'milk',\n",
       "       'id==6294010819712', 'id==190198744074', 'id==6712', 'id==513581',\n",
       "       'id==1783640', 'id==6925466185471', '+rice', 'id==1316673',\n",
       "       'id==5998', 'KDJmGkVypcbaC1i_', 'id==1420543', 'id==190198452870',\n",
       "       'id==1639396', 'id==476432', 'id==3587925367908', 'id==1572427',\n",
       "       'id==031hmf1900010', 'id==1555442', 'carrefour promo',\n",
       "       'id==78985642389654', 'id==981567', 'id==679264329914',\n",
       "       'id==1683740', 'id==88901139017045', 'id==1025482',\n",
       "       'id==5094301149792', 'id==1350205', 'id==791577395551',\n",
       "       'id==759068962422', 'id==1184918', 'id==b07p6yltb8', 'id==1411536',\n",
       "       'id==1191047', 'id==9341319878289', 'id==8848597040564',\n",
       "       'id==1025756', 'id==1634182', 'id==1784475',\n",
       "       '+white +friday +sale', 'custom2==t500', 'id==5501', 'id==1273810',\n",
       "       'id==1586437', 'product_type_l1==herbs', 'id==1423954',\n",
       "       'chocolates promotion', 'id==5958', 'id==194252019726',\n",
       "       'id==1234567891138', 'id==ek1305706403', 'id==1393563487968',\n",
       "       'brd_brd_all_20201221_crfnow', 'auh_brd_all_20201221_crfnow',\n",
       "       'id==1764816', 'id==1493994', 'id==7808193862558', 'id==1656152',\n",
       "       'id==6000000098', 'brd_brd_all_20190926', 'id==8083',\n",
       "       'id==1739795', 'id==1265226', 'id==6000000369', 'id==951613',\n",
       "       'id==10654', 'v_CWQYO_vU8tGMqq', 'id==6527', 'id==1719523',\n",
       "       'id==8806090615429', 'id==1107608', 'iphones', 'id==174187',\n",
       "       'id==1718136', 'id==1631296', 'id==1395563487962', 'id==987945',\n",
       "       'rak_brd_all_20201109_fnf_combined', 'carrefour shop online',\n",
       "       'id==193575007229', '+carrefour +ramadan', 'id==1166146',\n",
       "       'id==1686914', 'id==1025755', 'id==657995', 'id==1673062', 'meat',\n",
       "       'id==679826', 'id==759068961765', 'id==n13815458a', 'id==1630040',\n",
       "       'id==98761436451245', 'id==6925466207340', '+ramadan +dates',\n",
       "       '+ramadan +food', 'id==131829', 'id==7426923681882',\n",
       "       'id==451445256541', 'id==8733', 'product_type_l1==smartphones 4g',\n",
       "       'id==796062440099', 'id==1720613', 'brd_brd_all_20200806_mp_push',\n",
       "       'id==1685074', 'id==796062317551', 'id==1603145', 'id==1188619',\n",
       "       'id==8246', 'id==1502150', 'id==1724209', 'id==974144',\n",
       "       'id==195161809637', 'id==b08ch8ndb5', 'id==b084h8dlwv',\n",
       "       'product_type_l1==cologne water', 'id==8711281689533',\n",
       "       'brd_shj_all_20210421_fnf_combined', 'id==1284803', 'id==1784401',\n",
       "       'custom0==food&+id==70636', '+beans', 'id==191171420671',\n",
       "       '+grocery +delivery +dubai', 'id==11821', 'id==231330',\n",
       "       'id==7311271625728', 'id==1264540', 'id==1549586', 'id==1783883',\n",
       "       'id==580171063131', 'id==6249958774609', 'id==1485572',\n",
       "       'id==340205', 'id==701197948181', 'id==1295613', 'id==1107936',\n",
       "       'id==8711281689540', 'id==1602907', '+tomatoes',\n",
       "       'id==6291071376147', 'id==6987400089795', 'id==1224610',\n",
       "       'lkl_8pur_all_20201106', 'id==1186547', '+airpods +pro',\n",
       "       'id==1035121', 'id==848029', 'id==151101', 'id==1155590',\n",
       "       'id==6971408151035', 'groceries deal', 'id==1259755',\n",
       "       'id==6971408152452', 'id==1268547', 'id==1031102', 'id==1331175',\n",
       "       'id==1590713', 'id==b08j7vjbfg', 'id==760303', 'id==101023',\n",
       "       'id==b08f41s84r', 'id==6923869204041', 'id==190198805843',\n",
       "       '+cheese', 'id==6221127015447', 'id==1787890', 'id==6291071341053',\n",
       "       'id==4948872411486', 'id==1184467', 'id==602503',\n",
       "       'id==791309283873', 'id==1599568', 'id==6955578033858',\n",
       "       'id==1795277', 'id==1607358', 'id==1767377', 'id==507405',\n",
       "       'id==1365621', 'id==811138038670', 'id==1752538', 'id==1689556',\n",
       "       'id==1025757', 'id==1719525', 'washing machines', 'id==1352573',\n",
       "       '+vegetables', 'id==1763048', 'id==1114', 'id==191171420176',\n",
       "       'id==1748236', 'id==1556172', 'id==981632', 'id==1275794',\n",
       "       'id==192876903742', 'id==1267599', 'id==795526', 'id==11132',\n",
       "       'id==184117', 'id==1602626', 'id==1719763', 'id==791555584786',\n",
       "       'id==1199071', 'id==809287', 'id==1261979', 'id==885609013886',\n",
       "       'id==1649689', 'id==1354742', 'id==1316681', 'id==1652084',\n",
       "       'id==689246924501', 'id==1448497', 'id==1539891', 'id==1552340',\n",
       "       'id==385536', '+lettuce', 'id==194721074690', 'id==1269259',\n",
       "       'id==b07c232zgm', 'id==1747463', 'id==1534810', 'id==1756306',\n",
       "       'id==1272347', 'water delivery', 'id==1592719',\n",
       "       'id==051ljd3100002', 'id==1493831', 'id==315003', 'id==1118379',\n",
       "       'id==656814', '+almond +milk', 'id==1729715',\n",
       "       'brd_brd_all_20201108_mp_t500push', 'id==1783810',\n",
       "       'chocolates sale', 'id==761270574331', 'custom0==food&+id==458465',\n",
       "       'id==759068961888', 'id==859716007632', '+batteries',\n",
       "       'id==1196275', 'id==113501', 'id==1038', 'id==791309283866',\n",
       "       'id==1631593', 'id==1793263', 'id==1092348', 'iphone 12 price',\n",
       "       'id==8559', 'brd_brd_dxb_all_20210321_lkl1%', 'plums',\n",
       "       'id==1195923', 'id==1234567891456'], dtype=object)"
      ]
     },
     "execution_count": 54,
     "metadata": {},
     "output_type": "execute_result"
    }
   ],
   "source": [
    "df[\"latest_keyword\"].unique()"
   ]
  },
  {
   "cell_type": "code",
   "execution_count": 55,
   "metadata": {},
   "outputs": [
    {
     "data": {
      "text/plain": [
       "array([ True, False])"
      ]
     },
     "execution_count": 55,
     "metadata": {},
     "output_type": "execute_result"
    }
   ],
   "source": [
    "df[\"earliest_isTrueDirect\"].unique()"
   ]
  },
  {
   "cell_type": "code",
   "execution_count": 56,
   "metadata": {},
   "outputs": [
    {
     "data": {
      "text/plain": [
       "array([ True, False])"
      ]
     },
     "execution_count": 56,
     "metadata": {},
     "output_type": "execute_result"
    }
   ],
   "source": [
    "df[\"latest_isTrueDirect\"].unique()"
   ]
  },
  {
   "cell_type": "code",
   "execution_count": 57,
   "metadata": {},
   "outputs": [
    {
     "data": {
      "text/plain": [
       "array([ 1900,  3843,   592, ...,  1673,   616, 34999], dtype=int64)"
      ]
     },
     "execution_count": 57,
     "metadata": {},
     "output_type": "execute_result"
    }
   ],
   "source": [
    "df[\"num_interactions\"].unique()"
   ]
  },
  {
   "cell_type": "code",
   "execution_count": 58,
   "metadata": {},
   "outputs": [
    {
     "data": {
      "text/plain": [
       "array([ 0, 14,  2,  1,  4, 10,  3,  6], dtype=int64)"
      ]
     },
     "execution_count": 58,
     "metadata": {},
     "output_type": "execute_result"
    }
   ],
   "source": [
    "df[\"bounces\"].unique()"
   ]
  },
  {
   "cell_type": "code",
   "execution_count": 59,
   "metadata": {},
   "outputs": [
    {
     "data": {
      "text/plain": [
       "array([  5617,  77417,   1576, ..., 159304,   3912,   1212], dtype=int64)"
      ]
     },
     "execution_count": 59,
     "metadata": {},
     "output_type": "execute_result"
    }
   ],
   "source": [
    "df[\"time_on_site\"].unique()"
   ]
  },
  {
   "cell_type": "code",
   "execution_count": 60,
   "metadata": {},
   "outputs": [
    {
     "data": {
      "text/plain": [
       "array([         0, 1477195214,   28745286, ...,  183879066,  363923999,\n",
       "        149151662], dtype=int64)"
      ]
     },
     "execution_count": 60,
     "metadata": {},
     "output_type": "execute_result"
    }
   ],
   "source": [
    "df[\"transactionRevenue\"].unique()"
   ]
  },
  {
   "cell_type": "code",
   "execution_count": 61,
   "metadata": {},
   "outputs": [
    {
     "data": {
      "text/plain": [
       "array(['food////food////food',\n",
       "       '(not set)////baby_products--milk,_food_&_juices--baby_&_toddler_formula--baby_formula_(6-12_years)////baby_products--milk,_food_&_juices--baby_&_toddler_formula--baby_formula_(1-6_years)////food////food////food////food////food////food////food////food////food////food////food////food////food////food////food////food////food////(not set)////(not set)////baby_products--milk,_food_&_juices--baby_&_toddler_formula--baby_formula_(6-12_years)////food////(not set)////(not set)////food////food////food////food////food////baby_products--milk,_food_&_juices--baby_&_toddler_formula--baby_formula_(6-12_years)////food////food////food////baby_products--milk,_food_&_juices--baby_&_toddler_formula--baby_formula_(6-12_years)////food////food////food////food////food////food////food////food////food////food////food////food////food////food////food////food////food////food////food////food////food////food////food////food////food////food////food////food////food////food////food////food////food////food////food',\n",
       "       'food////food', ...,\n",
       "       'baby_products--milk,_food_&_juices--baby_&_toddler_formula--baby_formula_(1-6_years)////baby_products--milk,_food_&_juices--baby_&_toddler_formula--baby_formula_(1-6_years)////baby_products--milk,_food_&_juices--baby_&_toddler_formula--baby_formula_(1-6_years)////baby_products--changing_&_bathing--diapers,_wipes_&_diaper_cream--baby_wipes_family_pack',\n",
       "       'baby_products--changing_&_bathing--diapers,_wipes_&_diaper_cream--baby_diapers////(not set)////baby_products--changing_&_bathing--diapers,_wipes_&_diaper_cream--baby_diapers////(not set)////(not set)////(not set)////(not set)',\n",
       "       'baby_products--changing_&_bathing--diapers,_wipes_&_diaper_cream--baby_diapers////baby_products--milk,_food_&_juices--baby_&_toddler_formula--baby_formula_(0-6_months)////baby_products--changing_&_bathing--pull-ups_&_swimming_pants--baby_pants////baby_products--changing_&_bathing--diapers,_wipes_&_diaper_cream--baby_diapers////baby_products--changing_&_bathing--pull-ups_&_swimming_pants--baby_pants'],\n",
       "      dtype=object)"
      ]
     },
     "execution_count": 61,
     "metadata": {},
     "output_type": "execute_result"
    }
   ],
   "source": [
    "df[\"products_array\"].unique()"
   ]
  },
  {
   "cell_type": "code",
   "execution_count": 62,
   "metadata": {},
   "outputs": [
    {
     "data": {
      "text/plain": [
       "array(['2021-01-01'], dtype=object)"
      ]
     },
     "execution_count": 62,
     "metadata": {},
     "output_type": "execute_result"
    }
   ],
   "source": [
    "df[\"target_date\"].unique()"
   ]
  },
  {
   "cell_type": "code",
   "execution_count": 63,
   "metadata": {},
   "outputs": [
    {
     "data": {
      "text/plain": [
       "array([0, 1], dtype=int64)"
      ]
     },
     "execution_count": 63,
     "metadata": {},
     "output_type": "execute_result"
    }
   ],
   "source": [
    "df[\"has_converted\"].unique()"
   ]
  },
  {
   "cell_type": "code",
   "execution_count": 64,
   "metadata": {},
   "outputs": [],
   "source": [
    "# by seeing this, features like youtube, days_since_last_visit and target_date have only one unique value in their columns. so, we will drop those columns below.\n",
    "\n",
    "# also, id columns like last_visitId, latest_visit_id, visitId_threshold and earliest_visit_id will not be a useful feature for ml model. so, we will also drop those columns."
   ]
  },
  {
   "cell_type": "code",
   "execution_count": 65,
   "metadata": {},
   "outputs": [],
   "source": [
    "# dropping those unnecessary features\n",
    "df.drop(columns = [\"youtube\", \"last_visitId\", \"latest_visit_id\", \"visitId_threshold\", \"earliest_visit_id\", \n",
    "                   \"days_since_last_visit\", \"target_date\"], inplace = True)\n"
   ]
  },
  {
   "cell_type": "code",
   "execution_count": 66,
   "metadata": {},
   "outputs": [
    {
     "data": {
      "text/plain": [
       "(9207, 39)"
      ]
     },
     "execution_count": 66,
     "metadata": {},
     "output_type": "execute_result"
    }
   ],
   "source": [
    "# shape of the data\n",
    "df.shape"
   ]
  },
  {
   "cell_type": "markdown",
   "metadata": {},
   "source": [
    "# Feature Engineering"
   ]
  },
  {
   "cell_type": "code",
   "execution_count": 67,
   "metadata": {},
   "outputs": [],
   "source": [
    "# splitting the product array\n",
    "df['product_list'] = df['products_array'].str.split('////')"
   ]
  },
  {
   "cell_type": "code",
   "execution_count": 68,
   "metadata": {},
   "outputs": [],
   "source": [
    "products = []\n",
    "for i in df[\"product_list\"]:\n",
    "    for j in i:\n",
    "        products.append(j)"
   ]
  },
  {
   "cell_type": "code",
   "execution_count": 69,
   "metadata": {},
   "outputs": [
    {
     "data": {
      "text/plain": [
       "{'(not set)',\n",
       " 'Baby Products--Changing &amp; Bathing--Diapers, Wipes &amp; Diaper Cream--Baby Diapers',\n",
       " 'Baby Products--Changing &amp; Bathing--Pull-ups &amp; Swimming Pants--Baby Pants',\n",
       " 'Baby_Diapers',\n",
       " 'Baby_Pants',\n",
       " 'Baby_Products',\n",
       " 'Baby_Products--Changing_&_Bathing--Diapers,_Wipes_&_Diaper_Cream--Baby_Diapers',\n",
       " 'Baby_Products--Changing_&amp;amp;_Bathing--Diapers,_Wipes_&amp;amp;_Diaper_Cream--Baby_Diapers',\n",
       " 'Baby_and_Personal_Care',\n",
       " 'Bulk_Savings',\n",
       " 'Changing_&_Bathing',\n",
       " 'Diapers,_Wipes_&_Diaper_Cream',\n",
       " 'Pull-ups_&_Swimming_Pants',\n",
       " 'baby_products--changing_&_bathing--diapers,_wipes_&_diaper_cream--baby_diapers',\n",
       " 'baby_products--changing_&_bathing--diapers,_wipes_&_diaper_cream--baby_wipes_family_pack',\n",
       " 'baby_products--changing_&_bathing--diapers,_wipes_&_diaper_cream--baby_wipes_single_piece',\n",
       " 'baby_products--changing_&_bathing--diapers,_wipes_&_diaper_cream--natural_baby_diapers',\n",
       " 'baby_products--changing_&_bathing--diapers,_wipes_&_diaper_cream--natural_baby_wipes',\n",
       " 'baby_products--changing_&_bathing--pull-ups_&_swimming_pants--baby_pants',\n",
       " 'baby_products--changing_&_bathing--pull-ups_&_swimming_pants--baby_swimming',\n",
       " 'baby_products--changing_&amp;_bathing--diapers,_wipes_&amp;_diaper_cream--baby_diapers',\n",
       " 'baby_products--changing_&amp;_bathing--diapers,_wipes_&amp;_diaper_cream--baby_wipes_family_pack',\n",
       " 'baby_products--changing_&amp;_bathing--pull-ups_&amp;_swimming_pants--baby_pants',\n",
       " 'baby_products--milk,_food_&_juices--baby_&_toddler_formula--baby_formula_(0-6_months)',\n",
       " 'baby_products--milk,_food_&_juices--baby_&_toddler_formula--baby_formula_(1-6_years)',\n",
       " 'baby_products--milk,_food_&_juices--baby_&_toddler_formula--baby_formula_(6-12_months)',\n",
       " 'baby_products--milk,_food_&_juices--baby_&_toddler_formula--baby_formula_(6-12_years)',\n",
       " 'baby_products--milk,_food_&_juices--juices_&_beverages',\n",
       " 'baby_products--milk,_food_&amp;_juices--baby_&amp;_toddler_formula--baby_formula_(0-6_months)',\n",
       " 'baby_products--milk,_food_&amp;_juices--baby_&amp;_toddler_formula--baby_formula_(1-6_years)',\n",
       " 'baby_products--milk,_food_&amp;_juices--baby_&amp;_toddler_formula--baby_formula_(6-12_months)',\n",
       " 'food',\n",
       " 'food_cupboard--tins,_jars_&_packets--powdered_milk',\n",
       " 'food_cupboard--tins,_jars_&amp;_packets--powdered_milk',\n",
       " 'fresh_food--dairy_&_eggs--cheese_&_labneh--labneh',\n",
       " 'fresh_food--dairy_&_eggs--yoghurt--probiotic_yoghurt',\n",
       " 'non_food',\n",
       " 'nonfood',\n",
       " 'حفاضات_اطفال',\n",
       " 'سراويل_الأطفال'}"
      ]
     },
     "execution_count": 69,
     "metadata": {},
     "output_type": "execute_result"
    }
   ],
   "source": [
    "# getting the unique products in the product_list feature\n",
    "unique_products = set(products)\n",
    "unique_products"
   ]
  },
  {
   "cell_type": "code",
   "execution_count": 70,
   "metadata": {},
   "outputs": [
    {
     "data": {
      "text/plain": [
       "40"
      ]
     },
     "execution_count": 70,
     "metadata": {},
     "output_type": "execute_result"
    }
   ],
   "source": [
    "len(unique_products)"
   ]
  },
  {
   "cell_type": "code",
   "execution_count": 71,
   "metadata": {},
   "outputs": [],
   "source": [
    "# making each unique feature as a column in the dataset and mapping as 1 if the product is present and 0 if the product is not present in their respective columns.\n",
    "for i in unique_products:\n",
    "    df[i] = df['product_list'].apply(lambda x: 1 if i in x else 0)"
   ]
  },
  {
   "cell_type": "code",
   "execution_count": 72,
   "metadata": {},
   "outputs": [
    {
     "data": {
      "text/html": [
       "<div>\n",
       "<style scoped>\n",
       "    .dataframe tbody tr th:only-of-type {\n",
       "        vertical-align: middle;\n",
       "    }\n",
       "\n",
       "    .dataframe tbody tr th {\n",
       "        vertical-align: top;\n",
       "    }\n",
       "\n",
       "    .dataframe thead th {\n",
       "        text-align: right;\n",
       "    }\n",
       "</style>\n",
       "<table border=\"1\" class=\"dataframe\">\n",
       "  <thead>\n",
       "    <tr style=\"text-align: right;\">\n",
       "      <th></th>\n",
       "      <th>food_cupboard--tins,_jars_&amp;_packets--powdered_milk</th>\n",
       "      <th>baby_products--milk,_food_&amp;_juices--baby_&amp;_toddler_formula--baby_formula_(1-6_years)</th>\n",
       "      <th>baby_products--milk,_food_&amp;_juices--juices_&amp;_beverages</th>\n",
       "      <th>nonfood</th>\n",
       "      <th>baby_products--milk,_food_&amp;amp;_juices--baby_&amp;amp;_toddler_formula--baby_formula_(6-12_months)</th>\n",
       "      <th>Changing_&amp;_Bathing</th>\n",
       "      <th>baby_products--changing_&amp;amp;_bathing--diapers,_wipes_&amp;amp;_diaper_cream--baby_wipes_family_pack</th>\n",
       "      <th>baby_products--changing_&amp;_bathing--diapers,_wipes_&amp;_diaper_cream--baby_wipes_single_piece</th>\n",
       "      <th>Baby_Products</th>\n",
       "      <th>fresh_food--dairy_&amp;_eggs--yoghurt--probiotic_yoghurt</th>\n",
       "      <th>...</th>\n",
       "      <th>Baby_and_Personal_Care</th>\n",
       "      <th>baby_products--changing_&amp;_bathing--pull-ups_&amp;_swimming_pants--baby_pants</th>\n",
       "      <th>Baby_Products--Changing_&amp;amp;amp;_Bathing--Diapers,_Wipes_&amp;amp;amp;_Diaper_Cream--Baby_Diapers</th>\n",
       "      <th>baby_products--milk,_food_&amp;amp;_juices--baby_&amp;amp;_toddler_formula--baby_formula_(1-6_years)</th>\n",
       "      <th>baby_products--milk,_food_&amp;amp;_juices--baby_&amp;amp;_toddler_formula--baby_formula_(0-6_months)</th>\n",
       "      <th>Baby_Products--Changing_&amp;_Bathing--Diapers,_Wipes_&amp;_Diaper_Cream--Baby_Diapers</th>\n",
       "      <th>baby_products--milk,_food_&amp;_juices--baby_&amp;_toddler_formula--baby_formula_(6-12_years)</th>\n",
       "      <th>سراويل_الأطفال</th>\n",
       "      <th>fresh_food--dairy_&amp;_eggs--cheese_&amp;_labneh--labneh</th>\n",
       "      <th>حفاضات_اطفال</th>\n",
       "    </tr>\n",
       "  </thead>\n",
       "  <tbody>\n",
       "    <tr>\n",
       "      <th>0</th>\n",
       "      <td>0</td>\n",
       "      <td>0</td>\n",
       "      <td>0</td>\n",
       "      <td>0</td>\n",
       "      <td>0</td>\n",
       "      <td>0</td>\n",
       "      <td>0</td>\n",
       "      <td>0</td>\n",
       "      <td>0</td>\n",
       "      <td>0</td>\n",
       "      <td>...</td>\n",
       "      <td>0</td>\n",
       "      <td>0</td>\n",
       "      <td>0</td>\n",
       "      <td>0</td>\n",
       "      <td>0</td>\n",
       "      <td>0</td>\n",
       "      <td>0</td>\n",
       "      <td>0</td>\n",
       "      <td>0</td>\n",
       "      <td>0</td>\n",
       "    </tr>\n",
       "    <tr>\n",
       "      <th>1</th>\n",
       "      <td>0</td>\n",
       "      <td>1</td>\n",
       "      <td>0</td>\n",
       "      <td>0</td>\n",
       "      <td>0</td>\n",
       "      <td>0</td>\n",
       "      <td>0</td>\n",
       "      <td>0</td>\n",
       "      <td>0</td>\n",
       "      <td>0</td>\n",
       "      <td>...</td>\n",
       "      <td>0</td>\n",
       "      <td>0</td>\n",
       "      <td>0</td>\n",
       "      <td>0</td>\n",
       "      <td>0</td>\n",
       "      <td>0</td>\n",
       "      <td>1</td>\n",
       "      <td>0</td>\n",
       "      <td>0</td>\n",
       "      <td>0</td>\n",
       "    </tr>\n",
       "    <tr>\n",
       "      <th>2</th>\n",
       "      <td>0</td>\n",
       "      <td>0</td>\n",
       "      <td>0</td>\n",
       "      <td>0</td>\n",
       "      <td>0</td>\n",
       "      <td>0</td>\n",
       "      <td>0</td>\n",
       "      <td>0</td>\n",
       "      <td>0</td>\n",
       "      <td>0</td>\n",
       "      <td>...</td>\n",
       "      <td>0</td>\n",
       "      <td>0</td>\n",
       "      <td>0</td>\n",
       "      <td>0</td>\n",
       "      <td>0</td>\n",
       "      <td>0</td>\n",
       "      <td>0</td>\n",
       "      <td>0</td>\n",
       "      <td>0</td>\n",
       "      <td>0</td>\n",
       "    </tr>\n",
       "    <tr>\n",
       "      <th>3</th>\n",
       "      <td>0</td>\n",
       "      <td>0</td>\n",
       "      <td>0</td>\n",
       "      <td>0</td>\n",
       "      <td>0</td>\n",
       "      <td>0</td>\n",
       "      <td>0</td>\n",
       "      <td>0</td>\n",
       "      <td>0</td>\n",
       "      <td>0</td>\n",
       "      <td>...</td>\n",
       "      <td>0</td>\n",
       "      <td>0</td>\n",
       "      <td>0</td>\n",
       "      <td>0</td>\n",
       "      <td>0</td>\n",
       "      <td>0</td>\n",
       "      <td>0</td>\n",
       "      <td>0</td>\n",
       "      <td>0</td>\n",
       "      <td>0</td>\n",
       "    </tr>\n",
       "    <tr>\n",
       "      <th>4</th>\n",
       "      <td>0</td>\n",
       "      <td>0</td>\n",
       "      <td>0</td>\n",
       "      <td>0</td>\n",
       "      <td>0</td>\n",
       "      <td>0</td>\n",
       "      <td>0</td>\n",
       "      <td>0</td>\n",
       "      <td>0</td>\n",
       "      <td>0</td>\n",
       "      <td>...</td>\n",
       "      <td>0</td>\n",
       "      <td>0</td>\n",
       "      <td>0</td>\n",
       "      <td>0</td>\n",
       "      <td>0</td>\n",
       "      <td>0</td>\n",
       "      <td>0</td>\n",
       "      <td>0</td>\n",
       "      <td>0</td>\n",
       "      <td>0</td>\n",
       "    </tr>\n",
       "  </tbody>\n",
       "</table>\n",
       "<p>5 rows × 22 columns</p>\n",
       "</div>"
      ],
      "text/plain": [
       "   food_cupboard--tins,_jars_&_packets--powdered_milk  \\\n",
       "0                                                  0    \n",
       "1                                                  0    \n",
       "2                                                  0    \n",
       "3                                                  0    \n",
       "4                                                  0    \n",
       "\n",
       "   baby_products--milk,_food_&_juices--baby_&_toddler_formula--baby_formula_(1-6_years)  \\\n",
       "0                                                  0                                      \n",
       "1                                                  1                                      \n",
       "2                                                  0                                      \n",
       "3                                                  0                                      \n",
       "4                                                  0                                      \n",
       "\n",
       "   baby_products--milk,_food_&_juices--juices_&_beverages  nonfood  \\\n",
       "0                                                  0             0   \n",
       "1                                                  0             0   \n",
       "2                                                  0             0   \n",
       "3                                                  0             0   \n",
       "4                                                  0             0   \n",
       "\n",
       "   baby_products--milk,_food_&amp;_juices--baby_&amp;_toddler_formula--baby_formula_(6-12_months)  \\\n",
       "0                                                  0                                                \n",
       "1                                                  0                                                \n",
       "2                                                  0                                                \n",
       "3                                                  0                                                \n",
       "4                                                  0                                                \n",
       "\n",
       "   Changing_&_Bathing  \\\n",
       "0                   0   \n",
       "1                   0   \n",
       "2                   0   \n",
       "3                   0   \n",
       "4                   0   \n",
       "\n",
       "   baby_products--changing_&amp;_bathing--diapers,_wipes_&amp;_diaper_cream--baby_wipes_family_pack  \\\n",
       "0                                                  0                                                  \n",
       "1                                                  0                                                  \n",
       "2                                                  0                                                  \n",
       "3                                                  0                                                  \n",
       "4                                                  0                                                  \n",
       "\n",
       "   baby_products--changing_&_bathing--diapers,_wipes_&_diaper_cream--baby_wipes_single_piece  \\\n",
       "0                                                  0                                           \n",
       "1                                                  0                                           \n",
       "2                                                  0                                           \n",
       "3                                                  0                                           \n",
       "4                                                  0                                           \n",
       "\n",
       "   Baby_Products  fresh_food--dairy_&_eggs--yoghurt--probiotic_yoghurt  ...  \\\n",
       "0              0                                                  0     ...   \n",
       "1              0                                                  0     ...   \n",
       "2              0                                                  0     ...   \n",
       "3              0                                                  0     ...   \n",
       "4              0                                                  0     ...   \n",
       "\n",
       "   Baby_and_Personal_Care  \\\n",
       "0                       0   \n",
       "1                       0   \n",
       "2                       0   \n",
       "3                       0   \n",
       "4                       0   \n",
       "\n",
       "   baby_products--changing_&_bathing--pull-ups_&_swimming_pants--baby_pants  \\\n",
       "0                                                  0                          \n",
       "1                                                  0                          \n",
       "2                                                  0                          \n",
       "3                                                  0                          \n",
       "4                                                  0                          \n",
       "\n",
       "   Baby_Products--Changing_&amp;amp;_Bathing--Diapers,_Wipes_&amp;amp;_Diaper_Cream--Baby_Diapers  \\\n",
       "0                                                  0                                                \n",
       "1                                                  0                                                \n",
       "2                                                  0                                                \n",
       "3                                                  0                                                \n",
       "4                                                  0                                                \n",
       "\n",
       "   baby_products--milk,_food_&amp;_juices--baby_&amp;_toddler_formula--baby_formula_(1-6_years)  \\\n",
       "0                                                  0                                              \n",
       "1                                                  0                                              \n",
       "2                                                  0                                              \n",
       "3                                                  0                                              \n",
       "4                                                  0                                              \n",
       "\n",
       "   baby_products--milk,_food_&amp;_juices--baby_&amp;_toddler_formula--baby_formula_(0-6_months)  \\\n",
       "0                                                  0                                               \n",
       "1                                                  0                                               \n",
       "2                                                  0                                               \n",
       "3                                                  0                                               \n",
       "4                                                  0                                               \n",
       "\n",
       "   Baby_Products--Changing_&_Bathing--Diapers,_Wipes_&_Diaper_Cream--Baby_Diapers  \\\n",
       "0                                                  0                                \n",
       "1                                                  0                                \n",
       "2                                                  0                                \n",
       "3                                                  0                                \n",
       "4                                                  0                                \n",
       "\n",
       "   baby_products--milk,_food_&_juices--baby_&_toddler_formula--baby_formula_(6-12_years)  \\\n",
       "0                                                  0                                       \n",
       "1                                                  1                                       \n",
       "2                                                  0                                       \n",
       "3                                                  0                                       \n",
       "4                                                  0                                       \n",
       "\n",
       "   سراويل_الأطفال  fresh_food--dairy_&_eggs--cheese_&_labneh--labneh  \\\n",
       "0               0                                                  0   \n",
       "1               0                                                  0   \n",
       "2               0                                                  0   \n",
       "3               0                                                  0   \n",
       "4               0                                                  0   \n",
       "\n",
       "   حفاضات_اطفال  \n",
       "0             0  \n",
       "1             0  \n",
       "2             0  \n",
       "3             0  \n",
       "4             0  \n",
       "\n",
       "[5 rows x 22 columns]"
      ]
     },
     "execution_count": 72,
     "metadata": {},
     "output_type": "execute_result"
    }
   ],
   "source": [
    "df.iloc[0:5, 40:62]"
   ]
  },
  {
   "cell_type": "markdown",
   "metadata": {},
   "source": [
    "# Dealing with Data Types"
   ]
  },
  {
   "cell_type": "code",
   "execution_count": 73,
   "metadata": {},
   "outputs": [
    {
     "data": {
      "text/plain": [
       "count_session                                                                                int64\n",
       "count_hit                                                                                    int64\n",
       "channelGrouping                                                                             object\n",
       "totals_newVisits                                                                             int64\n",
       "device_browser                                                                              object\n",
       "                                                                                             ...  \n",
       "Pull-ups_&_Swimming_Pants                                                                    int64\n",
       "baby_products--changing_&_bathing--diapers,_wipes_&_diaper_cream--baby_diapers               int64\n",
       "baby_products--changing_&amp;_bathing--diapers,_wipes_&amp;_diaper_cream--baby_diapers       int64\n",
       "baby_products--changing_&_bathing--diapers,_wipes_&_diaper_cream--baby_wipes_family_pack     int64\n",
       "baby_products--changing_&_bathing--diapers,_wipes_&_diaper_cream--natural_baby_wipes         int64\n",
       "Length: 80, dtype: object"
      ]
     },
     "execution_count": 73,
     "metadata": {},
     "output_type": "execute_result"
    }
   ],
   "source": [
    "df.dtypes"
   ]
  },
  {
   "cell_type": "code",
   "execution_count": 74,
   "metadata": {},
   "outputs": [],
   "source": [
    "# converting the data type of product list to string\n",
    "df[\"product_list\"] = df[\"product_list\"].apply(lambda x: str(x))"
   ]
  },
  {
   "cell_type": "markdown",
   "metadata": {},
   "source": [
    "# Label Encoding for Categorical Columns"
   ]
  },
  {
   "cell_type": "code",
   "execution_count": 75,
   "metadata": {},
   "outputs": [
    {
     "data": {
      "text/html": [
       "<div>\n",
       "<style scoped>\n",
       "    .dataframe tbody tr th:only-of-type {\n",
       "        vertical-align: middle;\n",
       "    }\n",
       "\n",
       "    .dataframe tbody tr th {\n",
       "        vertical-align: top;\n",
       "    }\n",
       "\n",
       "    .dataframe thead th {\n",
       "        text-align: right;\n",
       "    }\n",
       "</style>\n",
       "<table border=\"1\" class=\"dataframe\">\n",
       "  <thead>\n",
       "    <tr style=\"text-align: right;\">\n",
       "      <th></th>\n",
       "      <th>channelGrouping</th>\n",
       "      <th>device_browser</th>\n",
       "      <th>device_operatingSystem</th>\n",
       "      <th>device_deviceCategory</th>\n",
       "      <th>geoNetwork_region</th>\n",
       "      <th>earliest_source</th>\n",
       "      <th>latest_source</th>\n",
       "      <th>earliest_medium</th>\n",
       "      <th>latest_medium</th>\n",
       "      <th>earliest_keyword</th>\n",
       "      <th>latest_keyword</th>\n",
       "      <th>products_array</th>\n",
       "      <th>product_list</th>\n",
       "    </tr>\n",
       "  </thead>\n",
       "  <tbody>\n",
       "    <tr>\n",
       "      <th>0</th>\n",
       "      <td>(Other)</td>\n",
       "      <td>GoogleAnalytics</td>\n",
       "      <td>Android</td>\n",
       "      <td>mobile</td>\n",
       "      <td>Sharjah</td>\n",
       "      <td>gulfnews</td>\n",
       "      <td>gulfnews</td>\n",
       "      <td>app</td>\n",
       "      <td>app</td>\n",
       "      <td>(not set)</td>\n",
       "      <td>(not set)</td>\n",
       "      <td>food////food////food</td>\n",
       "      <td>['food', 'food', 'food']</td>\n",
       "    </tr>\n",
       "    <tr>\n",
       "      <th>1</th>\n",
       "      <td>Paid Search</td>\n",
       "      <td>GoogleAnalytics</td>\n",
       "      <td>Android</td>\n",
       "      <td>mobile</td>\n",
       "      <td>Ajman</td>\n",
       "      <td>(direct)</td>\n",
       "      <td>google</td>\n",
       "      <td>(none)</td>\n",
       "      <td>cpc</td>\n",
       "      <td>(not set)</td>\n",
       "      <td>(automatic matching)</td>\n",
       "      <td>(not set)////baby_products--milk,_food_&amp;_juice...</td>\n",
       "      <td>['(not set)', 'baby_products--milk,_food_&amp;_jui...</td>\n",
       "    </tr>\n",
       "    <tr>\n",
       "      <th>2</th>\n",
       "      <td>Paid Search</td>\n",
       "      <td>GoogleAnalytics</td>\n",
       "      <td>Android</td>\n",
       "      <td>mobile</td>\n",
       "      <td>Abu Dhabi</td>\n",
       "      <td>google</td>\n",
       "      <td>google</td>\n",
       "      <td>cpc</td>\n",
       "      <td>cpc</td>\n",
       "      <td>custom0==marketplace&amp;+id==*</td>\n",
       "      <td>custom0==marketplace&amp;+id==*</td>\n",
       "      <td>food////food</td>\n",
       "      <td>['food', 'food']</td>\n",
       "    </tr>\n",
       "    <tr>\n",
       "      <th>3</th>\n",
       "      <td>Paid Search</td>\n",
       "      <td>GoogleAnalytics</td>\n",
       "      <td>iOS</td>\n",
       "      <td>mobile</td>\n",
       "      <td>Abu Dhabi</td>\n",
       "      <td>google</td>\n",
       "      <td>google</td>\n",
       "      <td>cpc</td>\n",
       "      <td>cpc</td>\n",
       "      <td>custom0==marketplace</td>\n",
       "      <td>custom0==marketplace</td>\n",
       "      <td>(not set)////(not set)////baby_products--chang...</td>\n",
       "      <td>['(not set)', '(not set)', 'baby_products--cha...</td>\n",
       "    </tr>\n",
       "    <tr>\n",
       "      <th>4</th>\n",
       "      <td>Paid Search</td>\n",
       "      <td>GoogleAnalytics</td>\n",
       "      <td>Android</td>\n",
       "      <td>mobile</td>\n",
       "      <td>Dubai</td>\n",
       "      <td>mobile</td>\n",
       "      <td>Pricena_AE</td>\n",
       "      <td>inapp</td>\n",
       "      <td>cpc</td>\n",
       "      <td>(not set)</td>\n",
       "      <td>(not set)</td>\n",
       "      <td>food////food////food////food////food////food//...</td>\n",
       "      <td>['food', 'food', 'food', 'food', 'food', 'food...</td>\n",
       "    </tr>\n",
       "    <tr>\n",
       "      <th>...</th>\n",
       "      <td>...</td>\n",
       "      <td>...</td>\n",
       "      <td>...</td>\n",
       "      <td>...</td>\n",
       "      <td>...</td>\n",
       "      <td>...</td>\n",
       "      <td>...</td>\n",
       "      <td>...</td>\n",
       "      <td>...</td>\n",
       "      <td>...</td>\n",
       "      <td>...</td>\n",
       "      <td>...</td>\n",
       "      <td>...</td>\n",
       "    </tr>\n",
       "    <tr>\n",
       "      <th>9202</th>\n",
       "      <td>Paid Search</td>\n",
       "      <td>GoogleAnalytics</td>\n",
       "      <td>iOS</td>\n",
       "      <td>mobile</td>\n",
       "      <td>Abu Dhabi</td>\n",
       "      <td>google</td>\n",
       "      <td>google</td>\n",
       "      <td>cpc</td>\n",
       "      <td>cpc</td>\n",
       "      <td>carrefour</td>\n",
       "      <td>carrefour</td>\n",
       "      <td>(not set)////(not set)</td>\n",
       "      <td>['(not set)', '(not set)']</td>\n",
       "    </tr>\n",
       "    <tr>\n",
       "      <th>9203</th>\n",
       "      <td>Paid Search</td>\n",
       "      <td>GoogleAnalytics</td>\n",
       "      <td>Android</td>\n",
       "      <td>mobile</td>\n",
       "      <td>Abu Dhabi</td>\n",
       "      <td>google</td>\n",
       "      <td>google</td>\n",
       "      <td>cpc</td>\n",
       "      <td>cpc</td>\n",
       "      <td>custom0==nonfood</td>\n",
       "      <td>custom0==marketplace</td>\n",
       "      <td>food////food////food</td>\n",
       "      <td>['food', 'food', 'food']</td>\n",
       "    </tr>\n",
       "    <tr>\n",
       "      <th>9204</th>\n",
       "      <td>Paid Search</td>\n",
       "      <td>GoogleAnalytics</td>\n",
       "      <td>iOS</td>\n",
       "      <td>mobile</td>\n",
       "      <td>Dubai</td>\n",
       "      <td>google</td>\n",
       "      <td>google</td>\n",
       "      <td>cpc</td>\n",
       "      <td>cpc</td>\n",
       "      <td>custom0==marketplace</td>\n",
       "      <td>custom0==marketplace</td>\n",
       "      <td>baby_products--changing_&amp;_bathing--diapers,_wi...</td>\n",
       "      <td>['baby_products--changing_&amp;_bathing--diapers,_...</td>\n",
       "    </tr>\n",
       "    <tr>\n",
       "      <th>9205</th>\n",
       "      <td>Paid Search</td>\n",
       "      <td>GoogleAnalytics</td>\n",
       "      <td>Android</td>\n",
       "      <td>mobile</td>\n",
       "      <td>Dubai</td>\n",
       "      <td>(direct)</td>\n",
       "      <td>google</td>\n",
       "      <td>(none)</td>\n",
       "      <td>cpc</td>\n",
       "      <td>(not set)</td>\n",
       "      <td>OJ2c1OnsSm5Ghzab</td>\n",
       "      <td>food////food////food////food////food</td>\n",
       "      <td>['food', 'food', 'food', 'food', 'food']</td>\n",
       "    </tr>\n",
       "    <tr>\n",
       "      <th>9206</th>\n",
       "      <td>Paid Search</td>\n",
       "      <td>GoogleAnalytics</td>\n",
       "      <td>iOS</td>\n",
       "      <td>mobile</td>\n",
       "      <td>Dubai</td>\n",
       "      <td>google</td>\n",
       "      <td>google</td>\n",
       "      <td>cpc</td>\n",
       "      <td>cpc</td>\n",
       "      <td>custom0==marketplace&amp;+id==*</td>\n",
       "      <td>custom0==marketplace&amp;+id==*</td>\n",
       "      <td>baby_products--milk,_food_&amp;_juices--baby_&amp;_tod...</td>\n",
       "      <td>['baby_products--milk,_food_&amp;_juices--baby_&amp;_t...</td>\n",
       "    </tr>\n",
       "  </tbody>\n",
       "</table>\n",
       "<p>9207 rows × 13 columns</p>\n",
       "</div>"
      ],
      "text/plain": [
       "     channelGrouping   device_browser device_operatingSystem  \\\n",
       "0            (Other)  GoogleAnalytics                Android   \n",
       "1        Paid Search  GoogleAnalytics                Android   \n",
       "2        Paid Search  GoogleAnalytics                Android   \n",
       "3        Paid Search  GoogleAnalytics                    iOS   \n",
       "4        Paid Search  GoogleAnalytics                Android   \n",
       "...              ...              ...                    ...   \n",
       "9202     Paid Search  GoogleAnalytics                    iOS   \n",
       "9203     Paid Search  GoogleAnalytics                Android   \n",
       "9204     Paid Search  GoogleAnalytics                    iOS   \n",
       "9205     Paid Search  GoogleAnalytics                Android   \n",
       "9206     Paid Search  GoogleAnalytics                    iOS   \n",
       "\n",
       "     device_deviceCategory geoNetwork_region earliest_source latest_source  \\\n",
       "0                   mobile           Sharjah        gulfnews      gulfnews   \n",
       "1                   mobile             Ajman        (direct)        google   \n",
       "2                   mobile         Abu Dhabi          google        google   \n",
       "3                   mobile         Abu Dhabi          google        google   \n",
       "4                   mobile             Dubai          mobile    Pricena_AE   \n",
       "...                    ...               ...             ...           ...   \n",
       "9202                mobile         Abu Dhabi          google        google   \n",
       "9203                mobile         Abu Dhabi          google        google   \n",
       "9204                mobile             Dubai          google        google   \n",
       "9205                mobile             Dubai        (direct)        google   \n",
       "9206                mobile             Dubai          google        google   \n",
       "\n",
       "     earliest_medium latest_medium             earliest_keyword  \\\n",
       "0                app           app                    (not set)   \n",
       "1             (none)           cpc                    (not set)   \n",
       "2                cpc           cpc  custom0==marketplace&+id==*   \n",
       "3                cpc           cpc         custom0==marketplace   \n",
       "4              inapp           cpc                    (not set)   \n",
       "...              ...           ...                          ...   \n",
       "9202             cpc           cpc                    carrefour   \n",
       "9203             cpc           cpc             custom0==nonfood   \n",
       "9204             cpc           cpc         custom0==marketplace   \n",
       "9205          (none)           cpc                    (not set)   \n",
       "9206             cpc           cpc  custom0==marketplace&+id==*   \n",
       "\n",
       "                   latest_keyword  \\\n",
       "0                       (not set)   \n",
       "1            (automatic matching)   \n",
       "2     custom0==marketplace&+id==*   \n",
       "3            custom0==marketplace   \n",
       "4                       (not set)   \n",
       "...                           ...   \n",
       "9202                    carrefour   \n",
       "9203         custom0==marketplace   \n",
       "9204         custom0==marketplace   \n",
       "9205             OJ2c1OnsSm5Ghzab   \n",
       "9206  custom0==marketplace&+id==*   \n",
       "\n",
       "                                         products_array  \\\n",
       "0                                  food////food////food   \n",
       "1     (not set)////baby_products--milk,_food_&_juice...   \n",
       "2                                          food////food   \n",
       "3     (not set)////(not set)////baby_products--chang...   \n",
       "4     food////food////food////food////food////food//...   \n",
       "...                                                 ...   \n",
       "9202                             (not set)////(not set)   \n",
       "9203                               food////food////food   \n",
       "9204  baby_products--changing_&_bathing--diapers,_wi...   \n",
       "9205               food////food////food////food////food   \n",
       "9206  baby_products--milk,_food_&_juices--baby_&_tod...   \n",
       "\n",
       "                                           product_list  \n",
       "0                              ['food', 'food', 'food']  \n",
       "1     ['(not set)', 'baby_products--milk,_food_&_jui...  \n",
       "2                                      ['food', 'food']  \n",
       "3     ['(not set)', '(not set)', 'baby_products--cha...  \n",
       "4     ['food', 'food', 'food', 'food', 'food', 'food...  \n",
       "...                                                 ...  \n",
       "9202                         ['(not set)', '(not set)']  \n",
       "9203                           ['food', 'food', 'food']  \n",
       "9204  ['baby_products--changing_&_bathing--diapers,_...  \n",
       "9205           ['food', 'food', 'food', 'food', 'food']  \n",
       "9206  ['baby_products--milk,_food_&_juices--baby_&_t...  \n",
       "\n",
       "[9207 rows x 13 columns]"
      ]
     },
     "execution_count": 75,
     "metadata": {},
     "output_type": "execute_result"
    }
   ],
   "source": [
    "obj = df.select_dtypes(\"O\")\n",
    "obj"
   ]
  },
  {
   "cell_type": "code",
   "execution_count": 76,
   "metadata": {},
   "outputs": [],
   "source": [
    "from sklearn.preprocessing import LabelEncoder\n",
    "le = LabelEncoder()\n",
    "for i in obj:\n",
    "    df[f\"{i}\"] = le.fit_transform(df[f\"{i}\"])"
   ]
  },
  {
   "cell_type": "code",
   "execution_count": 77,
   "metadata": {},
   "outputs": [
    {
     "data": {
      "text/html": [
       "<div>\n",
       "<style scoped>\n",
       "    .dataframe tbody tr th:only-of-type {\n",
       "        vertical-align: middle;\n",
       "    }\n",
       "\n",
       "    .dataframe tbody tr th {\n",
       "        vertical-align: top;\n",
       "    }\n",
       "\n",
       "    .dataframe thead th {\n",
       "        text-align: right;\n",
       "    }\n",
       "</style>\n",
       "<table border=\"1\" class=\"dataframe\">\n",
       "  <thead>\n",
       "    <tr style=\"text-align: right;\">\n",
       "      <th></th>\n",
       "      <th>count_session</th>\n",
       "      <th>count_hit</th>\n",
       "      <th>channelGrouping</th>\n",
       "      <th>totals_newVisits</th>\n",
       "      <th>device_browser</th>\n",
       "      <th>device_operatingSystem</th>\n",
       "      <th>device_isMobile</th>\n",
       "      <th>device_deviceCategory</th>\n",
       "      <th>geoNetwork_region</th>\n",
       "      <th>geoNetwork_latitude</th>\n",
       "      <th>...</th>\n",
       "      <th>Diapers,_Wipes_&amp;_Diaper_Cream</th>\n",
       "      <th>baby_products--milk,_food_&amp;_juices--baby_&amp;_toddler_formula--baby_formula_(0-6_months)</th>\n",
       "      <th>baby_products--changing_&amp;_bathing--pull-ups_&amp;_swimming_pants--baby_swimming</th>\n",
       "      <th>(not set)</th>\n",
       "      <th>Baby Products--Changing &amp;amp; Bathing--Diapers, Wipes &amp;amp; Diaper Cream--Baby Diapers</th>\n",
       "      <th>Pull-ups_&amp;_Swimming_Pants</th>\n",
       "      <th>baby_products--changing_&amp;_bathing--diapers,_wipes_&amp;_diaper_cream--baby_diapers</th>\n",
       "      <th>baby_products--changing_&amp;amp;_bathing--diapers,_wipes_&amp;amp;_diaper_cream--baby_diapers</th>\n",
       "      <th>baby_products--changing_&amp;_bathing--diapers,_wipes_&amp;_diaper_cream--baby_wipes_family_pack</th>\n",
       "      <th>baby_products--changing_&amp;_bathing--diapers,_wipes_&amp;_diaper_cream--natural_baby_wipes</th>\n",
       "    </tr>\n",
       "  </thead>\n",
       "  <tbody>\n",
       "    <tr>\n",
       "      <th>count_session</th>\n",
       "      <td>1.000000</td>\n",
       "      <td>0.856096</td>\n",
       "      <td>-0.002417</td>\n",
       "      <td>-0.088877</td>\n",
       "      <td>0.111947</td>\n",
       "      <td>0.045597</td>\n",
       "      <td>0.137204</td>\n",
       "      <td>0.132393</td>\n",
       "      <td>-0.056737</td>\n",
       "      <td>-0.000628</td>\n",
       "      <td>...</td>\n",
       "      <td>-0.012193</td>\n",
       "      <td>0.050624</td>\n",
       "      <td>-0.002233</td>\n",
       "      <td>0.077603</td>\n",
       "      <td>-0.012824</td>\n",
       "      <td>-0.003061</td>\n",
       "      <td>0.094428</td>\n",
       "      <td>-0.027565</td>\n",
       "      <td>0.024455</td>\n",
       "      <td>-0.002924</td>\n",
       "    </tr>\n",
       "    <tr>\n",
       "      <th>count_hit</th>\n",
       "      <td>0.856096</td>\n",
       "      <td>1.000000</td>\n",
       "      <td>0.013933</td>\n",
       "      <td>-0.075445</td>\n",
       "      <td>0.115239</td>\n",
       "      <td>0.234980</td>\n",
       "      <td>0.146535</td>\n",
       "      <td>0.142723</td>\n",
       "      <td>-0.087080</td>\n",
       "      <td>0.002825</td>\n",
       "      <td>...</td>\n",
       "      <td>-0.019441</td>\n",
       "      <td>0.085677</td>\n",
       "      <td>0.005308</td>\n",
       "      <td>0.162035</td>\n",
       "      <td>-0.016226</td>\n",
       "      <td>-0.011338</td>\n",
       "      <td>0.188430</td>\n",
       "      <td>-0.028083</td>\n",
       "      <td>0.046365</td>\n",
       "      <td>-0.003182</td>\n",
       "    </tr>\n",
       "    <tr>\n",
       "      <th>channelGrouping</th>\n",
       "      <td>-0.002417</td>\n",
       "      <td>0.013933</td>\n",
       "      <td>1.000000</td>\n",
       "      <td>0.034250</td>\n",
       "      <td>-0.069322</td>\n",
       "      <td>0.146864</td>\n",
       "      <td>-0.093071</td>\n",
       "      <td>-0.093838</td>\n",
       "      <td>-0.025498</td>\n",
       "      <td>0.037036</td>\n",
       "      <td>...</td>\n",
       "      <td>0.017650</td>\n",
       "      <td>0.062322</td>\n",
       "      <td>0.004023</td>\n",
       "      <td>0.099823</td>\n",
       "      <td>0.009815</td>\n",
       "      <td>-0.001146</td>\n",
       "      <td>0.052081</td>\n",
       "      <td>0.021213</td>\n",
       "      <td>0.013592</td>\n",
       "      <td>0.004006</td>\n",
       "    </tr>\n",
       "    <tr>\n",
       "      <th>totals_newVisits</th>\n",
       "      <td>-0.088877</td>\n",
       "      <td>-0.075445</td>\n",
       "      <td>0.034250</td>\n",
       "      <td>1.000000</td>\n",
       "      <td>-0.149279</td>\n",
       "      <td>0.070804</td>\n",
       "      <td>-0.236885</td>\n",
       "      <td>-0.226040</td>\n",
       "      <td>-0.009770</td>\n",
       "      <td>0.003611</td>\n",
       "      <td>...</td>\n",
       "      <td>0.062570</td>\n",
       "      <td>-0.011055</td>\n",
       "      <td>-0.005224</td>\n",
       "      <td>0.018544</td>\n",
       "      <td>-0.002859</td>\n",
       "      <td>-0.003089</td>\n",
       "      <td>-0.013000</td>\n",
       "      <td>0.079873</td>\n",
       "      <td>0.000640</td>\n",
       "      <td>-0.001167</td>\n",
       "    </tr>\n",
       "    <tr>\n",
       "      <th>device_browser</th>\n",
       "      <td>0.111947</td>\n",
       "      <td>0.115239</td>\n",
       "      <td>-0.069322</td>\n",
       "      <td>-0.149279</td>\n",
       "      <td>1.000000</td>\n",
       "      <td>-0.069150</td>\n",
       "      <td>0.749035</td>\n",
       "      <td>0.723994</td>\n",
       "      <td>0.006916</td>\n",
       "      <td>-0.003827</td>\n",
       "      <td>...</td>\n",
       "      <td>-0.113019</td>\n",
       "      <td>0.025023</td>\n",
       "      <td>-0.002964</td>\n",
       "      <td>-0.046675</td>\n",
       "      <td>0.026429</td>\n",
       "      <td>-0.014738</td>\n",
       "      <td>0.052534</td>\n",
       "      <td>-0.034126</td>\n",
       "      <td>0.015810</td>\n",
       "      <td>0.001980</td>\n",
       "    </tr>\n",
       "    <tr>\n",
       "      <th>...</th>\n",
       "      <td>...</td>\n",
       "      <td>...</td>\n",
       "      <td>...</td>\n",
       "      <td>...</td>\n",
       "      <td>...</td>\n",
       "      <td>...</td>\n",
       "      <td>...</td>\n",
       "      <td>...</td>\n",
       "      <td>...</td>\n",
       "      <td>...</td>\n",
       "      <td>...</td>\n",
       "      <td>...</td>\n",
       "      <td>...</td>\n",
       "      <td>...</td>\n",
       "      <td>...</td>\n",
       "      <td>...</td>\n",
       "      <td>...</td>\n",
       "      <td>...</td>\n",
       "      <td>...</td>\n",
       "      <td>...</td>\n",
       "      <td>...</td>\n",
       "    </tr>\n",
       "    <tr>\n",
       "      <th>Pull-ups_&amp;_Swimming_Pants</th>\n",
       "      <td>-0.003061</td>\n",
       "      <td>-0.011338</td>\n",
       "      <td>-0.001146</td>\n",
       "      <td>-0.003089</td>\n",
       "      <td>-0.014738</td>\n",
       "      <td>0.015702</td>\n",
       "      <td>-0.025717</td>\n",
       "      <td>-0.025216</td>\n",
       "      <td>-0.000005</td>\n",
       "      <td>0.001701</td>\n",
       "      <td>...</td>\n",
       "      <td>0.111073</td>\n",
       "      <td>-0.007501</td>\n",
       "      <td>-0.001287</td>\n",
       "      <td>0.007566</td>\n",
       "      <td>-0.000704</td>\n",
       "      <td>1.000000</td>\n",
       "      <td>-0.011867</td>\n",
       "      <td>0.056610</td>\n",
       "      <td>-0.002517</td>\n",
       "      <td>-0.000287</td>\n",
       "    </tr>\n",
       "    <tr>\n",
       "      <th>baby_products--changing_&amp;_bathing--diapers,_wipes_&amp;_diaper_cream--baby_diapers</th>\n",
       "      <td>0.094428</td>\n",
       "      <td>0.188430</td>\n",
       "      <td>0.052081</td>\n",
       "      <td>-0.013000</td>\n",
       "      <td>0.052534</td>\n",
       "      <td>0.297684</td>\n",
       "      <td>0.059187</td>\n",
       "      <td>0.054877</td>\n",
       "      <td>-0.058840</td>\n",
       "      <td>-0.017338</td>\n",
       "      <td>...</td>\n",
       "      <td>0.021328</td>\n",
       "      <td>0.159481</td>\n",
       "      <td>0.018484</td>\n",
       "      <td>0.246106</td>\n",
       "      <td>0.012461</td>\n",
       "      <td>-0.011867</td>\n",
       "      <td>1.000000</td>\n",
       "      <td>0.055232</td>\n",
       "      <td>0.076483</td>\n",
       "      <td>-0.004484</td>\n",
       "    </tr>\n",
       "    <tr>\n",
       "      <th>baby_products--changing_&amp;amp;_bathing--diapers,_wipes_&amp;amp;_diaper_cream--baby_diapers</th>\n",
       "      <td>-0.027565</td>\n",
       "      <td>-0.028083</td>\n",
       "      <td>0.021213</td>\n",
       "      <td>0.079873</td>\n",
       "      <td>-0.034126</td>\n",
       "      <td>0.019395</td>\n",
       "      <td>-0.043000</td>\n",
       "      <td>-0.042509</td>\n",
       "      <td>0.007028</td>\n",
       "      <td>-0.009622</td>\n",
       "      <td>...</td>\n",
       "      <td>0.110813</td>\n",
       "      <td>0.000687</td>\n",
       "      <td>-0.003159</td>\n",
       "      <td>-0.043197</td>\n",
       "      <td>0.187748</td>\n",
       "      <td>0.056610</td>\n",
       "      <td>0.055232</td>\n",
       "      <td>1.000000</td>\n",
       "      <td>0.011638</td>\n",
       "      <td>-0.000706</td>\n",
       "    </tr>\n",
       "    <tr>\n",
       "      <th>baby_products--changing_&amp;_bathing--diapers,_wipes_&amp;_diaper_cream--baby_wipes_family_pack</th>\n",
       "      <td>0.024455</td>\n",
       "      <td>0.046365</td>\n",
       "      <td>0.013592</td>\n",
       "      <td>0.000640</td>\n",
       "      <td>0.015810</td>\n",
       "      <td>0.065064</td>\n",
       "      <td>0.018378</td>\n",
       "      <td>0.016233</td>\n",
       "      <td>-0.018180</td>\n",
       "      <td>0.001456</td>\n",
       "      <td>...</td>\n",
       "      <td>0.010819</td>\n",
       "      <td>0.027338</td>\n",
       "      <td>0.021527</td>\n",
       "      <td>0.067567</td>\n",
       "      <td>-0.002330</td>\n",
       "      <td>-0.002517</td>\n",
       "      <td>0.076483</td>\n",
       "      <td>0.011638</td>\n",
       "      <td>1.000000</td>\n",
       "      <td>-0.000951</td>\n",
       "    </tr>\n",
       "    <tr>\n",
       "      <th>baby_products--changing_&amp;_bathing--diapers,_wipes_&amp;_diaper_cream--natural_baby_wipes</th>\n",
       "      <td>-0.002924</td>\n",
       "      <td>-0.003182</td>\n",
       "      <td>0.004006</td>\n",
       "      <td>-0.001167</td>\n",
       "      <td>0.001980</td>\n",
       "      <td>0.011420</td>\n",
       "      <td>0.002670</td>\n",
       "      <td>0.002404</td>\n",
       "      <td>-0.011020</td>\n",
       "      <td>-0.001322</td>\n",
       "      <td>...</td>\n",
       "      <td>-0.000730</td>\n",
       "      <td>-0.002834</td>\n",
       "      <td>-0.000486</td>\n",
       "      <td>0.011868</td>\n",
       "      <td>-0.000266</td>\n",
       "      <td>-0.000287</td>\n",
       "      <td>-0.004484</td>\n",
       "      <td>-0.000706</td>\n",
       "      <td>-0.000951</td>\n",
       "      <td>1.000000</td>\n",
       "    </tr>\n",
       "  </tbody>\n",
       "</table>\n",
       "<p>80 rows × 80 columns</p>\n",
       "</div>"
      ],
      "text/plain": [
       "                                                    count_session  count_hit  \\\n",
       "count_session                                            1.000000   0.856096   \n",
       "count_hit                                                0.856096   1.000000   \n",
       "channelGrouping                                         -0.002417   0.013933   \n",
       "totals_newVisits                                        -0.088877  -0.075445   \n",
       "device_browser                                           0.111947   0.115239   \n",
       "...                                                           ...        ...   \n",
       "Pull-ups_&_Swimming_Pants                               -0.003061  -0.011338   \n",
       "baby_products--changing_&_bathing--diapers,_wip...       0.094428   0.188430   \n",
       "baby_products--changing_&amp;_bathing--diapers,...      -0.027565  -0.028083   \n",
       "baby_products--changing_&_bathing--diapers,_wip...       0.024455   0.046365   \n",
       "baby_products--changing_&_bathing--diapers,_wip...      -0.002924  -0.003182   \n",
       "\n",
       "                                                    channelGrouping  \\\n",
       "count_session                                             -0.002417   \n",
       "count_hit                                                  0.013933   \n",
       "channelGrouping                                            1.000000   \n",
       "totals_newVisits                                           0.034250   \n",
       "device_browser                                            -0.069322   \n",
       "...                                                             ...   \n",
       "Pull-ups_&_Swimming_Pants                                 -0.001146   \n",
       "baby_products--changing_&_bathing--diapers,_wip...         0.052081   \n",
       "baby_products--changing_&amp;_bathing--diapers,...         0.021213   \n",
       "baby_products--changing_&_bathing--diapers,_wip...         0.013592   \n",
       "baby_products--changing_&_bathing--diapers,_wip...         0.004006   \n",
       "\n",
       "                                                    totals_newVisits  \\\n",
       "count_session                                              -0.088877   \n",
       "count_hit                                                  -0.075445   \n",
       "channelGrouping                                             0.034250   \n",
       "totals_newVisits                                            1.000000   \n",
       "device_browser                                             -0.149279   \n",
       "...                                                              ...   \n",
       "Pull-ups_&_Swimming_Pants                                  -0.003089   \n",
       "baby_products--changing_&_bathing--diapers,_wip...         -0.013000   \n",
       "baby_products--changing_&amp;_bathing--diapers,...          0.079873   \n",
       "baby_products--changing_&_bathing--diapers,_wip...          0.000640   \n",
       "baby_products--changing_&_bathing--diapers,_wip...         -0.001167   \n",
       "\n",
       "                                                    device_browser  \\\n",
       "count_session                                             0.111947   \n",
       "count_hit                                                 0.115239   \n",
       "channelGrouping                                          -0.069322   \n",
       "totals_newVisits                                         -0.149279   \n",
       "device_browser                                            1.000000   \n",
       "...                                                            ...   \n",
       "Pull-ups_&_Swimming_Pants                                -0.014738   \n",
       "baby_products--changing_&_bathing--diapers,_wip...        0.052534   \n",
       "baby_products--changing_&amp;_bathing--diapers,...       -0.034126   \n",
       "baby_products--changing_&_bathing--diapers,_wip...        0.015810   \n",
       "baby_products--changing_&_bathing--diapers,_wip...        0.001980   \n",
       "\n",
       "                                                    device_operatingSystem  \\\n",
       "count_session                                                     0.045597   \n",
       "count_hit                                                         0.234980   \n",
       "channelGrouping                                                   0.146864   \n",
       "totals_newVisits                                                  0.070804   \n",
       "device_browser                                                   -0.069150   \n",
       "...                                                                    ...   \n",
       "Pull-ups_&_Swimming_Pants                                         0.015702   \n",
       "baby_products--changing_&_bathing--diapers,_wip...                0.297684   \n",
       "baby_products--changing_&amp;_bathing--diapers,...                0.019395   \n",
       "baby_products--changing_&_bathing--diapers,_wip...                0.065064   \n",
       "baby_products--changing_&_bathing--diapers,_wip...                0.011420   \n",
       "\n",
       "                                                    device_isMobile  \\\n",
       "count_session                                              0.137204   \n",
       "count_hit                                                  0.146535   \n",
       "channelGrouping                                           -0.093071   \n",
       "totals_newVisits                                          -0.236885   \n",
       "device_browser                                             0.749035   \n",
       "...                                                             ...   \n",
       "Pull-ups_&_Swimming_Pants                                 -0.025717   \n",
       "baby_products--changing_&_bathing--diapers,_wip...         0.059187   \n",
       "baby_products--changing_&amp;_bathing--diapers,...        -0.043000   \n",
       "baby_products--changing_&_bathing--diapers,_wip...         0.018378   \n",
       "baby_products--changing_&_bathing--diapers,_wip...         0.002670   \n",
       "\n",
       "                                                    device_deviceCategory  \\\n",
       "count_session                                                    0.132393   \n",
       "count_hit                                                        0.142723   \n",
       "channelGrouping                                                 -0.093838   \n",
       "totals_newVisits                                                -0.226040   \n",
       "device_browser                                                   0.723994   \n",
       "...                                                                   ...   \n",
       "Pull-ups_&_Swimming_Pants                                       -0.025216   \n",
       "baby_products--changing_&_bathing--diapers,_wip...               0.054877   \n",
       "baby_products--changing_&amp;_bathing--diapers,...              -0.042509   \n",
       "baby_products--changing_&_bathing--diapers,_wip...               0.016233   \n",
       "baby_products--changing_&_bathing--diapers,_wip...               0.002404   \n",
       "\n",
       "                                                    geoNetwork_region  \\\n",
       "count_session                                               -0.056737   \n",
       "count_hit                                                   -0.087080   \n",
       "channelGrouping                                             -0.025498   \n",
       "totals_newVisits                                            -0.009770   \n",
       "device_browser                                               0.006916   \n",
       "...                                                               ...   \n",
       "Pull-ups_&_Swimming_Pants                                   -0.000005   \n",
       "baby_products--changing_&_bathing--diapers,_wip...          -0.058840   \n",
       "baby_products--changing_&amp;_bathing--diapers,...           0.007028   \n",
       "baby_products--changing_&_bathing--diapers,_wip...          -0.018180   \n",
       "baby_products--changing_&_bathing--diapers,_wip...          -0.011020   \n",
       "\n",
       "                                                    geoNetwork_latitude  ...  \\\n",
       "count_session                                                 -0.000628  ...   \n",
       "count_hit                                                      0.002825  ...   \n",
       "channelGrouping                                                0.037036  ...   \n",
       "totals_newVisits                                               0.003611  ...   \n",
       "device_browser                                                -0.003827  ...   \n",
       "...                                                                 ...  ...   \n",
       "Pull-ups_&_Swimming_Pants                                      0.001701  ...   \n",
       "baby_products--changing_&_bathing--diapers,_wip...            -0.017338  ...   \n",
       "baby_products--changing_&amp;_bathing--diapers,...            -0.009622  ...   \n",
       "baby_products--changing_&_bathing--diapers,_wip...             0.001456  ...   \n",
       "baby_products--changing_&_bathing--diapers,_wip...            -0.001322  ...   \n",
       "\n",
       "                                                    Diapers,_Wipes_&_Diaper_Cream  \\\n",
       "count_session                                                           -0.012193   \n",
       "count_hit                                                               -0.019441   \n",
       "channelGrouping                                                          0.017650   \n",
       "totals_newVisits                                                         0.062570   \n",
       "device_browser                                                          -0.113019   \n",
       "...                                                                           ...   \n",
       "Pull-ups_&_Swimming_Pants                                                0.111073   \n",
       "baby_products--changing_&_bathing--diapers,_wip...                       0.021328   \n",
       "baby_products--changing_&amp;_bathing--diapers,...                       0.110813   \n",
       "baby_products--changing_&_bathing--diapers,_wip...                       0.010819   \n",
       "baby_products--changing_&_bathing--diapers,_wip...                      -0.000730   \n",
       "\n",
       "                                                    baby_products--milk,_food_&_juices--baby_&_toddler_formula--baby_formula_(0-6_months)  \\\n",
       "count_session                                                                                0.050624                                       \n",
       "count_hit                                                                                    0.085677                                       \n",
       "channelGrouping                                                                              0.062322                                       \n",
       "totals_newVisits                                                                            -0.011055                                       \n",
       "device_browser                                                                               0.025023                                       \n",
       "...                                                                                               ...                                       \n",
       "Pull-ups_&_Swimming_Pants                                                                   -0.007501                                       \n",
       "baby_products--changing_&_bathing--diapers,_wip...                                           0.159481                                       \n",
       "baby_products--changing_&amp;_bathing--diapers,...                                           0.000687                                       \n",
       "baby_products--changing_&_bathing--diapers,_wip...                                           0.027338                                       \n",
       "baby_products--changing_&_bathing--diapers,_wip...                                          -0.002834                                       \n",
       "\n",
       "                                                    baby_products--changing_&_bathing--pull-ups_&_swimming_pants--baby_swimming  \\\n",
       "count_session                                                                               -0.002233                             \n",
       "count_hit                                                                                    0.005308                             \n",
       "channelGrouping                                                                              0.004023                             \n",
       "totals_newVisits                                                                            -0.005224                             \n",
       "device_browser                                                                              -0.002964                             \n",
       "...                                                                                               ...                             \n",
       "Pull-ups_&_Swimming_Pants                                                                   -0.001287                             \n",
       "baby_products--changing_&_bathing--diapers,_wip...                                           0.018484                             \n",
       "baby_products--changing_&amp;_bathing--diapers,...                                          -0.003159                             \n",
       "baby_products--changing_&_bathing--diapers,_wip...                                           0.021527                             \n",
       "baby_products--changing_&_bathing--diapers,_wip...                                          -0.000486                             \n",
       "\n",
       "                                                    (not set)  \\\n",
       "count_session                                        0.077603   \n",
       "count_hit                                            0.162035   \n",
       "channelGrouping                                      0.099823   \n",
       "totals_newVisits                                     0.018544   \n",
       "device_browser                                      -0.046675   \n",
       "...                                                       ...   \n",
       "Pull-ups_&_Swimming_Pants                            0.007566   \n",
       "baby_products--changing_&_bathing--diapers,_wip...   0.246106   \n",
       "baby_products--changing_&amp;_bathing--diapers,...  -0.043197   \n",
       "baby_products--changing_&_bathing--diapers,_wip...   0.067567   \n",
       "baby_products--changing_&_bathing--diapers,_wip...   0.011868   \n",
       "\n",
       "                                                    Baby Products--Changing &amp; Bathing--Diapers, Wipes &amp; Diaper Cream--Baby Diapers  \\\n",
       "count_session                                                                               -0.012824                                        \n",
       "count_hit                                                                                   -0.016226                                        \n",
       "channelGrouping                                                                              0.009815                                        \n",
       "totals_newVisits                                                                            -0.002859                                        \n",
       "device_browser                                                                               0.026429                                        \n",
       "...                                                                                               ...                                        \n",
       "Pull-ups_&_Swimming_Pants                                                                   -0.000704                                        \n",
       "baby_products--changing_&_bathing--diapers,_wip...                                           0.012461                                        \n",
       "baby_products--changing_&amp;_bathing--diapers,...                                           0.187748                                        \n",
       "baby_products--changing_&_bathing--diapers,_wip...                                          -0.002330                                        \n",
       "baby_products--changing_&_bathing--diapers,_wip...                                          -0.000266                                        \n",
       "\n",
       "                                                    Pull-ups_&_Swimming_Pants  \\\n",
       "count_session                                                       -0.003061   \n",
       "count_hit                                                           -0.011338   \n",
       "channelGrouping                                                     -0.001146   \n",
       "totals_newVisits                                                    -0.003089   \n",
       "device_browser                                                      -0.014738   \n",
       "...                                                                       ...   \n",
       "Pull-ups_&_Swimming_Pants                                            1.000000   \n",
       "baby_products--changing_&_bathing--diapers,_wip...                  -0.011867   \n",
       "baby_products--changing_&amp;_bathing--diapers,...                   0.056610   \n",
       "baby_products--changing_&_bathing--diapers,_wip...                  -0.002517   \n",
       "baby_products--changing_&_bathing--diapers,_wip...                  -0.000287   \n",
       "\n",
       "                                                    baby_products--changing_&_bathing--diapers,_wipes_&_diaper_cream--baby_diapers  \\\n",
       "count_session                                                                                0.094428                                \n",
       "count_hit                                                                                    0.188430                                \n",
       "channelGrouping                                                                              0.052081                                \n",
       "totals_newVisits                                                                            -0.013000                                \n",
       "device_browser                                                                               0.052534                                \n",
       "...                                                                                               ...                                \n",
       "Pull-ups_&_Swimming_Pants                                                                   -0.011867                                \n",
       "baby_products--changing_&_bathing--diapers,_wip...                                           1.000000                                \n",
       "baby_products--changing_&amp;_bathing--diapers,...                                           0.055232                                \n",
       "baby_products--changing_&_bathing--diapers,_wip...                                           0.076483                                \n",
       "baby_products--changing_&_bathing--diapers,_wip...                                          -0.004484                                \n",
       "\n",
       "                                                    baby_products--changing_&amp;_bathing--diapers,_wipes_&amp;_diaper_cream--baby_diapers  \\\n",
       "count_session                                                                               -0.027565                                        \n",
       "count_hit                                                                                   -0.028083                                        \n",
       "channelGrouping                                                                              0.021213                                        \n",
       "totals_newVisits                                                                             0.079873                                        \n",
       "device_browser                                                                              -0.034126                                        \n",
       "...                                                                                               ...                                        \n",
       "Pull-ups_&_Swimming_Pants                                                                    0.056610                                        \n",
       "baby_products--changing_&_bathing--diapers,_wip...                                           0.055232                                        \n",
       "baby_products--changing_&amp;_bathing--diapers,...                                           1.000000                                        \n",
       "baby_products--changing_&_bathing--diapers,_wip...                                           0.011638                                        \n",
       "baby_products--changing_&_bathing--diapers,_wip...                                          -0.000706                                        \n",
       "\n",
       "                                                    baby_products--changing_&_bathing--diapers,_wipes_&_diaper_cream--baby_wipes_family_pack  \\\n",
       "count_session                                                                                0.024455                                          \n",
       "count_hit                                                                                    0.046365                                          \n",
       "channelGrouping                                                                              0.013592                                          \n",
       "totals_newVisits                                                                             0.000640                                          \n",
       "device_browser                                                                               0.015810                                          \n",
       "...                                                                                               ...                                          \n",
       "Pull-ups_&_Swimming_Pants                                                                   -0.002517                                          \n",
       "baby_products--changing_&_bathing--diapers,_wip...                                           0.076483                                          \n",
       "baby_products--changing_&amp;_bathing--diapers,...                                           0.011638                                          \n",
       "baby_products--changing_&_bathing--diapers,_wip...                                           1.000000                                          \n",
       "baby_products--changing_&_bathing--diapers,_wip...                                          -0.000951                                          \n",
       "\n",
       "                                                    baby_products--changing_&_bathing--diapers,_wipes_&_diaper_cream--natural_baby_wipes  \n",
       "count_session                                                                               -0.002924                                     \n",
       "count_hit                                                                                   -0.003182                                     \n",
       "channelGrouping                                                                              0.004006                                     \n",
       "totals_newVisits                                                                            -0.001167                                     \n",
       "device_browser                                                                               0.001980                                     \n",
       "...                                                                                               ...                                     \n",
       "Pull-ups_&_Swimming_Pants                                                                   -0.000287                                     \n",
       "baby_products--changing_&_bathing--diapers,_wip...                                          -0.004484                                     \n",
       "baby_products--changing_&amp;_bathing--diapers,...                                          -0.000706                                     \n",
       "baby_products--changing_&_bathing--diapers,_wip...                                          -0.000951                                     \n",
       "baby_products--changing_&_bathing--diapers,_wip...                                           1.000000                                     \n",
       "\n",
       "[80 rows x 80 columns]"
      ]
     },
     "execution_count": 77,
     "metadata": {},
     "output_type": "execute_result"
    }
   ],
   "source": [
    "cor = df.corr(numeric_only = True)\n",
    "cor"
   ]
  },
  {
   "cell_type": "code",
   "execution_count": 78,
   "metadata": {},
   "outputs": [],
   "source": [
    "#  saving the cleaned data to csv file\n",
    "df.to_csv(\"cleaned_classification_data.csv\", index = False, encoding =\"utf-8-sig\")"
   ]
  },
  {
   "cell_type": "markdown",
   "metadata": {},
   "source": [
    "# **ML Model Building**"
   ]
  },
  {
   "cell_type": "markdown",
   "metadata": {},
   "source": [
    "* We will be using random forest classifier model to know the feature importance of all features other than \"has_converted\", \"products_array\", \"product_list\" and all the columns of unique_products.\n",
    "* After finding the feature importance we can use the top features which are contributing more for prediction.\n"
   ]
  },
  {
   "cell_type": "code",
   "execution_count": 79,
   "metadata": {},
   "outputs": [],
   "source": [
    "# input feature\n",
    "X = df[df.columns.drop([\"has_converted\", \"products_array\", \"product_list\"]).drop(list(unique_products))]\n",
    "# output feature\n",
    "Y = df[\"has_converted\"]"
   ]
  },
  {
   "cell_type": "code",
   "execution_count": 80,
   "metadata": {},
   "outputs": [
    {
     "data": {
      "text/plain": [
       "(9207, 37)"
      ]
     },
     "execution_count": 80,
     "metadata": {},
     "output_type": "execute_result"
    }
   ],
   "source": [
    "X.shape"
   ]
  },
  {
   "cell_type": "code",
   "execution_count": 81,
   "metadata": {},
   "outputs": [
    {
     "name": "stdout",
     "output_type": "stream",
     "text": [
      "Train MSE: 0.0\n",
      "Train r2_score: 1.0\n"
     ]
    }
   ],
   "source": [
    "from sklearn.ensemble import RandomForestClassifier\n",
    "rf = RandomForestClassifier(random_state = 42)  \n",
    "rf.fit(X, Y)\n",
    "\n",
    "pred_y_train = rf.predict(X)                                                    \n",
    "                                                                                              \n",
    "from sklearn.metrics import mean_squared_error\n",
    "print(\"Train MSE:\", mean_squared_error(Y, pred_y_train))        \n",
    "                                                                                                         \n",
    "from sklearn.metrics import r2_score                                                                        \n",
    "print(\"Train r2_score:\", r2_score(Y, pred_y_train)) "
   ]
  },
  {
   "cell_type": "code",
   "execution_count": 82,
   "metadata": {},
   "outputs": [
    {
     "data": {
      "text/html": [
       "<div>\n",
       "<style scoped>\n",
       "    .dataframe tbody tr th:only-of-type {\n",
       "        vertical-align: middle;\n",
       "    }\n",
       "\n",
       "    .dataframe tbody tr th {\n",
       "        vertical-align: top;\n",
       "    }\n",
       "\n",
       "    .dataframe thead th {\n",
       "        text-align: right;\n",
       "    }\n",
       "</style>\n",
       "<table border=\"1\" class=\"dataframe\">\n",
       "  <thead>\n",
       "    <tr style=\"text-align: right;\">\n",
       "      <th></th>\n",
       "      <th>features</th>\n",
       "      <th>importance</th>\n",
       "    </tr>\n",
       "  </thead>\n",
       "  <tbody>\n",
       "    <tr>\n",
       "      <th>36</th>\n",
       "      <td>transactionRevenue</td>\n",
       "      <td>0.428342</td>\n",
       "    </tr>\n",
       "    <tr>\n",
       "      <th>5</th>\n",
       "      <td>device_operatingSystem</td>\n",
       "      <td>0.114825</td>\n",
       "    </tr>\n",
       "    <tr>\n",
       "      <th>35</th>\n",
       "      <td>time_on_site</td>\n",
       "      <td>0.065478</td>\n",
       "    </tr>\n",
       "    <tr>\n",
       "      <th>16</th>\n",
       "      <td>sessionQualityDim</td>\n",
       "      <td>0.055516</td>\n",
       "    </tr>\n",
       "    <tr>\n",
       "      <th>33</th>\n",
       "      <td>num_interactions</td>\n",
       "      <td>0.039435</td>\n",
       "    </tr>\n",
       "    <tr>\n",
       "      <th>12</th>\n",
       "      <td>historic_session_page</td>\n",
       "      <td>0.037348</td>\n",
       "    </tr>\n",
       "    <tr>\n",
       "      <th>14</th>\n",
       "      <td>avg_session_time_page</td>\n",
       "      <td>0.027873</td>\n",
       "    </tr>\n",
       "    <tr>\n",
       "      <th>15</th>\n",
       "      <td>single_page_rate</td>\n",
       "      <td>0.027723</td>\n",
       "    </tr>\n",
       "    <tr>\n",
       "      <th>1</th>\n",
       "      <td>count_hit</td>\n",
       "      <td>0.024924</td>\n",
       "    </tr>\n",
       "    <tr>\n",
       "      <th>13</th>\n",
       "      <td>avg_session_time</td>\n",
       "      <td>0.017842</td>\n",
       "    </tr>\n",
       "    <tr>\n",
       "      <th>23</th>\n",
       "      <td>visits_per_day</td>\n",
       "      <td>0.016021</td>\n",
       "    </tr>\n",
       "    <tr>\n",
       "      <th>11</th>\n",
       "      <td>historic_session</td>\n",
       "      <td>0.013899</td>\n",
       "    </tr>\n",
       "    <tr>\n",
       "      <th>18</th>\n",
       "      <td>latest_visit_number</td>\n",
       "      <td>0.012755</td>\n",
       "    </tr>\n",
       "    <tr>\n",
       "      <th>19</th>\n",
       "      <td>time_earliest_visit</td>\n",
       "      <td>0.011860</td>\n",
       "    </tr>\n",
       "    <tr>\n",
       "      <th>20</th>\n",
       "      <td>time_latest_visit</td>\n",
       "      <td>0.011211</td>\n",
       "    </tr>\n",
       "    <tr>\n",
       "      <th>17</th>\n",
       "      <td>earliest_visit_number</td>\n",
       "      <td>0.011132</td>\n",
       "    </tr>\n",
       "    <tr>\n",
       "      <th>25</th>\n",
       "      <td>earliest_source</td>\n",
       "      <td>0.009887</td>\n",
       "    </tr>\n",
       "    <tr>\n",
       "      <th>30</th>\n",
       "      <td>latest_keyword</td>\n",
       "      <td>0.009852</td>\n",
       "    </tr>\n",
       "    <tr>\n",
       "      <th>0</th>\n",
       "      <td>count_session</td>\n",
       "      <td>0.009798</td>\n",
       "    </tr>\n",
       "    <tr>\n",
       "      <th>29</th>\n",
       "      <td>earliest_keyword</td>\n",
       "      <td>0.009317</td>\n",
       "    </tr>\n",
       "  </tbody>\n",
       "</table>\n",
       "</div>"
      ],
      "text/plain": [
       "                  features  importance\n",
       "36      transactionRevenue    0.428342\n",
       "5   device_operatingSystem    0.114825\n",
       "35            time_on_site    0.065478\n",
       "16       sessionQualityDim    0.055516\n",
       "33        num_interactions    0.039435\n",
       "12   historic_session_page    0.037348\n",
       "14   avg_session_time_page    0.027873\n",
       "15        single_page_rate    0.027723\n",
       "1                count_hit    0.024924\n",
       "13        avg_session_time    0.017842\n",
       "23          visits_per_day    0.016021\n",
       "11        historic_session    0.013899\n",
       "18     latest_visit_number    0.012755\n",
       "19     time_earliest_visit    0.011860\n",
       "20       time_latest_visit    0.011211\n",
       "17   earliest_visit_number    0.011132\n",
       "25         earliest_source    0.009887\n",
       "30          latest_keyword    0.009852\n",
       "0            count_session    0.009798\n",
       "29        earliest_keyword    0.009317"
      ]
     },
     "execution_count": 82,
     "metadata": {},
     "output_type": "execute_result"
    }
   ],
   "source": [
    "# feature importances (top 20)\n",
    "fea_imp = pd.DataFrame(list(zip(X.columns, rf.feature_importances_)), columns = [\"features\", \"importance\"]).sort_values(\"importance\", ascending = False)\n",
    "fea_imp.iloc[0:20, :]"
   ]
  },
  {
   "cell_type": "code",
   "execution_count": 83,
   "metadata": {},
   "outputs": [
    {
     "data": {
      "text/plain": [
       "['transactionRevenue',\n",
       " 'device_operatingSystem',\n",
       " 'time_on_site',\n",
       " 'sessionQualityDim']"
      ]
     },
     "execution_count": 83,
     "metadata": {},
     "output_type": "execute_result"
    }
   ],
   "source": [
    "# selecting those features which are greater than the threshold value of 0.05 \n",
    "columns = fea_imp[\"features\"][fea_imp[\"importance\"] > 0.05].to_list()\n",
    "columns"
   ]
  },
  {
   "cell_type": "code",
   "execution_count": 84,
   "metadata": {},
   "outputs": [
    {
     "data": {
      "text/plain": [
       "['transactionRevenue',\n",
       " 'device_operatingSystem',\n",
       " 'time_on_site',\n",
       " 'sessionQualityDim',\n",
       " 'food_cupboard--tins,_jars_&_packets--powdered_milk',\n",
       " 'baby_products--milk,_food_&_juices--baby_&_toddler_formula--baby_formula_(1-6_years)',\n",
       " 'baby_products--milk,_food_&_juices--juices_&_beverages',\n",
       " 'nonfood',\n",
       " 'baby_products--milk,_food_&amp;_juices--baby_&amp;_toddler_formula--baby_formula_(6-12_months)',\n",
       " 'Changing_&_Bathing',\n",
       " 'baby_products--changing_&amp;_bathing--diapers,_wipes_&amp;_diaper_cream--baby_wipes_family_pack',\n",
       " 'baby_products--changing_&_bathing--diapers,_wipes_&_diaper_cream--baby_wipes_single_piece',\n",
       " 'Baby_Products',\n",
       " 'fresh_food--dairy_&_eggs--yoghurt--probiotic_yoghurt',\n",
       " 'Baby_Pants',\n",
       " 'Baby Products--Changing &amp; Bathing--Pull-ups &amp; Swimming Pants--Baby Pants',\n",
       " 'Baby_and_Personal_Care',\n",
       " 'baby_products--changing_&_bathing--pull-ups_&_swimming_pants--baby_pants',\n",
       " 'Baby_Products--Changing_&amp;amp;_Bathing--Diapers,_Wipes_&amp;amp;_Diaper_Cream--Baby_Diapers',\n",
       " 'baby_products--milk,_food_&amp;_juices--baby_&amp;_toddler_formula--baby_formula_(1-6_years)',\n",
       " 'baby_products--milk,_food_&amp;_juices--baby_&amp;_toddler_formula--baby_formula_(0-6_months)',\n",
       " 'Baby_Products--Changing_&_Bathing--Diapers,_Wipes_&_Diaper_Cream--Baby_Diapers',\n",
       " 'baby_products--milk,_food_&_juices--baby_&_toddler_formula--baby_formula_(6-12_years)',\n",
       " 'سراويل_الأطفال',\n",
       " 'fresh_food--dairy_&_eggs--cheese_&_labneh--labneh',\n",
       " 'حفاضات_اطفال',\n",
       " 'baby_products--milk,_food_&_juices--baby_&_toddler_formula--baby_formula_(6-12_months)',\n",
       " 'Baby_Diapers',\n",
       " 'baby_products--changing_&amp;_bathing--pull-ups_&amp;_swimming_pants--baby_pants',\n",
       " 'non_food',\n",
       " 'baby_products--changing_&_bathing--diapers,_wipes_&_diaper_cream--natural_baby_diapers',\n",
       " 'food',\n",
       " 'Bulk_Savings',\n",
       " 'food_cupboard--tins,_jars_&amp;_packets--powdered_milk',\n",
       " 'Diapers,_Wipes_&_Diaper_Cream',\n",
       " 'baby_products--milk,_food_&_juices--baby_&_toddler_formula--baby_formula_(0-6_months)',\n",
       " 'baby_products--changing_&_bathing--pull-ups_&_swimming_pants--baby_swimming',\n",
       " '(not set)',\n",
       " 'Baby Products--Changing &amp; Bathing--Diapers, Wipes &amp; Diaper Cream--Baby Diapers',\n",
       " 'Pull-ups_&_Swimming_Pants',\n",
       " 'baby_products--changing_&_bathing--diapers,_wipes_&_diaper_cream--baby_diapers',\n",
       " 'baby_products--changing_&amp;_bathing--diapers,_wipes_&amp;_diaper_cream--baby_diapers',\n",
       " 'baby_products--changing_&_bathing--diapers,_wipes_&_diaper_cream--baby_wipes_family_pack',\n",
       " 'baby_products--changing_&_bathing--diapers,_wipes_&_diaper_cream--natural_baby_wipes']"
      ]
     },
     "execution_count": 84,
     "metadata": {},
     "output_type": "execute_result"
    }
   ],
   "source": [
    "# then, adding the unique product columns to the top features\n",
    "columns.extend(unique_products)\n",
    "columns"
   ]
  },
  {
   "cell_type": "code",
   "execution_count": 85,
   "metadata": {},
   "outputs": [],
   "source": [
    "# input feature\n",
    "X = df[columns]\n",
    "# output feature\n",
    "Y = df[\"has_converted\"]"
   ]
  },
  {
   "cell_type": "code",
   "execution_count": 86,
   "metadata": {},
   "outputs": [],
   "source": [
    "# Train_test_split for model training and model evaluation (train - 70% and test - 30%)\n",
    "from sklearn.model_selection import train_test_split\n",
    "X_train, X_test, Y_train, Y_test = train_test_split(X, Y, test_size = 0.3, random_state = 42)"
   ]
  },
  {
   "cell_type": "code",
   "execution_count": 87,
   "metadata": {},
   "outputs": [
    {
     "name": "stdout",
     "output_type": "stream",
     "text": [
      "Algorithm: XGBClassifier\n",
      "Train accuracy: 1.0 -----> Test accuracy: 0.9952949692363373\n",
      "\n",
      "\n",
      "Algorithm: RandomForestClassifier\n",
      "Train accuracy: 1.0 -----> Test accuracy: 0.995656894679696\n",
      "\n",
      "\n",
      "Algorithm: LogisticRegression\n",
      "Train accuracy: 0.9989137181874612 -----> Test accuracy: 0.9985522982265653\n",
      "\n",
      "\n"
     ]
    }
   ],
   "source": [
    "from xgboost import XGBClassifier\n",
    "from sklearn.ensemble import RandomForestClassifier\n",
    "from sklearn.linear_model import LogisticRegression\n",
    "\n",
    "# standard scaling\n",
    "from sklearn.preprocessing import StandardScaler\n",
    "ss = StandardScaler()\n",
    "S_X_train = ss.fit_transform(X_train)\n",
    "S_X_test = ss.transform(X_test)\n",
    "\n",
    "# algorithms\n",
    "algorithms = [XGBClassifier, RandomForestClassifier, LogisticRegression]\n",
    "\n",
    "for i in algorithms:\n",
    "    model = i()\n",
    "    model.fit(S_X_train, Y_train)\n",
    "\n",
    "    pred_y_train = model.predict(S_X_train)\n",
    "    pred_y_test = model.predict(S_X_test)\n",
    "\n",
    "    print(\"Algorithm:\", i.__name__)\n",
    "    \n",
    "    from sklearn.metrics import accuracy_score\n",
    "    print(\"Train accuracy:\", accuracy_score(Y_train, pred_y_train),\"----->\", \"Test accuracy:\", accuracy_score(Y_test, pred_y_test))         \n",
    "    print(\"\\n\")"
   ]
  },
  {
   "cell_type": "markdown",
   "metadata": {},
   "source": [
    "**selecting the logistic regression model as it is having higher test accuracy than the other models**"
   ]
  },
  {
   "cell_type": "markdown",
   "metadata": {},
   "source": [
    "cross validation for logistic regression model"
   ]
  },
  {
   "cell_type": "code",
   "execution_count": 88,
   "metadata": {},
   "outputs": [
    {
     "name": "stdout",
     "output_type": "stream",
     "text": [
      "[0.99728556 0.99837134 1.         0.99782727 1.        ] \n",
      "------------------------------\n",
      "Avg_5_folds:  0.9986968324937882\n"
     ]
    }
   ],
   "source": [
    "# cross validation\n",
    "from sklearn.model_selection import StratifiedKFold, cross_val_score\n",
    "skf = StratifiedKFold(n_splits = 5)\n",
    "\n",
    "from sklearn.linear_model import LogisticRegression\n",
    "lr = LogisticRegression()\n",
    "\n",
    "from sklearn.preprocessing import StandardScaler\n",
    "ss = StandardScaler()\n",
    "S_X = ss.fit_transform(X)\n",
    "\n",
    "results = cross_val_score(lr, S_X, Y, cv = skf, scoring = 'accuracy')\n",
    "print(results, '\\n------------------------------\\nAvg_5_folds: ', results.mean())"
   ]
  },
  {
   "cell_type": "markdown",
   "metadata": {},
   "source": [
    "**Training the best model (logistic regression model)**"
   ]
  },
  {
   "cell_type": "code",
   "execution_count": 89,
   "metadata": {},
   "outputs": [
    {
     "name": "stdout",
     "output_type": "stream",
     "text": [
      "Train accuracy: 0.9989137181874612\n",
      "Test accuracy : 0.9985522982265653\n"
     ]
    }
   ],
   "source": [
    "from sklearn.linear_model import LogisticRegression\n",
    "lr = LogisticRegression()\n",
    "\n",
    "from sklearn.preprocessing import StandardScaler\n",
    "ss = StandardScaler()\n",
    "S_X_train = ss.fit_transform(X_train)\n",
    "S_X_test = ss.transform(X_test)\n",
    "\n",
    "lr.fit(S_X_train, Y_train)\n",
    "\n",
    "pred_y_train = lr.predict(S_X_train)\n",
    "pred_y_test = lr.predict(S_X_test)\n",
    "\n",
    "from sklearn.metrics import accuracy_score\n",
    "print(\"Train accuracy:\", accuracy_score(Y_train, pred_y_train))\n",
    "print(\"Test accuracy :\", accuracy_score(Y_test, pred_y_test))"
   ]
  },
  {
   "cell_type": "code",
   "execution_count": 90,
   "metadata": {},
   "outputs": [
    {
     "data": {
      "text/plain": [
       "array([[1566,    0],\n",
       "       [   4, 1193]], dtype=int64)"
      ]
     },
     "execution_count": 90,
     "metadata": {},
     "output_type": "execute_result"
    }
   ],
   "source": [
    "# confusion matrix\n",
    "from sklearn.metrics import confusion_matrix\n",
    "confusion_matrix(Y_test, pred_y_test)"
   ]
  },
  {
   "cell_type": "code",
   "execution_count": 91,
   "metadata": {},
   "outputs": [
    {
     "name": "stdout",
     "output_type": "stream",
     "text": [
      "Precision: 1.0\n",
      "Recall   : 0.9966583124477861\n",
      "F1-Score : 0.998326359832636\n"
     ]
    }
   ],
   "source": [
    "# precision, recall and f1 score\n",
    "from sklearn.metrics import precision_score\n",
    "from sklearn.metrics import recall_score\n",
    "from sklearn.metrics import f1_score\n",
    "\n",
    "print(\"Precision:\", precision_score(Y_test, pred_y_test))\n",
    "print(\"Recall   :\", recall_score(Y_test, pred_y_test))\n",
    "print(\"F1-Score :\", f1_score(Y_test, pred_y_test))"
   ]
  },
  {
   "cell_type": "markdown",
   "metadata": {},
   "source": [
    "# saving the best model (logistic regression model)"
   ]
  },
  {
   "cell_type": "code",
   "execution_count": 92,
   "metadata": {},
   "outputs": [],
   "source": [
    "with open(\"logistic_reg_model.pkl\", \"wb\") as file:\n",
    "    pickle.dump(lr, file)"
   ]
  },
  {
   "cell_type": "markdown",
   "metadata": {},
   "source": [
    "# saving the standard scaler model"
   ]
  },
  {
   "cell_type": "code",
   "execution_count": 93,
   "metadata": {},
   "outputs": [],
   "source": [
    "with open(\"standard_scaler.pkl\", \"wb\") as file:\n",
    "    pickle.dump(ss, file)"
   ]
  },
  {
   "cell_type": "code",
   "execution_count": null,
   "metadata": {},
   "outputs": [],
   "source": []
  }
 ],
 "metadata": {
  "kernelspec": {
   "display_name": ".venv_fp",
   "language": "python",
   "name": "python3"
  },
  "language_info": {
   "codemirror_mode": {
    "name": "ipython",
    "version": 3
   },
   "file_extension": ".py",
   "mimetype": "text/x-python",
   "name": "python",
   "nbconvert_exporter": "python",
   "pygments_lexer": "ipython3",
   "version": "3.12.0"
  }
 },
 "nbformat": 4,
 "nbformat_minor": 2
}
